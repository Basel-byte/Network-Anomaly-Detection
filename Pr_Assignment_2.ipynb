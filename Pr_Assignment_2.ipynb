{
  "nbformat": 4,
  "nbformat_minor": 0,
  "metadata": {
    "colab": {
      "provenance": []
    },
    "kernelspec": {
      "name": "python3",
      "display_name": "Python 3"
    },
    "language_info": {
      "name": "python"
    }
  },
  "cells": [
    {
      "cell_type": "markdown",
      "metadata": {
        "id": "view-in-github"
      },
      "source": [
        "<a href=\"https://colab.research.google.com/github/Basel-byte/Network-Anomaly-Detection/blob/main/Pr_Assignment_2.ipynb\" target=\"_parent\"><img src=\"https://colab.research.google.com/assets/colab-badge.svg\" alt=\"Open In Colab\"/></a>"
      ]
    },
    {
      "cell_type": "markdown",
      "source": [
        "# Practice Lab: Clustering  \n",
        "\n",
        "In this exercise, we will know how K-Means and Normalized Cut algorithms can be used for network anomaly detection.\n",
        "\n",
        "# Outline\n",
        "- [ 1 - Extracting Dataset](#1)\n",
        "- [ 2 - Packages ](#2)\n",
        "- [ 3 - Reading data and Preprocessing](#3)\n",
        "  - [3.1 Reading Columns' Names](#3.1)\n",
        "  - [3.2 Reading dataset](#3.2)\n",
        "  - [3.3 Removing class column](#3.3)\n",
        "  - [3.4 Changing Categorical features to numericals](#3.4)\n",
        "  \n",
        "   \n",
        "- [ 4 - K-means](#4)\n",
        "- [ 5 - Spectral Clustering](#5)\n",
        "  - [5.1 Getting Laplacian and Degree Matrices](#5.1)\n",
        "  - [5.2 Spectral Clustering Algorithm](#5.2)\n",
        "- [ 6 - New Clustering Algorithm](#6)\n",
        "- [ 7 - Clustering Evaluation](#7)\n",
        "  - [ 7.1 - Getting Predicted labels](#7.1)\n",
        "  - [ 7.2 - Precision Measure](#7.2)\n",
        "  - [ 7.3 - Recall Measure](#7.3)\n",
        "  - [ 7.4 - F1 Measure](#7.4)\n",
        "  - [ 7.5 - Entropy Measure](#7.5)\n",
        "  \n",
        "\n",
        "  "
      ],
      "metadata": {
        "id": "rA6RmzKXUtpw"
      }
    },
    {
      "cell_type": "markdown",
      "source": [
        "<a name=\"1\"></a>\n",
        "## 1 - Extracting Dataset"
      ],
      "metadata": {
        "id": "bCvocyZI206f"
      }
    },
    {
      "cell_type": "code",
      "source": [
        "from google.colab import drive\n",
        "drive.mount('/content/drive')"
      ],
      "metadata": {
        "id": "5d5fTIlGDE6j",
        "outputId": "7c20f3ba-c7ed-4e04-ecc0-ddbeae1f0dbe",
        "colab": {
          "base_uri": "https://localhost:8080/"
        },
        "pycharm": {
          "is_executing": true
        }
      },
      "execution_count": 1,
      "outputs": [
        {
          "output_type": "stream",
          "name": "stdout",
          "text": [
            "Drive already mounted at /content/drive; to attempt to forcibly remount, call drive.mount(\"/content/drive\", force_remount=True).\n"
          ]
        }
      ]
    },
    {
      "cell_type": "code",
      "source": [
        "# do not run if you have unzipped the dataset\n",
        "!gzip -d /content/drive/MyDrive/kddcup.data.gz\n",
        "!gzip -d /content/drive/MyDrive/corrected.gz"
      ],
      "metadata": {
        "id": "FkFm0EkaZNP-",
        "colab": {
          "base_uri": "https://localhost:8080/"
        },
        "outputId": "c30b7b38-9704-4511-df09-b9bc5ab4dce3"
      },
      "execution_count": 2,
      "outputs": [
        {
          "output_type": "stream",
          "name": "stdout",
          "text": [
            "gzip: /content/drive/MyDrive/kddcup.data.gz: No such file or directory\n",
            "gzip: /content/drive/MyDrive/corrected.gz: No such file or directory\n"
          ]
        }
      ]
    },
    {
      "cell_type": "markdown",
      "source": [
        "<a name=\"2\"></a>\n",
        "## 2 - Packages \n",
        "\n",
        "First, let's run the cell below to import all the packages that you will need during this assignment.\n",
        "- [numpy](https://numpy.org/) is the fundamental package for scientific computing with Python.\n",
        "<!-- - [matplotlib](http://matplotlib.org) is a popular library to plot graphs in Python. -->\n",
        "<!-- - [tensorflow](https://www.tensorflow.org/) a popular platform for machine learning. -->\n",
        "- [pandas](https://pandas.pydata.org/) is open source data analysis and manipulation tool."
      ],
      "metadata": {
        "id": "nDbrePFpVTBq"
      }
    },
    {
      "cell_type": "code",
      "execution_count": 1,
      "metadata": {
        "id": "2tTmV2lQUsuN"
      },
      "outputs": [],
      "source": [
        "import numpy as np\n",
        "import pandas as pd\n",
        "import os\n",
        "import requests\n",
        "from enum import Enum\n",
        "import re\n",
        "from sklearn.model_selection import train_test_split\n",
        "from sklearn.metrics.pairwise import rbf_kernel\n",
        "from scipy.linalg import eigh\n",
        "from scipy.stats import mode\n",
        "from sklearn.cluster import KMeans"
      ]
    },
    {
      "cell_type": "markdown",
      "source": [
        "<a name=\"3\"></a>\n",
        "## 3 - Reading data and Preprocessing"
      ],
      "metadata": {
        "id": "QMgrr6i6WguO"
      }
    },
    {
      "cell_type": "markdown",
      "source": [
        "<a name=\"3.1\"></a>\n",
        "#### Reading columns' names "
      ],
      "metadata": {
        "id": "ENPDaqPivF6N"
      }
    },
    {
      "cell_type": "code",
      "source": [
        "DATASET_COLUMNS_FILE = \"/content/drive/MyDrive/kddcup1999_columns.txt\"\n",
        "column_types =[]\n",
        "\n",
        "with open(DATASET_COLUMNS_FILE, 'r') as file:\n",
        "    column_labels: str = file.read()\n",
        "\n",
        "column_regex: re.Pattern = re.compile(r\"^(?P<column_name>\\w+): (?P<data_type>\\w+)\\.$\")\n",
        "for column_type in column_labels.splitlines()[:]:\n",
        "    match = column_regex.match(column_type)\n",
        "    column_types.append(match.group(\"column_name\"))\n",
        "del column_labels"
      ],
      "metadata": {
        "id": "CL5Dg8HyctXU"
      },
      "execution_count": 2,
      "outputs": []
    },
    {
      "cell_type": "markdown",
      "source": [
        "<a name=\"3.2\"></a>\n",
        "#### Reading the training dataset"
      ],
      "metadata": {
        "id": "tFA3LIyQvOoR"
      }
    },
    {
      "cell_type": "code",
      "source": [
        "data = pd.read_csv(\"/content/drive/MyDrive/kddcup.data\", header=None)\n",
        "data.columns = column_types"
      ],
      "metadata": {
        "id": "VsdDQ3NzjWGx"
      },
      "execution_count": 3,
      "outputs": []
    },
    {
      "cell_type": "markdown",
      "source": [
        "<a name=\"3.3\"></a>\n",
        "#### Removing class column"
      ],
      "metadata": {
        "id": "Y3IBQQcqvW6a"
      }
    },
    {
      "cell_type": "code",
      "source": [
        "data_without_labels = data.drop(columns=[\"class\"])\n",
        "labels = data[\"class\"]\n",
        "del data\n",
        "del column_types"
      ],
      "metadata": {
        "id": "cfCpzpa7jsq8"
      },
      "execution_count": 4,
      "outputs": []
    },
    {
      "cell_type": "markdown",
      "source": [
        "<a name=\"3.4\"></a>\n",
        "### Change the categorical features to numericals"
      ],
      "metadata": {
        "id": "gefly5ZsvhUx"
      }
    },
    {
      "cell_type": "code",
      "source": [
        "def convert_string_to_numeric(data_frame):\n",
        "  # df_copy = data_frame.copy()\n",
        "  for col in data_frame:\n",
        "    if data_frame[col].dtypes == object:\n",
        "      my_dict = {elem: index for index, elem in enumerate(data_frame[col].unique())}\n",
        "      data_frame[col].replace(my_dict, inplace=True)\n",
        "  return data_frame"
      ],
      "metadata": {
        "id": "U-ctoA6ApH4a"
      },
      "execution_count": 5,
      "outputs": []
    },
    {
      "cell_type": "code",
      "source": [
        "def convert_string_to_binary_numeric(data_frame):\n",
        "  # df_copy = data_frame.copy()\n",
        "  for col in data_frame:\n",
        "    if data_frame[col].dtypes == object:\n",
        "      df1 = pd.get_dummies(data_frame[col])\n",
        "      data_frame = pd.concat([data_frame, df1], axis=1).reindex(data_frame.index)\n",
        "      data_frame.drop(col, axis=1, inplace=True)\n",
        "  return data_frame"
      ],
      "metadata": {
        "id": "J1ozKFVvCMZ0"
      },
      "execution_count": 6,
      "outputs": []
    },
    {
      "cell_type": "code",
      "source": [
        "# use either of them but not both\n",
        "# convert_string_to_numeric(data_without_labels.copy())\n",
        "\n",
        "data_without_labels = convert_string_to_binary_numeric(data_without_labels).values.astype(np.float32)"
      ],
      "metadata": {
        "id": "GWiaHM6REUUs"
      },
      "execution_count": 7,
      "outputs": []
    },
    {
      "cell_type": "markdown",
      "source": [
        "<a name=\"4\"></a>\n",
        "## 4 - K-means\n",
        "\n"
      ],
      "metadata": {
        "id": "dVHv5bCOwMmR"
      }
    },
    {
      "cell_type": "code",
      "source": [
        "def Kmeans(data_frame_no_label, k = 3):\n",
        "  return "
      ],
      "metadata": {
        "id": "N7ITN6miwTYZ"
      },
      "execution_count": 8,
      "outputs": []
    },
    {
      "cell_type": "markdown",
      "source": [
        "<a name=\"5\"></a>\n",
        "## 5 - Spectral clustering\n"
      ],
      "metadata": {
        "id": "LNl38qw_387c"
      }
    },
    {
      "cell_type": "markdown",
      "source": [
        "<a name=\"5.1\"> </a>\n",
        "### 5.1 Getting Laplacian and Similarity Matrices"
      ],
      "metadata": {
        "id": "0VDGOtaqqRRj"
      }
    },
    {
      "cell_type": "code",
      "source": [
        "def get_laplacian_degree(data_no_label, gamma=0.1):\n",
        "  sim_matrix = rbf_kernel(data_no_label, gamma=gamma)\n",
        "  del data_no_label\n",
        "  sim_matrix = np.add(sim_matrix, np.finfo(sim_matrix.dtype).eps)\n",
        "  np.fill_diagonal(sim_matrix, 0)\n",
        "  deg_matrix = np.sum(sim_matrix, axis=1)\n",
        "  np.fill_diagonal(sim_matrix, deg_matrix)\n",
        "  print(deg_matrix[deg_matrix == 0].shape, np.mean(deg_matrix))\n",
        "  return sim_matrix, np.diag(deg_matrix)"
      ],
      "metadata": {
        "id": "CvAxaiZzqbdU"
      },
      "execution_count": 8,
      "outputs": []
    },
    {
      "cell_type": "markdown",
      "source": [
        "<a name=\"5.2\"></a>\n",
        "### 5.2 Spectral Clustering Algorithm"
      ],
      "metadata": {
        "id": "orAwg9iFGhZU"
      }
    },
    {
      "cell_type": "code",
      "source": [
        "def spectral_clustering(data_no_label, k = 3):\n",
        "  data_no_label, dummy = train_test_split(data_no_label, train_size=0.0015, random_state=42, stratify=labels)\n",
        "  del dummy\n",
        "  laplacian_mat, degree_mat = get_laplacian_degree(data_no_label) # deg_mat is a vector\n",
        "  eigenvalues, eigenvectors = eigh(laplacian_mat, degree_mat)\n",
        "  del eigenvalues\n",
        "  eigenvectors = eigenvectors[:, :k] / np.linalg.norm(eigenvectors[:, :k], ord=2, axis=1, keepdims=True)\n",
        "  # to use the implemented kmeans, remove the next 3 lines and use the commented one\n",
        "  kmeans = KMeans(n_clusters=k)\n",
        "  kmeans.fit(eigenvectors)\n",
        "  return kmeans.labels_\n",
        "  # return Kmeans(eigenvectors, k)"
      ],
      "metadata": {
        "id": "KzXTLxZQDRwR"
      },
      "execution_count": 9,
      "outputs": []
    },
    {
      "cell_type": "markdown",
      "source": [
        "<a name=\"6\"></a> \n",
        "## 6-  New Clustering Algorithm"
      ],
      "metadata": {
        "id": "yY2uwUxKCJEb"
      }
    },
    {
      "cell_type": "code",
      "source": [
        "# def new_clustering_algorithm(data_frame_no_label, k = 3):\n",
        "  "
      ],
      "metadata": {
        "id": "PxogUrTMCY_T"
      },
      "execution_count": 10,
      "outputs": []
    },
    {
      "cell_type": "markdown",
      "source": [
        "<a name=\"7\"></a>\n",
        "## 7- Clustering Evaluation"
      ],
      "metadata": {
        "id": "105ONBP6CZbx"
      }
    },
    {
      "cell_type": "markdown",
      "source": [
        "<a name=\"7.1\"></a>\n",
        "### 7.1 - getting predicted labels"
      ],
      "metadata": {
        "id": "PFYw4NR0mV8r"
      }
    },
    {
      "cell_type": "code",
      "source": [
        "c_labels = spectral_clustering(data_without_labels, 11)\n",
        "unique_elements, counts = np.unique(c_labels, return_counts=True)\n",
        "print(unique_elements, counts)"
      ],
      "metadata": {
        "colab": {
          "base_uri": "https://localhost:8080/"
        },
        "id": "FK1tBbVuom1y",
        "outputId": "663359e2-3ea7-487a-f1fa-c8551990ff2d"
      },
      "execution_count": 10,
      "outputs": [
        {
          "output_type": "stream",
          "name": "stdout",
          "text": [
            "(0,) 1511.485\n"
          ]
        },
        {
          "output_type": "stream",
          "name": "stderr",
          "text": [
            "/usr/local/lib/python3.9/dist-packages/sklearn/cluster/_kmeans.py:870: FutureWarning: The default value of `n_init` will change from 10 to 'auto' in 1.4. Set the value of `n_init` explicitly to suppress the warning\n",
            "  warnings.warn(\n"
          ]
        },
        {
          "output_type": "stream",
          "name": "stdout",
          "text": [
            "[ 0  1  2  3  4  5  6  7  8  9 10] [ 713 1003 1268 1823  299  335  365  334  339  443  425]\n"
          ]
        }
      ]
    },
    {
      "cell_type": "code",
      "source": [
        "# run this line in spectral clustering \n",
        "labels = train_test_split(labels, train_size=0.0015, random_state=42, stratify=labels)[0]\n",
        "labels = convert_string_to_numeric(pd.DataFrame(labels)).values\n",
        "labels = labels.reshape(labels.size)\n",
        "counts = np.unique(labels, return_counts=True)[1]"
      ],
      "metadata": {
        "id": "GuKFNtuTCjmp"
      },
      "execution_count": 11,
      "outputs": []
    },
    {
      "cell_type": "markdown",
      "source": [
        "<a name=\"7.2\"></a>\n",
        "### 7.2 - Recall Measure\n"
      ],
      "metadata": {
        "id": "dnyEgXUXpFcs"
      }
    },
    {
      "cell_type": "code",
      "source": [
        "def measure_recall(real_labels, predicted_labels):\n",
        "  sum = 0;\n",
        "  unique_predic = np.unique(predicted_labels)\n",
        "  for c_label in unique_predic:\n",
        "    cluster = real_labels[np.array(np.where(predicted_labels == c_label)[0].tolist())]\n",
        "    major_class = mode(cluster, axis=None, keepdims=True)\n",
        "    print(major_class.count[0] / counts[major_class.mode[0]])\n",
        "    sum += major_class.count[0] / counts[major_class.mode[0]]\n",
        "  return sum / unique_predic.size\n",
        "\n",
        "print(measure_recall(labels, c_labels))"
      ],
      "metadata": {
        "id": "w9UIahaWw2kx",
        "colab": {
          "base_uri": "https://localhost:8080/"
        },
        "outputId": "230cf7f4-39a7-43fe-ba23-ee5716c5d4f8"
      },
      "execution_count": 12,
      "outputs": [
        {
          "output_type": "stream",
          "name": "stdout",
          "text": [
            "0.13892187128947994\n",
            "0.22892424602232248\n",
            "0.8259081562714188\n",
            "0.4210401329850392\n",
            "0.15609452736318408\n",
            "0.13121890547263682\n",
            "0.16480099502487564\n",
            "0.06388031346473522\n",
            "0.14676616915422885\n",
            "0.1890547263681592\n",
            "0.08097838993113275\n",
            "0.23159894848611023\n"
          ]
        }
      ]
    },
    {
      "cell_type": "markdown",
      "source": [
        "<a name=\"7.3\"></a>\n",
        "### 7.3 - Precision Measure"
      ],
      "metadata": {
        "id": "xJ7Pvo0aEhfx"
      }
    },
    {
      "cell_type": "code",
      "source": [
        "def measure_precision(real_labels, predicted_labels):\n",
        "  sum = 0;\n",
        "  unique_predic = np.unique(predicted_labels)\n",
        "  for c_label in unique_predic:\n",
        "    cluster = real_labels[np.array(np.where(predicted_labels == c_label)[0].tolist())]\n",
        "    major_class = mode(cluster, axis=None, keepdims=True)\n",
        "    print(major_class.count[0] / cluster.size)\n",
        "    sum += major_class.count[0] / cluster.size\n",
        "  return sum / unique_predic.size\n",
        "print(measure_precision(labels, c_labels))"
      ],
      "metadata": {
        "colab": {
          "base_uri": "https://localhost:8080/"
        },
        "id": "0Av28cCbFH8l",
        "outputId": "cc9bcee0-e0ac-4572-cb54-51f0d81206c5"
      },
      "execution_count": 13,
      "outputs": [
        {
          "output_type": "stream",
          "name": "stdout",
          "text": [
            "0.820476858345021\n",
            "0.9611166500498505\n",
            "0.9503154574132492\n",
            "0.9725726823916621\n",
            "0.8394648829431438\n",
            "0.6298507462686567\n",
            "0.726027397260274\n",
            "0.8053892215568862\n",
            "0.696165191740413\n",
            "0.6862302483069977\n",
            "0.8023529411764706\n",
            "0.8081783888593297\n"
          ]
        }
      ]
    },
    {
      "cell_type": "markdown",
      "source": [
        "<a name=\"7.4\"></a>\n",
        "### 7.4 F1 Score"
      ],
      "metadata": {
        "id": "vdt7WpjtGxFb"
      }
    },
    {
      "cell_type": "code",
      "source": [
        "def measure_f1(real_labels, predicted_labels):\n",
        "  sum = 0;\n",
        "  unique_predic = np.unique(predicted_labels)\n",
        "  for c_label in unique_predic:\n",
        "    cluster = real_labels[np.array(np.where(predicted_labels == c_label)[0].tolist())]\n",
        "    major_class = mode(cluster, axis=None, keepdims=True)\n",
        "    print(major_class.count[0] / cluster.size, \", \", major_class.count[0] / counts[major_class.mode[0]])\n",
        "    recall = major_class.count[0] / counts[major_class.mode[0]]\n",
        "    precis = major_class.count[0] / cluster.size\n",
        "    sum += (2 * recall * precis) / (recall + precis)\n",
        "  return sum / unique_predic.size\n",
        "print(measure_f1(labels, c_labels))"
      ],
      "metadata": {
        "colab": {
          "base_uri": "https://localhost:8080/"
        },
        "id": "L2XNGyWyG0e-",
        "outputId": "ed87ad47-f8d3-43ba-c5a9-c67f8b197922"
      },
      "execution_count": 14,
      "outputs": [
        {
          "output_type": "stream",
          "name": "stdout",
          "text": [
            "0.820476858345021 ,  0.13892187128947994\n",
            "0.9611166500498505 ,  0.22892424602232248\n",
            "0.9503154574132492 ,  0.8259081562714188\n",
            "0.9725726823916621 ,  0.4210401329850392\n",
            "0.8394648829431438 ,  0.15609452736318408\n",
            "0.6298507462686567 ,  0.13121890547263682\n",
            "0.726027397260274 ,  0.16480099502487564\n",
            "0.8053892215568862 ,  0.06388031346473522\n",
            "0.696165191740413 ,  0.14676616915422885\n",
            "0.6862302483069977 ,  0.1890547263681592\n",
            "0.8023529411764706 ,  0.08097838993113275\n",
            "0.33020125238533315\n"
          ]
        }
      ]
    },
    {
      "cell_type": "markdown",
      "source": [
        "<a name=\"7.5\"></a>\n",
        "### 7.5 Conditional Entropy"
      ],
      "metadata": {
        "id": "SPIX-NOVJVXb"
      }
    },
    {
      "cell_type": "code",
      "source": [
        "def measure_entropy(real_labels, predicted_labels):\n",
        "  unique_predic = np.unique(predicted_labels)\n",
        "  total_entropy = 0\n",
        "  for c_label in unique_predic:\n",
        "    cluster = real_labels[np.array(np.where(predicted_labels == c_label)[0].tolist())]\n",
        "    probs_in_cluster = np.unique(cluster, return_counts = True)[1] / cluster.size\n",
        "    probs_in_cluster = probs_in_cluster * np.log2(probs_in_cluster) \n",
        "    cluster_cond_entropy = -np.sum(probs_in_cluster)\n",
        "    print(cluster_cond_entropy)\n",
        "    total_entropy += (cluster.size / real_labels.size * cluster_cond_entropy)\n",
        "  return total_entropy\n",
        "print(measure_entropy(labels, c_labels))"
      ],
      "metadata": {
        "colab": {
          "base_uri": "https://localhost:8080/"
        },
        "id": "ueV4MvSzJcty",
        "outputId": "8da06291-8a90-4d57-fb77-a6f2cc85aa79"
      },
      "execution_count": 15,
      "outputs": [
        {
          "output_type": "stream",
          "name": "stdout",
          "text": [
            "0.7339641112825588\n",
            "0.2676780789172555\n",
            "0.40371100466932563\n",
            "0.19584011335798077\n",
            "0.7602526629107298\n",
            "1.455922181572364\n",
            "1.3021367217721038\n",
            "0.8455980506040853\n",
            "1.2481424264547125\n",
            "1.3178526112701772\n",
            "0.9086228970510021\n",
            "0.6161116721197659\n"
          ]
        }
      ]
    }
  ]
}