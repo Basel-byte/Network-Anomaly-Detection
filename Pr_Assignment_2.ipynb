{
  "cells": [
    {
      "cell_type": "markdown",
      "metadata": {
        "id": "view-in-github",
        "colab_type": "text"
      },
      "source": [
        "<a href=\"https://colab.research.google.com/github/Basel-byte/Network-Anomaly-Detection/blob/Kmean/Pr_Assignment_2.ipynb\" target=\"_parent\"><img src=\"https://colab.research.google.com/assets/colab-badge.svg\" alt=\"Open In Colab\"/></a>"
      ]
    },
    {
      "cell_type": "markdown",
      "metadata": {
        "id": "rA6RmzKXUtpw"
      },
      "source": [
        "# Practice Lab: Clustering  \n",
        "\n",
        "In this exercise, we will know how K-Means and Normalized Cut algorithms can be used for network anomaly detection.\n",
        "\n",
        "# Outline\n",
        "- [ 1 - Extracting Dataset](#1)\n",
        "- [ 2 - Packages ](#2)\n",
        "- [ 3 - Reading data and Preprocessing](#3)\n",
        "  - [3.1 Reading Columns' Names](#3.1)\n",
        "  - [3.2 Reading dataset](#3.2)\n",
        "  - [3.3 Removing class column](#3.3)\n",
        "  - [3.4 Changing Categorical features to numericals](#3.4)\n",
        "- [ 4 - K-means](#4)\n",
        "- [ 5 - Spectral Clustering](#5)\n",
        "  - [5.1 Getting Laplacian and Degree Matrices](#5.1)\n",
        "  - [5.2 Spectral Clustering Algorithm](#5.2)\n",
        "- [ 6 - New Clustering Algorithm](#6)\n",
        "- [ 7 - Clustering Evaluation](#7)\n",
        "  - [ 7.1 - Getting Predicted labels](#7.1)\n",
        "  - [ 7.2 - Precision Measure](#7.2)\n",
        "  - [ 7.3 - Recall Measure](#7.3)\n",
        "  - [ 7.4 - F1 Measure](#7.4)\n",
        "  - [ 7.5 - Entropy Measure](#7.5)\n",
        "  \n",
        "\n",
        "  "
      ]
    },
    {
      "cell_type": "markdown",
      "metadata": {
        "id": "sOUsKnN3y8sh"
      },
      "source": [
        "<a name=\"1\"></a>\n",
        "## 1 - Extracting Dataset"
      ]
    },
    {
      "cell_type": "code",
      "execution_count": null,
      "metadata": {
        "colab": {
          "base_uri": "https://localhost:8080/"
        },
        "id": "5d5fTIlGDE6j",
        "outputId": "71c1c5df-4839-47be-9278-7875a2f7913b"
      },
      "outputs": [
        {
          "name": "stdout",
          "output_type": "stream",
          "text": [
            "Drive already mounted at /content/drive; to attempt to forcibly remount, call drive.mount(\"/content/drive\", force_remount=True).\n"
          ]
        }
      ],
      "source": [
        "from google.colab import drive\n",
        "drive.mount('/content/drive')"
      ]
    },
    {
      "cell_type": "code",
      "execution_count": null,
      "metadata": {
        "colab": {
          "base_uri": "https://localhost:8080/"
        },
        "id": "FkFm0EkaZNP-",
        "outputId": "560204f4-e5d7-4aa5-97fc-bdb016ee8b63"
      },
      "outputs": [
        {
          "name": "stdout",
          "output_type": "stream",
          "text": [
            "gzip: /content/drive/MyDrive/kddcup.data.gz: No such file or directory\n"
          ]
        }
      ],
      "source": [
        "!gzip -d /content/drive/MyDrive/kddcup.data.gz"
      ]
    },
    {
      "cell_type": "markdown",
      "metadata": {
        "id": "nDbrePFpVTBq"
      },
      "source": [
        "<a name=\"2\"></a>\n",
        "## 2 - Packages \n",
        "\n",
        "First, let's run the cell below to import all the packages that you will need during this assignment.\n",
        "- [numpy](https://numpy.org/) is the fundamental package for scientific computing with Python.\n",
        "<!-- - [matplotlib](http://matplotlib.org) is a popular library to plot graphs in Python. -->\n",
        "<!-- - [tensorflow](https://www.tensorflow.org/) a popular platform for machine learning. -->\n",
        "- [pandas](https://pandas.pydata.org/) is open source data analysis and manipulation tool."
      ]
    },
    {
      "cell_type": "code",
      "execution_count": null,
      "metadata": {
        "id": "2tTmV2lQUsuN"
      },
      "outputs": [],
      "source": [
        "import matplotlib.pyplot as plt\n",
        "import numpy as np\n",
        "import pandas as pd\n",
        "import re\n",
        "import time\n",
        "from scipy.spatial.distance import cdist\n",
        "import random\n",
        "from sklearn.model_selection import train_test_split\n",
        "from sklearn.metrics.pairwise import rbf_kernel\n",
        "from scipy.linalg import eigh\n",
        "from scipy.stats import mode\n",
        "from sklearn.metrics.pairwise import pairwise_distances\n",
        "from sklearn.cluster import KMeans\n",
        "from scipy.spatial import KDTree"
      ]
    },
    {
      "cell_type": "markdown",
      "metadata": {
        "id": "QMgrr6i6WguO"
      },
      "source": [
        "<a name=\"3\"></a>\n",
        "## 3 - Reading data and Preprocessing"
      ]
    },
    {
      "cell_type": "markdown",
      "metadata": {
        "id": "ENPDaqPivF6N"
      },
      "source": [
        "<a name=\"3.1\"></a>\n",
        "#### Reading columns' names "
      ]
    },
    {
      "cell_type": "code",
      "execution_count": null,
      "metadata": {
        "id": "CL5Dg8HyctXU"
      },
      "outputs": [],
      "source": [
        "DATASET_COLUMNS_FILE = \"/home/elsaber/pr assign/cluster/kddcup1999_columns.txt\"\n",
        "column_types =[]\n",
        "\n",
        "with open(DATASET_COLUMNS_FILE, 'r') as file:\n",
        "    column_labels: str = file.read()\n",
        "\n",
        "column_regex: re.Pattern = re.compile(r\"^(?P<column_name>\\w+): (?P<data_type>\\w+)\\.$\")\n",
        "for column_type in column_labels.splitlines()[:]:\n",
        "    match = column_regex.match(column_type)\n",
        "    column_types.append(match.group(\"column_name\"))\n",
        "del column_labels\n"
      ]
    },
    {
      "cell_type": "markdown",
      "metadata": {
        "id": "tFA3LIyQvOoR"
      },
      "source": [
        "<a name=\"3.2\"></a>\n",
        "#### Reading the training dataset"
      ]
    },
    {
      "cell_type": "code",
      "execution_count": null,
      "metadata": {
        "id": "VsdDQ3NzjWGx"
      },
      "outputs": [],
      "source": [
        "data = pd.read_csv(\"/home/elsaber/pr assign/cluster/kddcup.data.corrected\", header=None)\n",
        "data.columns = column_types"
      ]
    },
    {
      "cell_type": "markdown",
      "metadata": {
        "id": "Y3IBQQcqvW6a"
      },
      "source": [
        "<a name=\"3.3\"></a>\n",
        "#### Removing class column"
      ]
    },
    {
      "cell_type": "code",
      "execution_count": null,
      "metadata": {
        "id": "cfCpzpa7jsq8"
      },
      "outputs": [],
      "source": [
        "data_without_labels = data.drop(columns=[\"class\"])\n",
        "labels = data[\"class\"]\n",
        "del data\n",
        "del column_types"
      ]
    },
    {
      "cell_type": "markdown",
      "metadata": {
        "id": "gefly5ZsvhUx"
      },
      "source": [
        "<a name=\"3.4\"></a>\n",
        "### Change the categorical features to numericals"
      ]
    },
    {
      "cell_type": "code",
      "execution_count": null,
      "metadata": {
        "id": "U-ctoA6ApH4a"
      },
      "outputs": [],
      "source": [
        "def convert_string_to_numeric(data_frame):\n",
        "  # df_copy = data_frame.copy()\n",
        "  my_dict = None\n",
        "  for col in data_frame:\n",
        "    if data_frame[col].dtypes == object:\n",
        "      my_dict = {elem: index for index, elem in enumerate(data_frame[col].unique())}\n",
        "      data_frame[col].replace(my_dict, inplace=True)\n",
        "  return data_frame, my_dict"
      ]
    },
    {
      "cell_type": "code",
      "execution_count": null,
      "metadata": {
        "id": "J1ozKFVvCMZ0"
      },
      "outputs": [],
      "source": [
        "def convert_string_to_binary_numeric(data_frame):\n",
        "  # df_copy = data_frame.copy()\n",
        "  for col in data_frame:\n",
        "    if data_frame[col].dtypes == object:\n",
        "      df1 = pd.get_dummies(data_frame[col])\n",
        "      data_frame = pd.concat([data_frame, df1], axis=1).reindex(data_frame.index)\n",
        "      data_frame.drop(col, axis=1, inplace=True)\n",
        "  return data_frame"
      ]
    },
    {
      "cell_type": "code",
      "execution_count": null,
      "metadata": {
        "id": "GWiaHM6REUUs"
      },
      "outputs": [],
      "source": [
        "# use either of them but not both\n",
        "# convert_string_to_numeric(data_without_labels.copy())\n",
        "\n",
        "data_without_labels = convert_string_to_binary_numeric(data_without_labels).values.astype(np.float32)"
      ]
    },
    {
      "cell_type": "markdown",
      "metadata": {
        "id": "dVHv5bCOwMmR"
      },
      "source": [
        "<a name=\"4\"></a>\n",
        "## 4 - Kmeans\n",
        "\n"
      ]
    },
    {
      "cell_type": "code",
      "execution_count": null,
      "metadata": {
        "id": "6-evvKumE2JK"
      },
      "outputs": [],
      "source": [
        "class new_KMeans:\n",
        "    lables = None\n",
        "    def __init__(self, k=2, max_iter=50,centroids = None):\n",
        "        self.k = k\n",
        "        self.max_iter = max_iter\n",
        "        self.centroids = centroids\n",
        "    def predict(self, array):\n",
        "      distances = cdist(array, self.centroids)\n",
        "      nearest_rows = np.argmin(distances, axis=1)\n",
        "      return nearest_rows\n",
        "\n",
        "    def compute_centroid(self,data_frame):\n",
        "      data_unique = data_frame.values\n",
        "      centroids = np.array([])\n",
        "      shape = (0, data_unique.shape[1])  # 0 rows, 4 columns\n",
        "      # Create empty numpy array\n",
        "      centroids = np.empty(shape)\n",
        "      # random intialization\n",
        "      if self.centroids == None:\n",
        "        while centroids.shape[0] < self.k:\n",
        "          i = random.randint(0,len(data_unique)-1)\n",
        "          centroids = np.vstack([centroids, data_unique[i]])\n",
        "          # print(centroids.shape)\n",
        "          if self.k == centroids.shape[0] :\n",
        "            centroids = np.unique(centroids,axis=0)\n",
        "        iter = 0\n",
        "      nearest_rows = np.zeros((data_unique.shape[0]))\n",
        "      while True:\n",
        "        iter += 1\n",
        "        distances = cdist(data_unique, centroids)\n",
        "        # Find index of row with minimum distance for each row of arr1\n",
        "        old_nearest = nearest_rows\n",
        "        nearest_rows = np.argmin(distances, axis=1)\n",
        "        clustering  = [[] for _ in range(self.k)]\n",
        "        print(nearest_rows)\n",
        "        # for i in range(len(nearest_rows)):\n",
        "        #   clustering[nearest_rows[i]].append(data_unique[i])\n",
        "        # old_centroids = centroids\n",
        "        # centroids = np.empty(shape)\n",
        "        # for i in clustering:\n",
        "        #   new_centroid = np.mean(i, axis=0)\n",
        "        #   centroids = np.vstack([centroids, new_centroid])\n",
        "        old_centroids = centroids\n",
        "        centroids = np.array([data_unique[nearest_rows == j].mean(axis=0) for j in range(self.k)])\n",
        "        diff = np.abs(old_centroids - centroids)\n",
        "        # print(diff)\n",
        "        # Find the maximum difference\n",
        "        max_diff = np.amax(diff)\n",
        "        diff_near = np.abs(old_nearest - nearest_rows)\n",
        "        diff_near = np.amax(diff_near)\n",
        "        # print(diff)\n",
        "        # Find the maximum difference\n",
        "        max_diff = np.amax(diff)\n",
        "        if max_diff < 1e-10 or diff_near == 0 or iter == self.max_iter:\n",
        "          break\n",
        "      # print(iter)\n",
        "      print(f\"Number of iterations = {iter}\")\n",
        "      return nearest_rows ,centroids\n",
        "    def compute_error(self,data,predictions,centroids):\n",
        "      distances = np.zeros(len(data))\n",
        "      for i, (x, y) in enumerate(zip(data, predictions)):\n",
        "        distances[i] = np.linalg.norm(x - centroids[y])\n",
        "      mean_error = np.mean(distances)\n",
        "      return mean_error\n",
        "    def train(self,data_frame,k = 3):\n",
        "      min_lables,min_centroids = self.compute_centroid(data_frame)\n",
        "      min = self.compute_error(data_frame.values, min_lables, min_centroids)\n",
        "      print(min)\n",
        "      for i in range(1,k):\n",
        "        lables,centroids= self.compute_centroid(data_frame)\n",
        "        error = self.compute_error(data_frame.values, lables, centroids)\n",
        "        if(error < min):\n",
        "          min = error\n",
        "          min_centroids = centroids\n",
        "          min_lables = lables\n",
        "      self.centroids = min_centroids\n",
        "      self.lables = min_lables\n",
        "      return self.lables"
      ]
    },
    {
      "cell_type": "markdown",
      "metadata": {
        "id": "Tg8Pdt9fE2JM"
      },
      "source": [
        "### Testing With diffrent k"
      ]
    },
    {
      "cell_type": "code",
      "execution_count": null,
      "metadata": {
        "id": "nG5huntqE2JM"
      },
      "outputs": [],
      "source": [
        "def test_with_k(K, data_without_strings):\n",
        "    train = new_KMeans(K)\n",
        "    st = time.time()\n",
        "    lables= train.train(data_without_strings)\n",
        "    total_time = time.time() - st\n",
        "    kmean_data_frame = pd.DataFrame(lables)\n",
        "    print(kmean_data_frame)\n",
        "    kmean_data_frame.columns = [\"labels\"]\n",
        "    counts = kmean_data_frame['labels'].value_counts()\n",
        "    print(\"Kmean cluster result\")\n",
        "    print(counts)\n",
        "    print(f\"Time in seconds = {total_time}\")\n",
        "    kmeans = KMeans(n_clusters=K)\n",
        "    # fit the KMeans object to the data\n",
        "    st = time.time()\n",
        "    kmeans.fit(data_without_strings.values)\n",
        "    centroids = kmeans.cluster_centers_\n",
        "    skLearn_labels =kmeans.predict(data_without_strings.values)\n",
        "    total_time = time.time() - st\n",
        "\n",
        "    skLearn_labels_dataFrame = pd.DataFrame(skLearn_labels)\n",
        "    skLearn_labels_dataFrame.columns = [\"labels\"]\n",
        "    dfunique_values = skLearn_labels_dataFrame['labels'].unique()\n",
        "    sklearn_counts = skLearn_labels_dataFrame['labels'].value_counts()\n",
        "    print(\"skLearn function\")\n",
        "    print(sklearn_counts)\n",
        "    print(f\"Time in seconds = {total_time}\")\n",
        "    return train"
      ]
    },
    {
      "cell_type": "code",
      "execution_count": null,
      "metadata": {
        "id": "EQMty_UmE2JN"
      },
      "outputs": [],
      "source": [
        "\n",
        "\n",
        "DATASET_COLUMNS_FILE = \"/home/elsaber/pr assign/cluster/kddcup1999_columns.txt\"\n",
        "column_types =[]\n",
        "\n",
        "with open(DATASET_COLUMNS_FILE, 'r') as file:\n",
        "    column_labels: str = file.read()\n",
        "\n",
        "column_regex: re.Pattern = re.compile(r\"^(?P<column_name>\\w+): (?P<data_type>\\w+)\\.$\")\n",
        "for column_type in column_labels.splitlines()[:]:\n",
        "    match = column_regex.match(column_type)\n",
        "    column_types.append(match.group(\"column_name\"))\n",
        "\n",
        "\n",
        "\n",
        "data_10 = pd.read_csv(\"/home/elsaber/pr assign/cluster/kddcup.data_10_percent_corrected\", header=None)\n",
        "data_10.columns = column_types\n",
        "\n",
        "\n",
        "data_without_10_labels = data_10.drop(columns=[\"class\"])\n",
        "\n",
        "labels_10 = data_10[\"class\"]\n",
        "data_10_numeric = convert_string_to_binary_numeric(data_without_10_labels)\n",
        "data_10_numeric.insert(44, \"aol\", 0)\n",
        "data_10_numeric.insert(63, \"harvest\", 0)\n",
        "data_10_numeric.insert(66, \"http_2784\", 0)\n",
        "data_10_numeric.insert(68, \"http_8001\", 0)\n",
        "\n",
        "\n",
        "\n"
      ]
    },
    {
      "cell_type": "markdown",
      "metadata": {
        "id": "Q8VXxjS_E2JN"
      },
      "source": [
        "#### K = 7"
      ]
    },
    {
      "cell_type": "code",
      "execution_count": null,
      "metadata": {
        "id": "Z1NZqytUE2JO",
        "outputId": "c4884308-561b-4068-fc8b-e0c15f13e8e5"
      },
      "outputs": [
        {
          "name": "stdout",
          "output_type": "stream",
          "text": [
            "[3 3 3 ... 3 3 3]\n",
            "[3 1 1 ... 1 1 1]\n",
            "[1 1 1 ... 1 1 1]\n",
            "[1 2 1 ... 1 1 1]\n",
            "[1 2 2 ... 2 2 2]\n",
            "[1 2 2 ... 2 2 2]\n",
            "[2 2 2 ... 2 2 2]\n",
            "[2 2 2 ... 2 2 2]\n",
            "[2 2 2 ... 2 2 2]\n",
            "[2 2 2 ... 2 2 2]\n",
            "[2 2 2 ... 2 2 2]\n",
            "[2 2 2 ... 2 2 2]\n",
            "[2 2 2 ... 2 2 2]\n",
            "[2 2 2 ... 2 2 2]\n",
            "[2 2 2 ... 2 2 2]\n",
            "[2 2 2 ... 2 2 2]\n",
            "[2 2 2 ... 2 2 2]\n",
            "[2 2 2 ... 2 2 2]\n",
            "[2 2 2 ... 2 2 2]\n",
            "[2 2 2 ... 2 2 2]\n",
            "[2 2 2 ... 2 2 2]\n",
            "[2 2 2 ... 2 2 2]\n",
            "[2 2 2 ... 2 2 2]\n",
            "[2 2 2 ... 2 2 2]\n",
            "[2 2 2 ... 2 2 2]\n",
            "[2 2 2 ... 2 2 2]\n",
            "[2 2 2 ... 2 2 2]\n",
            "[2 2 2 ... 2 2 2]\n",
            "[2 2 2 ... 2 2 2]\n",
            "[2 2 2 ... 2 2 2]\n",
            "[2 2 2 ... 2 2 2]\n",
            "[2 2 2 ... 2 2 2]\n",
            "[2 2 2 ... 2 2 2]\n",
            "Number of iterations = 33\n",
            "1690.0888128996303\n",
            "[2 0 0 ... 0 0 0]\n",
            "[0 0 0 ... 0 0 0]\n",
            "[0 1 0 ... 0 0 0]\n",
            "[0 1 1 ... 1 1 1]\n",
            "[0 1 1 ... 1 1 1]\n",
            "[1 1 1 ... 1 1 1]\n",
            "[1 1 1 ... 1 1 1]\n",
            "[1 1 1 ... 1 1 1]\n",
            "[1 1 1 ... 1 1 1]\n",
            "[1 1 1 ... 1 1 1]\n",
            "[1 1 1 ... 1 1 1]\n",
            "[1 1 1 ... 1 1 1]\n",
            "[1 4 1 ... 1 1 1]\n",
            "[1 4 4 ... 4 4 4]\n",
            "[1 4 4 ... 4 4 4]\n",
            "[4 4 4 ... 4 4 4]\n",
            "[4 4 4 ... 4 4 4]\n",
            "[4 4 4 ... 4 4 4]\n",
            "[4 4 4 ... 4 4 4]\n",
            "[4 4 4 ... 4 4 4]\n",
            "[4 4 4 ... 4 4 4]\n",
            "[4 4 4 ... 4 4 4]\n",
            "[4 4 4 ... 4 4 4]\n",
            "[4 4 4 ... 4 4 4]\n",
            "[4 4 4 ... 4 4 4]\n",
            "[4 4 4 ... 4 4 4]\n",
            "[4 4 4 ... 4 4 4]\n",
            "[4 4 4 ... 4 4 4]\n",
            "[4 4 4 ... 4 4 4]\n",
            "[4 4 4 ... 4 4 4]\n",
            "[4 4 4 ... 4 4 4]\n",
            "[4 4 4 ... 4 4 4]\n",
            "[4 4 4 ... 4 4 4]\n",
            "[4 4 4 ... 4 4 4]\n",
            "[4 4 4 ... 4 4 4]\n",
            "[4 4 4 ... 4 4 4]\n",
            "Number of iterations = 36\n",
            "[4 5 5 ... 5 5 5]\n",
            "[5 5 5 ... 5 5 5]\n",
            "[5 2 2 ... 2 3 2]\n",
            "[5 2 2 ... 2 2 2]\n",
            "[2 2 2 ... 2 2 2]\n",
            "[2 1 2 ... 2 2 2]\n",
            "[2 1 1 ... 1 1 1]\n",
            "[1 1 1 ... 1 1 1]\n",
            "[1 1 1 ... 1 1 1]\n",
            "[1 1 1 ... 1 1 1]\n",
            "[1 1 1 ... 1 1 1]\n",
            "[1 1 1 ... 1 1 1]\n",
            "[1 1 1 ... 1 1 1]\n",
            "[1 1 1 ... 1 1 1]\n",
            "[1 1 1 ... 1 1 1]\n",
            "[1 1 1 ... 1 1 1]\n",
            "[1 1 1 ... 1 1 1]\n",
            "[1 1 1 ... 1 1 1]\n",
            "[1 1 1 ... 1 1 1]\n",
            "[1 1 1 ... 1 1 1]\n",
            "[1 1 1 ... 1 1 1]\n",
            "[1 1 1 ... 1 1 1]\n",
            "[1 1 1 ... 1 1 1]\n",
            "[1 1 1 ... 1 1 1]\n",
            "[1 1 1 ... 1 1 1]\n",
            "[1 1 1 ... 1 1 1]\n",
            "[1 1 1 ... 1 1 1]\n",
            "[1 1 1 ... 1 1 1]\n",
            "[1 1 1 ... 1 1 1]\n",
            "[1 1 1 ... 1 1 1]\n",
            "[1 1 1 ... 1 1 1]\n",
            "[1 1 1 ... 1 1 1]\n",
            "[1 1 1 ... 1 1 1]\n",
            "[1 1 1 ... 1 1 1]\n",
            "Number of iterations = 34\n",
            "        0\n",
            "0       4\n",
            "1       4\n",
            "2       4\n",
            "3       4\n",
            "4       4\n",
            "...    ..\n",
            "494016  4\n",
            "494017  4\n",
            "494018  4\n",
            "494019  4\n",
            "494020  4\n",
            "\n",
            "[494021 rows x 1 columns]\n",
            "Kmean cluster result\n",
            "4    491482\n",
            "5      2341\n",
            "3        82\n",
            "1        76\n",
            "0        21\n",
            "2        18\n",
            "6         1\n",
            "Name: labels, dtype: int64\n",
            "Time in seconds = 103.65036511421204\n"
          ]
        },
        {
          "name": "stderr",
          "output_type": "stream",
          "text": [
            "/home/elsaber/.local/lib/python3.8/site-packages/sklearn/cluster/_kmeans.py:870: FutureWarning: The default value of `n_init` will change from 10 to 'auto' in 1.4. Set the value of `n_init` explicitly to suppress the warning\n",
            "  warnings.warn(\n"
          ]
        },
        {
          "name": "stdout",
          "output_type": "stream",
          "text": [
            "skLearn function\n",
            "0    493821\n",
            "6        77\n",
            "2        59\n",
            "4        24\n",
            "5        21\n",
            "3        18\n",
            "1         1\n",
            "Name: labels, dtype: int64\n",
            "Time in seconds = 14.386155605316162\n"
          ]
        }
      ],
      "source": [
        "kmean_7= test_with_k(7, data_10_numeric)\n"
      ]
    },
    {
      "cell_type": "markdown",
      "metadata": {
        "id": "5AERjJRME2JP"
      },
      "source": [
        "#### K = 15"
      ]
    },
    {
      "cell_type": "code",
      "execution_count": null,
      "metadata": {
        "id": "E5g0_MfHE2JP",
        "outputId": "3094946e-b61e-4af9-a4db-9ebd3d7d1b75"
      },
      "outputs": [
        {
          "name": "stdout",
          "output_type": "stream",
          "text": [
            "[6 6 6 ... 6 7 6]\n",
            "[6 7 7 ... 7 7 7]\n",
            "[7 1 7 ... 7 7 7]\n",
            "[7 1 8 ... 8 8 8]\n",
            "[7 1 8 ... 8 8 8]\n",
            "[8 1 8 ... 8 8 8]\n",
            "[8 1 1 ... 1 1 1]\n",
            "[8 1 1 ... 1 1 1]\n",
            "[8 2 1 ... 1 1 1]\n",
            "[8 2 1 ... 1 1 1]\n",
            "[1 2 1 ... 1 1 1]\n",
            "[1 2 2 ... 2 2 2]\n",
            "[1 2 2 ... 2 2 2]\n",
            "[1 4 2 ... 2 2 2]\n",
            "[1 4 2 ... 2 2 2]\n",
            "[1 4 2 ... 2 2 2]\n",
            "[2 4 2 ... 4 4 4]\n",
            "[2 4 4 ... 4 4 4]\n",
            "[2 4 4 ... 4 4 4]\n",
            "[2 4 4 ... 4 4 4]\n",
            "[2 3 4 ... 4 4 4]\n",
            "[2 3 4 ... 4 4 4]\n",
            "[4 3 4 ... 4 4 4]\n",
            "[4 3 4 ... 3 3 4]\n",
            "[4 3 3 ... 3 3 3]\n",
            "[4 3 3 ... 3 3 3]\n",
            "[4 3 3 ... 3 3 3]\n",
            "[4 3 3 ... 3 3 3]\n",
            "[4 3 3 ... 3 3 3]\n",
            "[4 5 3 ... 3 3 3]\n",
            "[4 5 3 ... 3 3 3]\n",
            "[4 5 3 ... 3 3 3]\n",
            "[4 5 3 ... 3 3 3]\n",
            "[3 5 3 ... 5 5 5]\n",
            "[3 5 5 ... 5 5 5]\n",
            "[3 5 5 ... 5 5 5]\n",
            "[3 5 5 ... 5 5 5]\n",
            "[3 5 5 ... 5 5 5]\n",
            "[3 5 5 ... 5 5 5]\n",
            "[3 5 5 ... 5 5 5]\n",
            "[3 5 5 ... 5 5 5]\n",
            "[3 5 5 ... 5 5 5]\n",
            "[3 5 5 ... 5 5 5]\n",
            "[3 5 5 ... 5 5 5]\n",
            "[3 5 5 ... 5 5 5]\n",
            "[3 5 5 ... 5 5 5]\n",
            "[3 5 5 ... 5 5 5]\n",
            "[3 5 5 ... 5 5 5]\n",
            "[3 5 5 ... 5 5 5]\n",
            "[3 5 5 ... 5 5 5]\n",
            "Number of iterations = 50\n",
            "676.3030804025392\n",
            "[8 7 7 ... 7 7 7]\n",
            "[7 6 7 ... 7 7 7]\n",
            "[7 6 6 ... 6 6 6]\n",
            "[7 6 6 ... 6 6 6]\n",
            "[7 1 6 ... 6 6 6]\n",
            "[6 1 6 ... 6 6 6]\n",
            "[6 1 1 ... 1 1 1]\n",
            "[6 1 1 ... 1 1 1]\n",
            "[6 2 1 ... 1 1 1]\n",
            "[1 2 1 ... 1 1 1]\n",
            "[1 2 1 ... 2 2 2]\n",
            "[1 2 2 ... 2 2 2]\n",
            "[1 2 2 ... 2 2 2]\n",
            "[1 3 2 ... 2 2 2]\n",
            "[1 3 2 ... 2 2 2]\n",
            "[2 3 2 ... 2 2 2]\n",
            "[2 3 3 ... 3 3 3]\n",
            "[2 3 3 ... 3 3 3]\n",
            "[2 3 3 ... 3 3 3]\n",
            "[2 4 3 ... 3 3 3]\n",
            "[2 4 3 ... 3 3 3]\n",
            "[2 4 3 ... 3 3 3]\n",
            "[3 4 3 ... 3 3 3]\n",
            "[3 4 3 ... 4 4 4]\n",
            "[3 4 4 ... 4 4 4]\n",
            "[3 4 4 ... 4 4 4]\n",
            "[3 4 4 ... 4 4 4]\n",
            "[3 4 4 ... 4 4 4]\n",
            "[3 5 4 ... 4 4 4]\n",
            "[3 5 4 ... 4 4 4]\n",
            "[3 5 4 ... 4 4 4]\n",
            "[3 5 4 ... 4 4 4]\n",
            "[4 5 4 ... 4 4 4]\n",
            "[4 5 4 ... 5 5 5]\n",
            "[4 5 5 ... 5 5 5]\n",
            "[4 5 5 ... 5 5 5]\n",
            "[4 5 5 ... 5 5 5]\n",
            "[4 5 5 ... 5 5 5]\n",
            "[4 5 5 ... 5 5 5]\n",
            "[4 5 5 ... 5 5 5]\n",
            "[4 5 5 ... 5 5 5]\n",
            "[4 5 5 ... 5 5 5]\n",
            "[4 5 5 ... 5 5 5]\n",
            "[4 5 5 ... 5 5 5]\n",
            "[4 5 5 ... 5 5 5]\n",
            "[4 5 5 ... 5 5 5]\n",
            "[4 5 5 ... 5 5 5]\n",
            "[4 5 5 ... 5 5 5]\n",
            "[4 5 5 ... 5 5 5]\n",
            "[4 5 5 ... 5 5 5]\n",
            "Number of iterations = 50\n",
            "[ 9 11 11 ... 11 11 11]\n",
            "[10  6 11 ... 11 11 11]\n",
            "[10  6 11 ... 11 11 11]\n",
            "[11  0 11 ... 11 11 11]\n",
            "[11  0  0 ...  0  0  0]\n",
            "[11  0  0 ...  0  0  0]\n",
            "[11  1  0 ...  0  0  0]\n",
            "[11  1  0 ...  0  0  0]\n",
            "[0 1 0 ... 1 1 0]\n",
            "[0 1 1 ... 1 1 1]\n",
            "[0 1 1 ... 1 1 1]\n",
            "[0 6 1 ... 1 1 1]\n",
            "[0 6 1 ... 1 1 1]\n",
            "[0 6 1 ... 1 1 1]\n",
            "[1 6 6 ... 6 6 6]\n",
            "[1 6 6 ... 6 6 6]\n",
            "[1 6 6 ... 6 6 6]\n",
            "[1 2 6 ... 6 6 6]\n",
            "[1 2 6 ... 6 6 6]\n",
            "[1 2 6 ... 6 6 6]\n",
            "[6 2 2 ... 2 2 2]\n",
            "[6 2 2 ... 2 2 2]\n",
            "[6 2 2 ... 2 2 2]\n",
            "[6 2 2 ... 2 2 2]\n",
            "[6 3 2 ... 2 2 2]\n",
            "[6 3 2 ... 2 2 2]\n",
            "[6 3 2 ... 2 2 2]\n",
            "[6 3 2 ... 2 2 2]\n",
            "[6 3 3 ... 3 3 3]\n",
            "[2 3 3 ... 3 3 3]\n",
            "[2 3 3 ... 3 3 3]\n",
            "[2 3 3 ... 3 3 3]\n",
            "[2 3 3 ... 3 3 3]\n",
            "[2 4 3 ... 3 3 3]\n",
            "[2 4 3 ... 3 3 3]\n",
            "[2 4 3 ... 3 3 3]\n",
            "[2 4 3 ... 3 3 3]\n",
            "[2 4 3 ... 3 3 3]\n",
            "[2 4 3 ... 3 3 3]\n",
            "[2 4 3 ... 3 3 3]\n",
            "[2 4 3 ... 4 4 3]\n",
            "[3 4 3 ... 4 4 4]\n",
            "[3 4 4 ... 4 4 4]\n",
            "[3 4 4 ... 4 4 4]\n",
            "[3 4 4 ... 4 4 4]\n",
            "[3 4 4 ... 4 4 4]\n",
            "[3 4 4 ... 4 4 4]\n",
            "[3 4 4 ... 4 4 4]\n",
            "[3 4 4 ... 4 4 4]\n",
            "[3 4 4 ... 4 4 4]\n",
            "Number of iterations = 50\n",
            "        0\n",
            "0       3\n",
            "1       4\n",
            "2       4\n",
            "3       4\n",
            "4       3\n",
            "...    ..\n",
            "494016  4\n",
            "494017  3\n",
            "494018  4\n",
            "494019  4\n",
            "494020  4\n",
            "\n",
            "[494021 rows x 1 columns]\n",
            "Kmean cluster result\n",
            "5     290845\n",
            "4     171032\n",
            "3      17484\n",
            "2       6316\n",
            "8       3369\n",
            "12      2340\n",
            "6       1726\n",
            "7        574\n",
            "1        137\n",
            "14        82\n",
            "0         59\n",
            "11        21\n",
            "9         18\n",
            "10        17\n",
            "13         1\n",
            "Name: labels, dtype: int64\n",
            "Time in seconds = 200.63592910766602\n"
          ]
        },
        {
          "name": "stderr",
          "output_type": "stream",
          "text": [
            "/home/elsaber/.local/lib/python3.8/site-packages/sklearn/cluster/_kmeans.py:870: FutureWarning: The default value of `n_init` will change from 10 to 'auto' in 1.4. Set the value of `n_init` explicitly to suppress the warning\n",
            "  warnings.warn(\n"
          ]
        },
        {
          "name": "stdout",
          "output_type": "stream",
          "text": [
            "skLearn function\n",
            "0     479890\n",
            "12     10131\n",
            "7       2334\n",
            "11      1434\n",
            "6         72\n",
            "2         59\n",
            "4         24\n",
            "14        22\n",
            "3         16\n",
            "5         12\n",
            "8         11\n",
            "13         8\n",
            "9          5\n",
            "10         2\n",
            "1          1\n",
            "Name: labels, dtype: int64\n",
            "Time in seconds = 30.417884588241577\n"
          ]
        }
      ],
      "source": [
        "kmean_15=test_with_k(15, data_10_numeric)"
      ]
    },
    {
      "cell_type": "markdown",
      "metadata": {
        "id": "AskpaTT5E2JQ"
      },
      "source": [
        "#### K = 23\n"
      ]
    },
    {
      "cell_type": "code",
      "execution_count": null,
      "metadata": {
        "id": "lfszkaUJE2JQ",
        "outputId": "841e7272-e372-4630-8f5a-855d7717ce47"
      },
      "outputs": [
        {
          "name": "stdout",
          "output_type": "stream",
          "text": [
            "[ 9  7 12 ... 12 12 12]\n",
            "[ 9  8 12 ... 12 12 12]\n",
            "[ 9  8 12 ...  8  8 12]\n",
            "[ 9  8 12 ...  8  8  8]\n",
            "[9 8 8 ... 8 8 8]\n",
            "[9 8 8 ... 8 8 8]\n",
            "[12  8  8 ...  8  8  8]\n",
            "[12  6  8 ...  8  8  8]\n",
            "[12  6  8 ...  8  8  8]\n",
            "[12  6  8 ...  8  8  8]\n",
            "[12  6  8 ...  8  8  8]\n",
            "[8 6 6 ... 6 6 6]\n",
            "[8 6 6 ... 6 6 6]\n",
            "[8 6 6 ... 6 6 6]\n",
            "[8 0 6 ... 6 6 6]\n",
            "[8 0 6 ... 6 6 6]\n",
            "[8 0 6 ... 6 6 6]\n",
            "[8 0 6 ... 0 0 0]\n",
            "[6 0 0 ... 0 0 0]\n",
            "[6 0 0 ... 0 0 0]\n",
            "[6 1 0 ... 0 0 0]\n",
            "[6 1 0 ... 0 0 0]\n",
            "[6 1 0 ... 0 0 0]\n",
            "[6 1 0 ... 0 0 0]\n",
            "[6 1 0 ... 0 1 0]\n",
            "[6 1 1 ... 1 1 1]\n",
            "[6 1 1 ... 1 1 1]\n",
            "[0 1 1 ... 1 1 1]\n",
            "[0 2 1 ... 1 1 1]\n",
            "[0 2 1 ... 1 1 1]\n",
            "[0 2 1 ... 1 1 1]\n",
            "[0 2 1 ... 1 1 1]\n",
            "[0 2 1 ... 1 1 1]\n",
            "[0 2 1 ... 2 2 2]\n",
            "[0 2 2 ... 2 2 2]\n",
            "[0 2 2 ... 2 2 2]\n",
            "[0 2 2 ... 2 2 2]\n",
            "[1 2 2 ... 2 2 2]\n",
            "[1 3 2 ... 2 2 2]\n",
            "[1 3 2 ... 2 2 2]\n",
            "[1 3 2 ... 2 2 2]\n",
            "[1 3 2 ... 2 2 2]\n",
            "[1 3 2 ... 2 2 2]\n",
            "[1 3 2 ... 2 2 2]\n",
            "[1 3 2 ... 3 3 3]\n",
            "[1 3 3 ... 3 3 3]\n",
            "[1 3 3 ... 3 3 3]\n",
            "[1 3 3 ... 3 3 3]\n",
            "[1 3 3 ... 3 3 3]\n",
            "[1 3 3 ... 3 3 3]\n",
            "Number of iterations = 50\n",
            "481.2811158295667\n",
            "[11 13 13 ... 13 13 13]\n",
            "[12 13 13 ... 13 13 13]\n",
            "[11  9 13 ... 13 13 13]\n",
            "[11  9 13 ... 13 13 13]\n",
            "[11  9 13 ... 13 13 13]\n",
            "[11  9 13 ... 13 13 13]\n",
            "[13  9  9 ...  9  9  9]\n",
            "[13  9  9 ...  9  9  9]\n",
            "[13  1  9 ...  9  9  9]\n",
            "[13  1  9 ...  9  9  9]\n",
            "[13  1  9 ...  9  9  9]\n",
            "[13  1  9 ...  9  9  9]\n",
            "[9 1 1 ... 1 1 1]\n",
            "[9 1 1 ... 1 1 1]\n",
            "[9 3 1 ... 1 1 1]\n",
            "[9 3 1 ... 1 1 1]\n",
            "[9 3 1 ... 1 1 1]\n",
            "[9 3 1 ... 1 1 1]\n",
            "[1 3 3 ... 3 3 3]\n",
            "[1 3 3 ... 3 3 3]\n",
            "[1 3 3 ... 3 3 3]\n",
            "[1 4 3 ... 3 3 3]\n",
            "[1 4 3 ... 3 3 3]\n",
            "[1 4 3 ... 3 3 3]\n",
            "[1 4 3 ... 3 3 3]\n",
            "[1 4 3 ... 4 4 4]\n",
            "[1 4 4 ... 4 4 4]\n",
            "[3 4 4 ... 4 4 4]\n",
            "[3 4 4 ... 4 4 4]\n",
            "[3 5 4 ... 4 4 4]\n",
            "[3 5 4 ... 4 4 4]\n",
            "[3 5 4 ... 4 4 4]\n",
            "[3 5 4 ... 4 4 4]\n",
            "[3 5 4 ... 4 4 4]\n",
            "[3 5 4 ... 5 5 5]\n",
            "[3 5 5 ... 5 5 5]\n",
            "[3 5 5 ... 5 5 5]\n",
            "[4 5 5 ... 5 5 5]\n",
            "[4 5 5 ... 5 5 5]\n",
            "[4 6 5 ... 5 5 5]\n",
            "[4 6 5 ... 5 5 5]\n",
            "[4 6 5 ... 5 5 5]\n",
            "[4 6 5 ... 5 5 5]\n",
            "[4 6 5 ... 5 5 5]\n",
            "[4 6 5 ... 5 5 5]\n",
            "[4 6 5 ... 6 6 6]\n",
            "[4 6 6 ... 6 6 6]\n",
            "[4 6 6 ... 6 6 6]\n",
            "[4 6 6 ... 6 6 6]\n",
            "[4 6 6 ... 6 6 6]\n",
            "Number of iterations = 50\n",
            "[10 12 10 ...  9  9 10]\n",
            "[ 9 13  9 ...  9  9  9]\n",
            "[ 9 13 12 ... 12 12 12]\n",
            "[ 9 13 12 ... 12 12 12]\n",
            "[12 13 12 ... 12 12 12]\n",
            "[12 13 13 ... 13 13 13]\n",
            "[12 13 13 ... 13 13 13]\n",
            "[12 11 13 ... 13 13 13]\n",
            "[12 11 13 ... 13 13 13]\n",
            "[13 11 11 ... 11 11 11]\n",
            "[13 11 11 ... 11 11 11]\n",
            "[13  4 11 ... 11 11 11]\n",
            "[13  4 11 ... 11 11 11]\n",
            "[13  4 11 ... 11 11 11]\n",
            "[11  4  4 ...  4  4  4]\n",
            "[11  4  4 ...  4  4  4]\n",
            "[11  4  4 ...  4  4  4]\n",
            "[11  0  4 ...  4  4  4]\n",
            "[11  0  4 ...  4  4  4]\n",
            "[11  0  4 ...  4  4  4]\n",
            "[11  0  4 ...  0  0  0]\n",
            "[4 0 0 ... 0 0 0]\n",
            "[4 0 0 ... 0 0 0]\n",
            "[4 0 0 ... 0 0 0]\n",
            "[4 3 0 ... 0 0 0]\n",
            "[4 3 0 ... 0 0 0]\n",
            "[4 3 0 ... 0 0 0]\n",
            "[4 3 0 ... 0 0 0]\n",
            "[4 3 3 ... 3 3 3]\n",
            "[4 3 3 ... 3 3 3]\n",
            "[0 3 3 ... 3 3 3]\n",
            "[0 5 3 ... 3 3 3]\n",
            "[0 5 3 ... 3 3 3]\n",
            "[0 5 3 ... 3 3 3]\n",
            "[0 5 3 ... 3 3 3]\n",
            "[0 5 3 ... 3 3 3]\n",
            "[0 5 3 ... 5 5 5]\n",
            "[0 5 5 ... 5 5 5]\n",
            "[0 5 5 ... 5 5 5]\n",
            "[0 5 5 ... 5 5 5]\n",
            "[3 5 5 ... 5 5 5]\n",
            "[3 6 5 ... 5 5 5]\n",
            "[3 6 5 ... 5 5 5]\n",
            "[3 6 5 ... 5 5 5]\n",
            "[3 6 5 ... 5 5 5]\n",
            "[3 6 5 ... 5 5 5]\n",
            "[3 6 5 ... 5 5 5]\n",
            "[3 6 5 ... 6 6 6]\n",
            "[3 6 6 ... 6 6 6]\n",
            "[3 6 6 ... 6 6 6]\n",
            "Number of iterations = 50\n",
            "        0\n",
            "0       4\n",
            "1       6\n",
            "2       6\n",
            "3       6\n",
            "4       5\n",
            "...    ..\n",
            "494016  5\n",
            "494017  5\n",
            "494018  6\n",
            "494019  6\n",
            "494020  6\n",
            "\n",
            "[494021 rows x 1 columns]\n",
            "Kmean cluster result\n",
            "19    228120\n",
            "7     140481\n",
            "16     40298\n",
            "6      28407\n",
            "5      14842\n",
            "15     12916\n",
            "14      7346\n",
            "4       7304\n",
            "3       3679\n",
            "2       3365\n",
            "17      2303\n",
            "1       1327\n",
            "8       1325\n",
            "18      1137\n",
            "0        574\n",
            "22       298\n",
            "9        107\n",
            "20        82\n",
            "13        54\n",
            "11        20\n",
            "10        18\n",
            "12        17\n",
            "21         1\n",
            "Name: labels, dtype: int64\n",
            "Time in seconds = 255.25517058372498\n"
          ]
        },
        {
          "name": "stderr",
          "output_type": "stream",
          "text": [
            "/home/elsaber/.local/lib/python3.8/site-packages/sklearn/cluster/_kmeans.py:870: FutureWarning: The default value of `n_init` will change from 10 to 'auto' in 1.4. Set the value of `n_init` explicitly to suppress the warning\n",
            "  warnings.warn(\n"
          ]
        },
        {
          "name": "stdout",
          "output_type": "stream",
          "text": [
            "skLearn function\n",
            "0     290613\n",
            "17    185378\n",
            "15     10938\n",
            "11      2716\n",
            "6       2314\n",
            "22      1016\n",
            "16       722\n",
            "14        89\n",
            "2         59\n",
            "9         45\n",
            "4         24\n",
            "18        21\n",
            "13        19\n",
            "3         16\n",
            "19        12\n",
            "5          9\n",
            "12         8\n",
            "21         6\n",
            "8          5\n",
            "7          5\n",
            "20         3\n",
            "10         2\n",
            "1          1\n",
            "Name: labels, dtype: int64\n",
            "Time in seconds = 41.09843111038208\n"
          ]
        }
      ],
      "source": [
        "kmean_23=test_with_k(23, data_10_numeric)"
      ]
    },
    {
      "cell_type": "markdown",
      "metadata": {
        "id": "BC6mivlkE2JQ"
      },
      "source": [
        "#### K = 31\n"
      ]
    },
    {
      "cell_type": "code",
      "execution_count": null,
      "metadata": {
        "id": "iBwc1vucE2JR",
        "outputId": "88f0beff-5f97-4a1a-e44e-0503e5764579"
      },
      "outputs": [
        {
          "name": "stdout",
          "output_type": "stream",
          "text": [
            "[ 9 10 17 ... 17 17 17]\n",
            "[ 8 10 17 ... 17 17 17]\n",
            "[ 8 10 17 ... 17 17 17]\n",
            "[13 10 17 ... 17 17 17]\n",
            "[13 10 17 ... 17 17 17]\n",
            "[13 10 17 ... 17 17 17]\n",
            "[13 10 17 ... 17 17 17]\n",
            "[12 10 17 ... 14 14 14]\n",
            "[12 10 14 ... 14 14 14]\n",
            "[12 10 14 ... 14 14 14]\n",
            "[12 10 14 ... 14 14 14]\n",
            "[17 10 14 ... 14 14 14]\n",
            "[17 10 14 ... 14 14 14]\n",
            "[17 10 14 ... 11 11 11]\n",
            "[17 10 11 ... 11 11 11]\n",
            "[17 10 11 ... 11 11 11]\n",
            "[17 10 11 ... 11 11 11]\n",
            "[14 10 11 ... 11 11 11]\n",
            "[14 10 11 ... 11 11 11]\n",
            "[14 10 11 ... 11 11 11]\n",
            "[14 16 11 ... 10 10 10]\n",
            "[14 16 10 ... 10 10 10]\n",
            "[14 16 10 ... 10 10 10]\n",
            "[14 16 10 ... 10 10 10]\n",
            "[14 16 10 ... 10 10 10]\n",
            "[11 16 10 ... 10 10 10]\n",
            "[11 16 10 ... 10 10 10]\n",
            "[11 16 10 ... 10 10 10]\n",
            "[11 16 10 ... 16 16 16]\n",
            "[11 16 16 ... 16 16 16]\n",
            "[11 15 16 ... 16 16 16]\n",
            "[11 15 16 ... 16 16 16]\n",
            "[11 15 16 ... 16 16 16]\n",
            "[11 15 16 ... 16 16 16]\n",
            "[10 15 16 ... 16 16 16]\n",
            "[10 15 16 ... 16 16 16]\n",
            "[10 15 16 ... 16 16 16]\n",
            "[10 15 16 ... 16 16 16]\n",
            "[10 15 16 ... 15 15 15]\n",
            "[10 15 15 ... 15 15 15]\n",
            "[10 15 15 ... 15 15 15]\n",
            "[10  0 15 ... 15 15 15]\n",
            "[10  0 15 ... 15 15 15]\n",
            "[10  0 15 ... 15 15 15]\n",
            "[10  0 15 ... 15 15 15]\n",
            "[16  0 15 ... 15 15 15]\n",
            "[16  0 15 ... 15 15 15]\n",
            "[16  0 15 ... 15 15 15]\n",
            "[16  0 15 ... 15 15 15]\n",
            "[16  0 15 ... 15 15 15]\n",
            "Number of iterations = 50\n",
            "433.5092115033973\n",
            "[18 15 14 ... 14 14 14]\n",
            "[13 15 19 ... 14 14 14]\n",
            "[13 15 19 ... 14 14 14]\n",
            "[13 15 19 ... 14 14 14]\n",
            "[16 11 19 ... 14 14 14]\n",
            "[16 11 14 ... 14 14 14]\n",
            "[16 11 14 ... 14 14 14]\n",
            "[19 11 14 ... 14 14 14]\n",
            "[19 11 14 ... 14 14 14]\n",
            "[19 11 14 ... 12 12 12]\n",
            "[19 11 12 ... 12 12 12]\n",
            "[19 11 12 ... 12 12 12]\n",
            "[14 11 12 ... 12 12 12]\n",
            "[14 11 12 ... 12 12 12]\n",
            "[14 17 12 ... 12 12 12]\n",
            "[14 17 12 ... 11 11 11]\n",
            "[14 17 11 ... 11 11 11]\n",
            "[14 17 11 ... 11 11 11]\n",
            "[12 17 11 ... 11 11 11]\n",
            "[12 17 11 ... 11 11 11]\n",
            "[12 17 11 ... 11 11 11]\n",
            "[12 17 11 ... 11 11 11]\n",
            "[12 17 11 ... 17 17 11]\n",
            "[12 17 17 ... 17 17 17]\n",
            "[12 17 17 ... 17 17 17]\n",
            "[12  8 17 ... 17 17 17]\n",
            "[11  8 17 ... 17 17 17]\n",
            "[11  8 17 ... 17 17 17]\n",
            "[11  8 17 ... 17 17 17]\n",
            "[11  8 17 ... 17 17 17]\n",
            "[11  8 17 ... 17 17 17]\n",
            "[11  8 17 ...  8  8  8]\n",
            "[11  8  8 ...  8  8  8]\n",
            "[11  8  8 ...  8  8  8]\n",
            "[11  0  8 ...  8  8  8]\n",
            "[11  0  8 ...  8  8  8]\n",
            "[17  0  8 ...  8  8  8]\n",
            "[17  0  8 ...  8  8  8]\n",
            "[17  0  8 ...  8  8  8]\n",
            "[17  0  8 ...  8  8  8]\n",
            "[17  0  8 ...  8  8  8]\n",
            "[17  0  8 ...  0  0  0]\n",
            "[17  0  0 ...  0  0  0]\n",
            "[17  0  0 ...  0  0  0]\n",
            "[17  0  0 ...  0  0  0]\n",
            "[17  4  0 ...  0  0  0]\n",
            "[17  4  0 ...  0  0  0]\n",
            "[17  4  0 ...  0  0  0]\n",
            "[8 4 0 ... 0 0 0]\n",
            "[8 4 0 ... 0 0 0]\n",
            "Number of iterations = 50\n",
            "[18 21 20 ... 20 20 20]\n",
            "[22 21 20 ... 20 20 20]\n",
            "[22 21 20 ... 20 20 20]\n",
            "[22 21 20 ... 20 20 20]\n",
            "[22 21 20 ... 20 20 20]\n",
            "[22 21 20 ... 20 20 20]\n",
            "[22 21 20 ... 20 20 20]\n",
            "[16 21 20 ... 20 20 20]\n",
            "[16 21 20 ... 20 20 20]\n",
            "[16 21 20 ... 20 20 20]\n",
            "[16 21 20 ... 21 21 21]\n",
            "[16 21 21 ... 21 21 21]\n",
            "[16 15 21 ... 21 21 21]\n",
            "[16 15 21 ... 21 21 21]\n",
            "[20 15 21 ... 21 21 21]\n",
            "[20 15 21 ... 21 21 21]\n",
            "[20 15 21 ... 21 21 21]\n",
            "[20 15 21 ... 21 21 21]\n",
            "[20 15 21 ... 21 21 21]\n",
            "[20 15 15 ... 15 15 15]\n",
            "[20 15 15 ... 15 15 15]\n",
            "[20 11 15 ... 15 15 15]\n",
            "[21 11 15 ... 15 15 15]\n",
            "[21 11 15 ... 15 15 15]\n",
            "[21 11 15 ... 15 15 15]\n",
            "[21 11 15 ... 15 15 15]\n",
            "[21 11 15 ... 15 15 15]\n",
            "[21 11 15 ... 11 11 11]\n",
            "[21 11 11 ... 11 11 11]\n",
            "[21 11 11 ... 11 11 11]\n",
            "[21  4 11 ... 11 11 11]\n",
            "[21  4 11 ... 11 11 11]\n",
            "[15  4 11 ... 11 11 11]\n",
            "[15  4 11 ... 11 11 11]\n",
            "[15  4 11 ... 11 11 11]\n",
            "[15  4 11 ... 11 11 11]\n",
            "[15  4 11 ... 11 11 11]\n",
            "[15  4 11 ...  4  4  4]\n",
            "[15  4  4 ...  4  4  4]\n",
            "[15  4  4 ...  4  4  4]\n",
            "[15  5  4 ...  4  4  4]\n",
            "[15  5  4 ...  4  4  4]\n",
            "[15  5  4 ...  4  4  4]\n",
            "[15  5  4 ...  4  4  4]\n",
            "[11  5  4 ...  4  4  4]\n",
            "[11  5  4 ...  4  4  4]\n",
            "[11  5  4 ...  4  4  4]\n",
            "[11  5  4 ...  4  4  4]\n",
            "[11  5  4 ...  5  5  4]\n",
            "[11  5  4 ...  5  5  5]\n",
            "Number of iterations = 50\n",
            "         0\n",
            "0       16\n",
            "1        0\n",
            "2       15\n",
            "3       15\n",
            "4       15\n",
            "...     ..\n",
            "494016  15\n",
            "494017  15\n",
            "494018  15\n",
            "494019  15\n",
            "494020  15\n",
            "\n",
            "[494021 rows x 1 columns]\n",
            "Kmean cluster result\n",
            "28    227869\n",
            "4      59363\n",
            "5      46612\n",
            "24     33986\n",
            "2      30536\n",
            "0      22674\n",
            "15     16833\n",
            "20      8520\n",
            "16      8516\n",
            "22      8008\n",
            "23      6626\n",
            "10      6086\n",
            "21      4182\n",
            "3       3084\n",
            "11      2797\n",
            "30      2271\n",
            "6       1299\n",
            "18      1145\n",
            "14      1008\n",
            "7        738\n",
            "27       711\n",
            "19       565\n",
            "1        209\n",
            "26       105\n",
            "17        88\n",
            "25        82\n",
            "12        52\n",
            "13        20\n",
            "9         18\n",
            "8         17\n",
            "29         1\n",
            "Name: labels, dtype: int64\n",
            "Time in seconds = 284.57035994529724\n"
          ]
        },
        {
          "name": "stderr",
          "output_type": "stream",
          "text": [
            "/home/elsaber/.local/lib/python3.8/site-packages/sklearn/cluster/_kmeans.py:870: FutureWarning: The default value of `n_init` will change from 10 to 'auto' in 1.4. Set the value of `n_init` explicitly to suppress the warning\n",
            "  warnings.warn(\n"
          ]
        },
        {
          "name": "stdout",
          "output_type": "stream",
          "text": [
            "skLearn function\n",
            "0     289944\n",
            "19    163800\n",
            "29     21719\n",
            "15      7344\n",
            "14      3903\n",
            "7       2308\n",
            "30      1479\n",
            "23      1231\n",
            "26      1008\n",
            "11       750\n",
            "18       238\n",
            "16        64\n",
            "2         59\n",
            "24        41\n",
            "4         23\n",
            "17        21\n",
            "3         16\n",
            "6         12\n",
            "21        11\n",
            "13        10\n",
            "12         7\n",
            "10         7\n",
            "27         5\n",
            "5          5\n",
            "8          5\n",
            "25         4\n",
            "22         2\n",
            "9          2\n",
            "1          1\n",
            "20         1\n",
            "28         1\n",
            "Name: labels, dtype: int64\n",
            "Time in seconds = 32.431318521499634\n"
          ]
        }
      ],
      "source": [
        "kmean_31=test_with_k(31, data_10_numeric)"
      ]
    },
    {
      "cell_type": "markdown",
      "metadata": {
        "id": "CWskCQN8E2JR"
      },
      "source": [
        "#### K = 45\n"
      ]
    },
    {
      "cell_type": "code",
      "execution_count": null,
      "metadata": {
        "id": "d72E8iegE2JS",
        "outputId": "62ff803e-6e0b-4054-f973-05b648a89ac9"
      },
      "outputs": [
        {
          "name": "stdout",
          "output_type": "stream",
          "text": [
            "[27 26 29 ... 29 29 29]\n",
            "[27 24 29 ... 29 29 29]\n",
            "[30 24 29 ... 29 29 29]\n",
            "[30 24 29 ... 29 29 29]\n",
            "[30 24 29 ... 29 29 29]\n",
            "[30 24 29 ... 33 33 29]\n",
            "[32 24 29 ... 33 33 33]\n",
            "[32 25 33 ... 33 33 33]\n",
            "[32 25 33 ... 33 33 33]\n",
            "[32 25 33 ... 33 33 33]\n",
            "[32 25 33 ... 33 33 33]\n",
            "[29 25 33 ... 33 33 33]\n",
            "[29 25 33 ... 26 26 26]\n",
            "[29 25 26 ... 26 26 26]\n",
            "[29 25 26 ... 26 26 26]\n",
            "[29 25 26 ... 26 26 26]\n",
            "[33 25 26 ... 26 26 26]\n",
            "[33 22 26 ... 26 26 26]\n",
            "[33 22 26 ... 25 25 25]\n",
            "[33 22 25 ... 25 25 25]\n",
            "[33 22 25 ... 25 25 25]\n",
            "[33 22 25 ... 25 25 25]\n",
            "[33 22 25 ... 25 25 25]\n",
            "[33 22 25 ... 25 25 25]\n",
            "[26 22 25 ... 25 25 25]\n",
            "[26 22 25 ... 25 25 25]\n",
            "[26 22 25 ... 25 25 25]\n",
            "[26 22 25 ... 22 22 22]\n",
            "[26 22 22 ... 22 22 22]\n",
            "[26 21 22 ... 22 22 22]\n",
            "[26 21 22 ... 22 22 22]\n",
            "[26 21 22 ... 22 22 22]\n",
            "[26 21 22 ... 22 22 22]\n",
            "[25 21 22 ... 22 22 22]\n",
            "[25 21 22 ... 22 22 22]\n",
            "[25 21 22 ... 22 22 22]\n",
            "[25 21 22 ... 21 21 21]\n",
            "[25 21 21 ... 21 21 21]\n",
            "[25 20 21 ... 21 21 21]\n",
            "[25 20 21 ... 21 21 21]\n",
            "[25 20 21 ... 21 21 21]\n",
            "[25 20 21 ... 21 21 21]\n",
            "[25 20 21 ... 21 21 21]\n",
            "[25 20 21 ... 21 21 21]\n",
            "[22 20 21 ... 21 21 21]\n",
            "[22 20 21 ... 21 21 21]\n",
            "[22 20 21 ... 20 20 21]\n",
            "[22 20 21 ... 20 20 20]\n",
            "[22  5 20 ... 20 20 20]\n",
            "[22  5 20 ... 20 20 20]\n",
            "Number of iterations = 50\n",
            "410.0420239529881\n",
            "[31 28 21 ... 21 21 21]\n",
            "[22 29 21 ... 21 21 21]\n",
            "[22 29 21 ... 21 21 21]\n",
            "[20 29 30 ... 21 21 21]\n",
            "[20 29 30 ... 21 21 21]\n",
            "[20 29 30 ... 21 21 21]\n",
            "[24 29 30 ... 21 21 21]\n",
            "[24 29 30 ... 21 21 21]\n",
            "[24 29 30 ... 21 21 21]\n",
            "[24 28 30 ... 21 21 21]\n",
            "[24 28 30 ... 21 21 21]\n",
            "[19 28 30 ... 21 21 21]\n",
            "[19 28 30 ... 21 21 21]\n",
            "[19 28 30 ... 21 21 21]\n",
            "[19 28 30 ... 21 21 21]\n",
            "[19 28 30 ... 21 21 21]\n",
            "[27 28 21 ... 21 21 21]\n",
            "[27 28 21 ... 21 21 21]\n",
            "[27 28 21 ... 21 21 21]\n",
            "[27 28 21 ... 21 21 21]\n",
            "[27 28 21 ... 21 21 21]\n",
            "[27 28 21 ... 21 21 21]\n",
            "[18 28 21 ... 21 21 21]\n",
            "[18 28 21 ... 21 21 21]\n",
            "[18 28 21 ... 21 21 21]\n",
            "[18 28 21 ... 25 25 21]\n",
            "[18 28 21 ... 25 25 25]\n",
            "[18 28 21 ... 25 25 25]\n",
            "[18 28 25 ... 25 25 25]\n",
            "[18 23 25 ... 25 25 25]\n",
            "[30 23 25 ... 25 25 25]\n",
            "[30 23 25 ... 25 25 25]\n",
            "[30 23 25 ... 25 25 25]\n",
            "[30 23 25 ... 25 25 25]\n",
            "[30 23 25 ... 25 25 25]\n",
            "[30 23 25 ... 25 25 25]\n",
            "[30 23 25 ... 28 28 28]\n",
            "[30 23 25 ... 28 28 28]\n",
            "[30 23 28 ... 28 28 28]\n",
            "[30 23 28 ... 28 28 28]\n",
            "[21 23 28 ... 28 28 28]\n",
            "[21 23 28 ... 28 28 28]\n",
            "[21 23 28 ... 28 28 28]\n",
            "[21 23 28 ... 28 28 28]\n",
            "[21 23 28 ... 28 28 28]\n",
            "[21 23 28 ... 28 28 28]\n",
            "[21 23 28 ... 28 28 28]\n",
            "[21 23 28 ... 28 28 28]\n",
            "[21 23 28 ... 28 28 28]\n",
            "[21 23 28 ... 28 28 28]\n",
            "Number of iterations = 50\n",
            "[26 30 31 ... 31 31 31]\n",
            "[26 30 31 ... 31 31 31]\n",
            "[26 30 31 ... 31 31 31]\n",
            "[26 25 31 ... 31 31 31]\n",
            "[26 25 31 ... 31 31 31]\n",
            "[26 25 31 ... 31 31 31]\n",
            "[26 25 31 ... 31 31 31]\n",
            "[26 25 31 ... 31 31 31]\n",
            "[26 25 31 ... 31 31 31]\n",
            "[26 27 31 ... 31 31 31]\n",
            "[26 27 31 ... 31 31 31]\n",
            "[26 27 31 ... 31 31 31]\n",
            "[24 27 31 ... 31 31 31]\n",
            "[24 27 31 ... 31 31 31]\n",
            "[24 27 31 ... 31 31 31]\n",
            "[24 27 31 ... 31 31 31]\n",
            "[24 27 31 ... 30 30 31]\n",
            "[24 27 31 ... 30 30 31]\n",
            "[24 27 31 ... 30 30 31]\n",
            "[24 27 31 ... 30 30 30]\n",
            "[24 27 31 ... 30 30 30]\n",
            "[33 27 31 ... 30 30 30]\n",
            "[33 27 31 ... 30 30 30]\n",
            "[33 27 31 ... 30 30 30]\n",
            "[33 27 31 ... 30 30 30]\n",
            "[33 27 31 ... 30 30 30]\n",
            "[33 27 30 ... 30 30 30]\n",
            "[33 27 30 ... 30 30 30]\n",
            "[33 27 30 ... 30 30 30]\n",
            "[33 27 30 ... 30 30 30]\n",
            "[33 27 30 ... 30 30 30]\n",
            "[32 27 30 ... 30 30 30]\n",
            "[32 27 30 ... 30 30 30]\n",
            "[32  5 30 ... 30 30 30]\n",
            "[32  5 30 ... 30 30 30]\n",
            "[32  5 30 ... 30 30 30]\n",
            "[32  5 30 ... 30 30 30]\n",
            "[32  5 30 ... 30 30 30]\n",
            "[32  5 30 ... 30 30 30]\n",
            "[32  5 30 ... 30 30 30]\n",
            "[32  5 30 ... 30 30 30]\n",
            "[32  5 30 ... 30 30 30]\n",
            "[32  5 30 ... 30 30 30]\n",
            "[32  5 30 ...  5  5 30]\n",
            "[32  5 30 ...  5  5  5]\n",
            "[31 16  5 ...  5  5  5]\n",
            "[31 16  5 ...  5  5  5]\n",
            "[31 16  5 ...  5  5  5]\n",
            "[31 16  5 ...  5  5  5]\n",
            "[31 16  5 ...  5  5  5]\n",
            "Number of iterations = 50\n",
            "         0\n",
            "0       31\n",
            "1       16\n",
            "2        5\n",
            "3        5\n",
            "4       30\n",
            "...     ..\n",
            "494016  30\n",
            "494017  30\n",
            "494018   5\n",
            "494019   5\n",
            "494020   5\n",
            "\n",
            "[494021 rows x 1 columns]\n",
            "Kmean cluster result\n",
            "41    227839\n",
            "10     43496\n",
            "39     33986\n",
            "16     16744\n",
            "5      13133\n",
            "30     11327\n",
            "13     11321\n",
            "12     11110\n",
            "17     11078\n",
            "8      10949\n",
            "18     10439\n",
            "7       8187\n",
            "37      7946\n",
            "9       7318\n",
            "14      7107\n",
            "15      6837\n",
            "38      6688\n",
            "31      6322\n",
            "6       5928\n",
            "0       5714\n",
            "32      5121\n",
            "36      4176\n",
            "11      3633\n",
            "33      3087\n",
            "4       2506\n",
            "40      2271\n",
            "27      1910\n",
            "24      1457\n",
            "20      1295\n",
            "19      1288\n",
            "2        891\n",
            "3        772\n",
            "25       681\n",
            "1        495\n",
            "23       297\n",
            "26       280\n",
            "35       106\n",
            "43        82\n",
            "34        61\n",
            "44        45\n",
            "29        42\n",
            "22        20\n",
            "21        18\n",
            "28        17\n",
            "42         1\n",
            "Name: labels, dtype: int64\n",
            "Time in seconds = 353.9607310295105\n"
          ]
        },
        {
          "name": "stderr",
          "output_type": "stream",
          "text": [
            "/home/elsaber/.local/lib/python3.8/site-packages/sklearn/cluster/_kmeans.py:870: FutureWarning: The default value of `n_init` will change from 10 to 'auto' in 1.4. Set the value of `n_init` explicitly to suppress the warning\n",
            "  warnings.warn(\n"
          ]
        },
        {
          "name": "stdout",
          "output_type": "stream",
          "text": [
            "skLearn function\n",
            "33    236991\n",
            "25    156989\n",
            "6      52793\n",
            "22     20649\n",
            "40      7390\n",
            "0       4393\n",
            "44      3086\n",
            "43      3032\n",
            "10      2211\n",
            "21      1724\n",
            "23      1274\n",
            "41      1017\n",
            "38       787\n",
            "15       633\n",
            "20       268\n",
            "27       223\n",
            "35       123\n",
            "39       104\n",
            "2         59\n",
            "14        50\n",
            "37        35\n",
            "7         31\n",
            "28        27\n",
            "4         23\n",
            "24        17\n",
            "3         16\n",
            "32        11\n",
            "13        11\n",
            "26        10\n",
            "16         7\n",
            "29         5\n",
            "34         4\n",
            "5          4\n",
            "8          4\n",
            "12         4\n",
            "36         3\n",
            "17         3\n",
            "19         2\n",
            "11         2\n",
            "42         1\n",
            "1          1\n",
            "9          1\n",
            "30         1\n",
            "18         1\n",
            "31         1\n",
            "Name: labels, dtype: int64\n",
            "Time in seconds = 49.024847984313965\n"
          ]
        }
      ],
      "source": [
        "kmean_45=test_with_k(45, data_10_numeric)"
      ]
    },
    {
      "cell_type": "markdown",
      "metadata": {
        "id": "LNl38qw_387c"
      },
      "source": [
        "<a name=\"5\"></a>\n",
        "## 5 - Spectral clustering\n"
      ]
    },
    {
      "cell_type": "markdown",
      "metadata": {
        "id": "0VDGOtaqqRRj"
      },
      "source": [
        "<a name=\"5.1\"> </a>\n",
        "### 5.1 Getting Laplacian and Similarity Matrices"
      ]
    },
    {
      "cell_type": "code",
      "execution_count": null,
      "metadata": {
        "id": "CvAxaiZzqbdU"
      },
      "outputs": [],
      "source": [
        "def get_laplacian_degree(data_no_label, gamma=0.1):\n",
        "  sim_matrix = rbf_kernel(data_no_label, gamma=gamma)\n",
        "  del data_no_label\n",
        "  sim_matrix = np.add(sim_matrix, np.finfo(sim_matrix.dtype).eps)\n",
        "  np.fill_diagonal(sim_matrix, 0)\n",
        "  deg_matrix = np.sum(sim_matrix, axis=1)\n",
        "  np.fill_diagonal(sim_matrix, deg_matrix)\n",
        "  print(deg_matrix[deg_matrix == 0].shape, np.mean(deg_matrix))\n",
        "  return sim_matrix, np.diag(deg_matrix)"
      ]
    },
    {
      "cell_type": "markdown",
      "metadata": {
        "id": "orAwg9iFGhZU"
      },
      "source": [
        "<a name=\"5.2\"></a>\n",
        "### 5.2 Spectral Clustering Algorithm"
      ]
    },
    {
      "cell_type": "code",
      "execution_count": null,
      "metadata": {
        "id": "KzXTLxZQDRwR"
      },
      "outputs": [],
      "source": [
        "def spectral_clustering(data_no_label, k = 3):\n",
        "  data_no_label, dummy = train_test_split(data_no_label, train_size=0.0015, random_state=42, stratify=labels)\n",
        "  del dummy\n",
        "  laplacian_mat, degree_mat = get_laplacian_degree(data_no_label) # deg_mat is a vector\n",
        "  eigenvalues, eigenvectors = eigh(laplacian_mat, degree_mat)\n",
        "  del eigenvalues\n",
        "  eigenvectors = eigenvectors[:, :k] / np.linalg.norm(eigenvectors[:, :k], ord=2, axis=1, keepdims=True)\n",
        "  # to use the implemented kmeans, remove the next 3 lines and use the commented one\n",
        "  kmeans = KMeans(n_clusters=k)\n",
        "  kmeans.fit(eigenvectors)\n",
        "  return kmeans.labels_\n",
        "  # return Kmeans(eigenvectors, k)"
      ]
    },
    {
      "cell_type": "markdown",
      "metadata": {
        "id": "_ykSchMwFiz_"
      },
      "source": [
        "<a name=\"6\"></a>\n",
        "## 6 - New Clustering Algorithm (Density-Based Spatial Clustering for Applications with Noise (DBSCAN))\n"
      ]
    },
    {
      "cell_type": "code",
      "execution_count": null,
      "metadata": {
        "id": "r85yZrBRFiz_"
      },
      "outputs": [],
      "source": [
        "\n",
        "def nearby_points_indices(D, point, epsilon, tree):\n",
        "  nearby_points_indices = tree.query_ball_point(point, epsilon)\n",
        "  return nearby_points_indices"
      ]
    },
    {
      "cell_type": "code",
      "execution_count": null,
      "metadata": {
        "id": "ATe2DF5kFiz_"
      },
      "outputs": [],
      "source": [
        "\n",
        "\n",
        "def DBSCAN(D, epsilon, min_points=4):\n",
        "  tree = KDTree(D)\n",
        "  clusters = 0\n",
        "  assignments = np.zeros(D.shape[0], dtype=np.int32)\n",
        "  visited = [False] * D.shape[0]\n",
        "  for i in range(D.shape[0]):\n",
        "    if not visited[i]:\n",
        "      visited[i] = True\n",
        "      neighbor_indices = nearby_points_indices(D, D[i], epsilon, tree)\n",
        "      if len(neighbor_indices) > min_points:\n",
        "        clusters += 1\n",
        "        D[i] = clusters\n",
        "        expand_cluster(D, D[i], neighbor_indices, clusters, visited, assignments, tree, epsilon, min_points)\n",
        "  return assignments\n",
        "     \n"
      ]
    },
    {
      "cell_type": "code",
      "execution_count": null,
      "metadata": {
        "id": "i7g2_iPRFi0A"
      },
      "outputs": [],
      "source": [
        "def expand_cluster(D, point, neighbor_indices, clusters, visited, assignments, tree, epsilon, min_points):\n",
        "  for neighbor_index in neighbor_indices:\n",
        "    if not visited[neighbor_index]:\n",
        "      visited[neighbor_index] = True\n",
        "      neighbors_of_neighbor = nearby_points_indices(D, D[neighbor_index], epsilon, tree) \n",
        "      if len(neighbors_of_neighbor) > min_points:\n",
        "        neighbor_indices.extend(neighbors_of_neighbor)\n",
        "    if assignments[neighbor_index] == 0:\n",
        "      assignments[neighbor_index] = clusters"
      ]
    },
    {
      "cell_type": "code",
      "execution_count": null,
      "metadata": {
        "id": "OhIqKZbnFi0A",
        "outputId": "d5dd98ab-dea1-4ac7-cf52-d07073d8eed8"
      },
      "outputs": [
        {
          "data": {
            "image/png": "[encoded data removed]",
            "text/plain": [
              "<Figure size 640x480 with 1 Axes>"
            ]
          },
          "metadata": {},
          "output_type": "display_data"
        },
        {
          "data": {
            "text/plain": [
              "1827.2766"
            ]
          },
          "execution_count": 22,
          "metadata": {},
          "output_type": "execute_result"
        }
      ],
      "source": [
        "slice = 10000\n",
        "data = np.array(data_without_labels[:slice])\n",
        "distances = pairwise_distances(data)\n",
        "k_nearest_distances = distances[:, 4]\n",
        "k_nearest_distances = np.sort(k_nearest_distances)\n",
        "x = np.arange(0, slice);\n",
        "plt.plot(x, k_nearest_distances)\n",
        "plt.xlabel(\"points sorted according to 5th kneighbor distance\")\n",
        "plt.ylabel(\"5th kneighbor distance\")\n",
        "plt.show()\n",
        "np.average(k_nearest_distances[:9000])"
      ]
    },
    {
      "cell_type": "code",
      "execution_count": null,
      "metadata": {
        "id": "1yxz0Fe8Fi0B",
        "outputId": "1b51b4f7-00c3-49c6-9436-6a97a2986d62"
      },
      "outputs": [
        {
          "name": "stdout",
          "output_type": "stream",
          "text": [
            "f-score = 0.2378003130385976\n",
            "precision = 0.9857033924243117\n"
          ]
        }
      ],
      "source": [
        "\n",
        "\n",
        "labels_m = train_test_split(labels, train_size=0.0015, random_state=42, stratify=labels)[0]\n",
        "data_m = train_test_split(data_without_labels, train_size=0.0015, random_state=42, stratify=labels)[0]\n",
        "labels_m, dict = convert_string_to_numeric(pd.DataFrame(labels_m))\n",
        "labels_m = labels_m.values\n",
        "labels_m = labels_m.reshape(labels_m.size)\n",
        "counts = np.unique(labels_m, return_counts=True)[1]\n",
        "dict = {value: key for key, value in dict.items()}\n",
        "pred_labels = DBSCAN(np.array(data_m), epsilon=100, min_points=5)\n",
        "dBSC = []\n",
        "precision,_ = measure_precision(labels_m, pred_labels, dict)\n",
        "recall = measure_recall(labels_m, pred_labels, counts)\n",
        "f = measure_f1(labels_m, pred_labels, counts)\n",
        "entropy = measure_entropy(labels_m, pred_labels);\n",
        "dBSC.append(precision)\n",
        "dBSC.append(recall)\n",
        "dBSC.append(f)\n",
        "dBSC.append(entropy)\n",
        "result[\"DBSCAN\"] = dBSC\n",
        "print(\"f-score =\", f)\n",
        "print(\"precision =\",precision)\n",
        "     \n"
      ]
    },
    {
      "cell_type": "code",
      "execution_count": null,
      "metadata": {
        "id": "LmnkStfLFi0B"
      },
      "outputs": [],
      "source": [
        "def find_best_epsilon(data, labels):\n",
        "  epsion = 100\n",
        "  max_f1_score = 0\n",
        "  for e in range(100, 2000, 100):\n",
        "    pred_labels = DBSCAN(data, epsilon=e, min_points=5)\n",
        "    f1 = measure_f1(labels, pred_labels, counts)\n",
        "    if f1 > max_f1_score:\n",
        "      max_f1_score = f1\n",
        "      epsilon = e\n",
        "  return epsion\n",
        "\n",
        "epsion = find_best_epsilon(np.array(data_m), labels_m)"
      ]
    },
    {
      "cell_type": "markdown",
      "metadata": {
        "id": "105ONBP6CZbx"
      },
      "source": [
        "<a name=\"7\"></a>\n",
        "## 7- Clustering Evaluation"
      ]
    },
    {
      "cell_type": "markdown",
      "metadata": {
        "id": "PFYw4NR0mV8r"
      },
      "source": [
        "<a name=\"7.1\"></a>\n",
        "### 7.1 - getting predicted labels"
      ]
    },
    {
      "cell_type": "code",
      "execution_count": null,
      "metadata": {
        "id": "Fv_U5ADrFi0C"
      },
      "outputs": [],
      "source": [
        "result = pd.DataFrame()"
      ]
    },
    {
      "cell_type": "code",
      "execution_count": null,
      "metadata": {
        "colab": {
          "base_uri": "https://localhost:8080/"
        },
        "id": "FK1tBbVuom1y",
        "outputId": "c400331f-f402-4043-9938-0092f810684f"
      },
      "outputs": [
        {
          "name": "stdout",
          "output_type": "stream",
          "text": [
            "(0,) 1511.485\n"
          ]
        },
        {
          "name": "stderr",
          "output_type": "stream",
          "text": [
            "/home/elsaber/.local/lib/python3.8/site-packages/sklearn/cluster/_kmeans.py:870: FutureWarning: The default value of `n_init` will change from 10 to 'auto' in 1.4. Set the value of `n_init` explicitly to suppress the warning\n",
            "  warnings.warn(\n"
          ]
        },
        {
          "name": "stdout",
          "output_type": "stream",
          "text": [
            "[ 0  1  2  3  4  5  6  7  8  9 10] [ 542  919 1301 1431  441  306  364  421  618  670  334]\n"
          ]
        }
      ],
      "source": [
        "c_labels = spectral_clustering(data_without_labels, 11)\n",
        "unique_elements, counts = np.unique(c_labels, return_counts=True)\n",
        "print(unique_elements, counts)"
      ]
    },
    {
      "cell_type": "code",
      "execution_count": null,
      "metadata": {
        "id": "GuKFNtuTCjmp"
      },
      "outputs": [],
      "source": [
        "# run this line in spectral clustering \n",
        "labels_m = train_test_split(labels, train_size=0.0015, random_state=42, stratify=labels)[0]\n",
        "labels_m, dict = convert_string_to_numeric(pd.DataFrame(labels_m))\n",
        "labels_m = labels_m.values\n",
        "labels_m = labels_m.reshape(labels_m.size)\n",
        "counts = np.unique(labels_m, return_counts=True)[1]\n",
        "dict = {value: key for key, value in dict.items()}"
      ]
    },
    {
      "cell_type": "markdown",
      "metadata": {
        "id": "dnyEgXUXpFcs"
      },
      "source": [
        "<a name=\"7.2\"></a>\n",
        "### 7.2 - Recall Measure\n"
      ]
    },
    {
      "cell_type": "code",
      "execution_count": null,
      "metadata": {
        "id": "w9UIahaWw2kx"
      },
      "outputs": [],
      "source": [
        "def measure_recall(real_labels, predicted_labels, counts):\n",
        "  sum = 0;\n",
        "  unique_predic = np.unique(predicted_labels)\n",
        "  for c_label in unique_predic:\n",
        "    cluster = real_labels[np.array(np.where(predicted_labels == c_label)[0].tolist())]\n",
        "    major_class = mode(cluster, axis=None, keepdims=True)\n",
        "    #print(major_class.count[0] / counts[major_class.mode[0]])\n",
        "    sum += major_class.count[0] / counts[major_class.mode[0]]\n",
        "  return sum / unique_predic.size\n",
        "\n",
        "# print(measure_recall(labels, c_labels))"
      ]
    },
    {
      "cell_type": "markdown",
      "metadata": {
        "id": "xJ7Pvo0aEhfx"
      },
      "source": [
        "<a name=\"7.3\"></a>\n",
        "### 7.3 - Precision Measure"
      ]
    },
    {
      "cell_type": "code",
      "execution_count": null,
      "metadata": {
        "id": "0Av28cCbFH8l"
      },
      "outputs": [],
      "source": [
        "def measure_precision(real_labels, predicted_labels, dict):\n",
        "  rev_dict = {value: key for key, value in dict.items()}\n",
        "  normal_idx = rev_dict['normal.']\n",
        "  # print(normal_idx)\n",
        "  sum = 0;\n",
        "  unique_predic = np.unique(predicted_labels)\n",
        "  anomalies = [] #anomaly_major_name, percentage, number, percentage_of_normal \n",
        "  for c_label in unique_predic:\n",
        "    class_cur = np.count_nonzero(predicted_labels == c_label)\n",
        "    cluster = real_labels[np.array(np.where(predicted_labels == c_label)[0].tolist())]\n",
        "    major_class = mode(cluster, axis=None, keepdims=True)\n",
        "    anomaly = [dict[major_class.mode[0]], class_cur]\n",
        "    if major_class.mode[0] != normal_idx:\n",
        "      anomaly.append(np.count_nonzero(cluster == normal_idx))\n",
        "    else:\n",
        "      anomaly.append(np.count_nonzero(cluster != normal_idx)) \n",
        "      # anomaly.append(\"normal\") \n",
        "    anomalies.append(anomaly)\n",
        "    sum += major_class.count[0] / cluster.size\n",
        "  return sum / unique_predic.size, anomalies\n",
        "# print(measure_precision(labels, c_labels))"
      ]
    },
    {
      "cell_type": "markdown",
      "metadata": {
        "id": "vdt7WpjtGxFb"
      },
      "source": [
        "<a name=\"7.4\"></a>\n",
        "### 7.4 F1 Score"
      ]
    },
    {
      "cell_type": "code",
      "execution_count": null,
      "metadata": {
        "id": "L2XNGyWyG0e-"
      },
      "outputs": [],
      "source": [
        "def measure_f1(real_labels, predicted_labels,counts):\n",
        "  sum = 0;\n",
        "  unique_predic = np.unique(predicted_labels)\n",
        "  #print(unique_predic)\n",
        "  for c_label in unique_predic:\n",
        "    cluster = real_labels[np.array(np.where(predicted_labels == c_label)[0].tolist())]\n",
        "    major_class = mode(cluster, axis=None, keepdims=True)\n",
        "    #print(major_class.count[0] / cluster.size, \", \", major_class.count[0] / counts[major_class.mode[0]])\n",
        "    recall = major_class.count[0] / counts[major_class.mode[0]]\n",
        "    precis = major_class.count[0] / cluster.size\n",
        "    sum += (2 * recall * precis) / (recall + precis)\n",
        "  return sum / unique_predic.size\n",
        "# print(measure_f1(labels, c_labels))"
      ]
    },
    {
      "cell_type": "markdown",
      "metadata": {
        "id": "SPIX-NOVJVXb"
      },
      "source": [
        "<a name=\"#7.5\"></a>\n",
        "### 7.5 Conditional Entropy"
      ]
    },
    {
      "cell_type": "code",
      "execution_count": null,
      "metadata": {
        "id": "ueV4MvSzJcty"
      },
      "outputs": [],
      "source": [
        "def measure_entropy(real_labels, predicted_labels):\n",
        "  unique_predic = np.unique(predicted_labels)\n",
        "  total_entropy = 0\n",
        "  for c_label in unique_predic:\n",
        "    cluster = real_labels[np.array(np.where(predicted_labels == c_label)[0].tolist())]\n",
        "    probs_in_cluster = np.unique(cluster, return_counts = True)[1] / cluster.size\n",
        "    probs_in_cluster = probs_in_cluster * np.log2(probs_in_cluster) \n",
        "    cluster_cond_entropy = -np.sum(probs_in_cluster)\n",
        "    #print(cluster_cond_entropy)\n",
        "    total_entropy += (cluster.size / real_labels.size * cluster_cond_entropy)\n",
        "  return total_entropy\n",
        "# print(measure_entropy(labels, c_labels))"
      ]
    },
    {
      "cell_type": "code",
      "execution_count": null,
      "metadata": {
        "colab": {
          "base_uri": "https://localhost:8080/"
        },
        "id": "8y460LEmHH0j",
        "outputId": "2ae93b84-d242-43d5-86de-e7424f510f9a"
      },
      "outputs": [
        {
          "name": "stdout",
          "output_type": "stream",
          "text": [
            "for Spectral Clustering\n",
            "precision:\n",
            " 0.8077109180695462\n",
            "recall:\n",
            " 0.2244267691468803\n",
            "f1:\n",
            " 0.3227787727064549\n",
            "entropy:\n",
            " 0.6477989001706913\n",
            "[0.8077109180695462, 0.2244267691468803, 0.3227787727064549, 0.6477989001706913]\n"
          ]
        }
      ],
      "source": [
        "def test_spectral(labels, predicted_labels, dict, counts):\n",
        "  print('for Spectral Clustering')\n",
        "  \n",
        "  spectral_clustering = []\n",
        "  precision, clusters = measure_precision(labels, predicted_labels, dict)\n",
        "  spectral_clustering.append(precision)\n",
        "  print(f'precision:\\n {precision}')\n",
        "  recall = measure_recall(labels, predicted_labels, counts)\n",
        "  spectral_clustering.append(recall)\n",
        "  print(f'recall:\\n {recall}')\n",
        "  f1 = measure_f1(labels, predicted_labels, counts)\n",
        "  spectral_clustering.append(f1)\n",
        "  print(f'f1:\\n {f1}')\n",
        "  entropy = measure_entropy(labels, predicted_labels);\n",
        "  spectral_clustering.append(entropy)\n",
        "  print(f'entropy:\\n {entropy}')\n",
        "  print(spectral_clustering)\n",
        "  result[\"spectral_clustering\"] = spectral_clustering\n",
        "  return clusters\n",
        "\n",
        "spectural_cluster=test_spectral(labels_m, c_labels, dict, counts)"
      ]
    },
    {
      "cell_type": "code",
      "execution_count": null,
      "metadata": {
        "id": "Y440L3T9E2Ja"
      },
      "outputs": [],
      "source": [
        "def testKmeans(kmean, labels,data):\n",
        "    pL=kmean.predict(data)\n",
        "    kmean_data_frame = pd.DataFrame(pL)\n",
        "    kmean_data_frame.columns = [\"labels\"]\n",
        "    labels, dict = convert_string_to_numeric(pd.DataFrame(labels))\n",
        "    dict = {value: key for key, value in dict.items()}\n",
        "    labels = labels.values\n",
        "    labels = labels.reshape(labels.size)\n",
        "    print(labels)\n",
        "    counts = np.unique(labels, return_counts=True)[1]\n",
        "    print(\"Kmean prediction result\")\n",
        "    print(\"Kmean recall result\")\n",
        "    recall = measure_recall(labels,pL,counts)\n",
        "    print(recall)\n",
        "    print(\"Kmean precision result\")\n",
        "    precision = measure_precision(labels, pL, dict)\n",
        "    print(precision[0])\n",
        "    print(\"Kmean f1 result\")\n",
        "    f1 = measure_f1(labels, pL,counts)\n",
        "    print(f1)\n",
        "    print(\"Kmean entropy result\")\n",
        "    entropy = measure_entropy(labels, pL)\n",
        "    print(entropy)\n",
        "    return recall,precision[0],f1,entropy,precision[1]"
      ]
    },
    {
      "cell_type": "code",
      "execution_count": null,
      "metadata": {
        "id": "y8O0f01aE2Jb",
        "outputId": "55339664-f9ed-447d-b194-3047eb3648b4"
      },
      "outputs": [
        {
          "name": "stdout",
          "output_type": "stream",
          "text": [
            "[0 0 0 ... 0 0 0]\n",
            "Kmean prediction result\n",
            "Kmean recall result\n",
            "0.40062658861758205\n",
            "Kmean precision result\n",
            "0.8549044696583108\n",
            "Kmean f1 result\n",
            "0.37040656515923936\n",
            "Kmean entropy result\n",
            "1.5157283006743116\n"
          ]
        },
        {
          "data": {
            "text/plain": [
              "(0.40062658861758205,\n",
              " 0.8549044696583108,\n",
              " 0.37040656515923936,\n",
              " 1.5157283006743116,\n",
              " [['normal.', 21, 1],\n",
              "  ['normal.', 76, 3],\n",
              "  ['warezmaster.', 18, 3],\n",
              "  ['warezclient.', 82, 22],\n",
              "  ['smurf.', 491482, 97008],\n",
              "  ['back.', 2341, 152],\n",
              "  ['portsweep.', 1, 0]])"
            ]
          },
          "execution_count": 37,
          "metadata": {},
          "output_type": "execute_result"
        }
      ],
      "source": [
        "testKmeans(kmean_7, labels_10,data_10_numeric)"
      ]
    },
    {
      "cell_type": "markdown",
      "metadata": {
        "id": "yhg7gKwWE2Jc"
      },
      "source": [
        "Test all k in kmean"
      ]
    },
    {
      "cell_type": "code",
      "execution_count": null,
      "metadata": {
        "id": "w6EzAeXHE2Jc"
      },
      "outputs": [],
      "source": [
        "def tesK():\n",
        "    DATASET_COLUMNS_FILE = \"/home/elsaber/pr assign/cluster/kddcup1999_columns.txt\"\n",
        "    column_types =[]\n",
        "    with open(DATASET_COLUMNS_FILE, 'r') as file:\n",
        "        column_labels: str = file.read()\n",
        "    column_regex: re.Pattern = re.compile(r\"^(?P<column_name>\\w+): (?P<data_type>\\w+)\\.$\")\n",
        "    for column_type in column_labels.splitlines()[:]:\n",
        "        match = column_regex.match(column_type)\n",
        "        column_types.append(match.group(\"column_name\"))\n",
        "    test_data = pd.read_csv(\"/home/elsaber/pr assign/cluster/kddcup.data.corrected\", header=None)\n",
        "    test_data.columns = column_types\n",
        "    data_without_labels = test_data.drop(columns=[\"class\"])\n",
        "    labels = test_data[\"class\"]\n",
        "    data_numeric = convert_string_to_binary_numeric(data_without_labels)\n",
        "    recalls = []\n",
        "    precisions = []\n",
        "    f1s = []\n",
        "    entropies =[]\n",
        "    clusters = []\n",
        "    ans = testKmeans(kmean_7, labels,data_numeric)\n",
        "    recalls.append(ans[0])\n",
        "    precisions.append(ans[1])\n",
        "    f1s.append(ans[2])\n",
        "    entropies.append(ans[3])\n",
        "    clusters.append(ans[4])\n",
        "    result[\"7 means\"] = [ans[1],ans[0],ans[2],ans[3]]\n",
        "    ans = testKmeans(kmean_15, labels,data_numeric)\n",
        "    recalls.append(ans[0])\n",
        "    precisions.append(ans[1])\n",
        "    f1s.append(ans[2])\n",
        "    entropies.append(ans[3])\n",
        "    clusters.append(ans[4])\n",
        "    result[\"15 means\"] = [ans[1],ans[0],ans[2],ans[3]]\n",
        "    ans = testKmeans(kmean_23, labels,data_numeric)\n",
        "    recalls.append(ans[0])\n",
        "    precisions.append(ans[1])\n",
        "    f1s.append(ans[2])\n",
        "    entropies.append(ans[3])\n",
        "    clusters.append(ans[4])\n",
        "    result[\"23 means\"] = [ans[1],ans[0],ans[2],ans[3]]\n",
        "    ans = testKmeans(kmean_31, labels,data_numeric)\n",
        "    recalls.append(ans[0])\n",
        "    precisions.append(ans[1])\n",
        "    f1s.append(ans[2])\n",
        "    entropies.append(ans[3])\n",
        "    clusters.append(ans[4])\n",
        "    result[\"31 means\"] = [ans[1],ans[0],ans[2],ans[3]]\n",
        "    ans = testKmeans(kmean_45, labels,data_numeric)\n",
        "    recalls.append(ans[0])\n",
        "    precisions.append(ans[1])\n",
        "    f1s.append(ans[2])\n",
        "    entropies.append(ans[3])\n",
        "    clusters.append(ans[4])\n",
        "    result[\"45 means\"] = [ans[1],ans[0],ans[2],ans[3]]\n",
        "    del test_data\n",
        "    return recalls,precisions,f1s,entropies,clusters\n"
      ]
    },
    {
      "cell_type": "code",
      "execution_count": null,
      "metadata": {
        "id": "9_aYwfCRE2Jd",
        "outputId": "98874ba9-4f1c-4520-c010-d8606129b502"
      },
      "outputs": [
        {
          "name": "stdout",
          "output_type": "stream",
          "text": [
            "[0 0 0 ... 0 0 0]\n",
            "Kmean prediction result\n",
            "Kmean recall result\n",
            "0.39216723639986373\n",
            "Kmean precision result\n",
            "0.7737194995230797\n",
            "Kmean f1 result\n",
            "0.2922778454327299\n",
            "Kmean entropy result\n",
            "1.4810960460543539\n",
            "[0 0 0 ... 0 0 0]\n",
            "Kmean prediction result\n",
            "Kmean recall result\n",
            "0.2694027574639399\n",
            "Kmean precision result\n",
            "0.8846473896687176\n",
            "Kmean f1 result\n",
            "0.24023916939634263\n",
            "Kmean entropy result\n",
            "0.5212680754187011\n",
            "[0 0 0 ... 0 0 0]\n",
            "Kmean prediction result\n",
            "Kmean recall result\n",
            "0.2277110439810361\n",
            "Kmean precision result\n",
            "0.9313407288608586\n",
            "Kmean f1 result\n",
            "0.23958713179218924\n",
            "Kmean entropy result\n",
            "0.2830289449963907\n",
            "[0 0 0 ... 0 0 0]\n",
            "Kmean prediction result\n",
            "Kmean recall result\n",
            "0.17874019111220876\n",
            "Kmean precision result\n",
            "0.9486941930654974\n",
            "Kmean f1 result\n",
            "0.21117855298580052\n",
            "Kmean entropy result\n",
            "0.06256741610713963\n",
            "[0 0 0 ... 0 0 0]\n",
            "Kmean prediction result\n",
            "Kmean recall result\n",
            "0.1237752120868995\n",
            "Kmean precision result\n",
            "0.94897922454209\n",
            "Kmean f1 result\n",
            "0.15745475584507265\n",
            "Kmean entropy result\n",
            "0.05084429874278061\n"
          ]
        }
      ],
      "source": [
        "recalls,precisions,f1s,entropies,kmean_cluseter = tesK()"
      ]
    },
    {
      "cell_type": "code",
      "execution_count": null,
      "metadata": {
        "id": "86Lx5YYwFi0J",
        "outputId": "40ff0c1a-335f-4e71-d0b1-8c1217d97ade"
      },
      "outputs": [
        {
          "data": {
            "text/html": [
              "<div>\n",
              "<style scoped>\n",
              "    .dataframe tbody tr th:only-of-type {\n",
              "        vertical-align: middle;\n",
              "    }\n",
              "\n",
              "    .dataframe tbody tr th {\n",
              "        vertical-align: top;\n",
              "    }\n",
              "\n",
              "    .dataframe thead th {\n",
              "        text-align: right;\n",
              "    }\n",
              "</style>\n",
              "<table border=\"1\" class=\"dataframe\">\n",
              "  <thead>\n",
              "    <tr style=\"text-align: right;\">\n",
              "      <th></th>\n",
              "      <th>spectral_clustering</th>\n",
              "      <th>7 means</th>\n",
              "      <th>15 means</th>\n",
              "      <th>23 means</th>\n",
              "      <th>31 means</th>\n",
              "      <th>45 means</th>\n",
              "      <th>DBSCAN</th>\n",
              "    </tr>\n",
              "  </thead>\n",
              "  <tbody>\n",
              "    <tr>\n",
              "      <th>0</th>\n",
              "      <td>0.807711</td>\n",
              "      <td>0.773719</td>\n",
              "      <td>0.884647</td>\n",
              "      <td>0.931341</td>\n",
              "      <td>0.948694</td>\n",
              "      <td>0.948979</td>\n",
              "      <td>0.985703</td>\n",
              "    </tr>\n",
              "    <tr>\n",
              "      <th>1</th>\n",
              "      <td>0.224427</td>\n",
              "      <td>0.392167</td>\n",
              "      <td>0.269403</td>\n",
              "      <td>0.227711</td>\n",
              "      <td>0.178740</td>\n",
              "      <td>0.123775</td>\n",
              "      <td>0.194479</td>\n",
              "    </tr>\n",
              "    <tr>\n",
              "      <th>2</th>\n",
              "      <td>0.322779</td>\n",
              "      <td>0.292278</td>\n",
              "      <td>0.240239</td>\n",
              "      <td>0.239587</td>\n",
              "      <td>0.211179</td>\n",
              "      <td>0.157455</td>\n",
              "      <td>0.237800</td>\n",
              "    </tr>\n",
              "    <tr>\n",
              "      <th>3</th>\n",
              "      <td>0.647799</td>\n",
              "      <td>1.481096</td>\n",
              "      <td>0.521268</td>\n",
              "      <td>0.283029</td>\n",
              "      <td>0.062567</td>\n",
              "      <td>0.050844</td>\n",
              "      <td>0.257182</td>\n",
              "    </tr>\n",
              "  </tbody>\n",
              "</table>\n",
              "</div>"
            ],
            "text/plain": [
              "   spectral_clustering   7 means  15 means  23 means  31 means  45 means  \\\n",
              "0             0.807711  0.773719  0.884647  0.931341  0.948694  0.948979   \n",
              "1             0.224427  0.392167  0.269403  0.227711  0.178740  0.123775   \n",
              "2             0.322779  0.292278  0.240239  0.239587  0.211179  0.157455   \n",
              "3             0.647799  1.481096  0.521268  0.283029  0.062567  0.050844   \n",
              "\n",
              "     DBSCAN  \n",
              "0  0.985703  \n",
              "1  0.194479  \n",
              "2  0.237800  \n",
              "3  0.257182  "
            ]
          },
          "execution_count": 80,
          "metadata": {},
          "output_type": "execute_result"
        }
      ],
      "source": [
        "result"
      ]
    },
    {
      "cell_type": "code",
      "execution_count": null,
      "metadata": {
        "id": "rOacKrU9E2Jd"
      },
      "outputs": [],
      "source": [
        "k = [7,15,23,31,45]\n"
      ]
    },
    {
      "cell_type": "code",
      "execution_count": null,
      "metadata": {
        "id": "H_3r_u2zE2Je",
        "outputId": "8f235889-afbc-4bf9-b8d0-9df547f3b715"
      },
      "outputs": [
        {
          "data": {
            "image/png": "[encoded data removed]",
            "text/plain": [
              "<Figure size 640x480 with 1 Axes>"
            ]
          },
          "metadata": {},
          "output_type": "display_data"
        }
      ],
      "source": [
        "plt.plot(k, recalls, '-o')\n",
        "plt.plot(k, precisions, '-o')\n",
        "plt.plot(k, f1s, '-o')\n",
        "plt.plot(k, entropies, '-o')\n",
        "plt.legend([\"recall\",\"precision\",\"f1\", \"entropy\"])\n",
        "plt.xlabel('k')\n",
        "plt.ylabel('measure')\n",
        "plt.show()"
      ]
    },
    {
      "cell_type": "code",
      "execution_count": null,
      "metadata": {
        "id": "NsROzNUUFi0K"
      },
      "outputs": [],
      "source": [
        "def calcError(cluster):\n",
        "    new_list = [row[1:] for row in cluster]\n",
        "    my_array = np.array(new_list )\n",
        "\n",
        "    row_sums = my_array.sum(axis =0)\n",
        "    error =row_sums[1]  / row_sums[0]\n",
        "    return error"
      ]
    },
    {
      "cell_type": "markdown",
      "metadata": {
        "id": "JH7rTCbdFi0L"
      },
      "source": [
        "Error Calculation"
      ]
    },
    {
      "cell_type": "code",
      "execution_count": null,
      "metadata": {
        "id": "ORFrhuXvFi0L",
        "outputId": "1e0d0bf7-5854-46d8-a7c4-28f439e62d1f"
      },
      "outputs": [
        {
          "name": "stdout",
          "output_type": "stream",
          "text": [
            "7 means error 0.19839638447494717\n",
            "15 means error 0.13989601976632926\n",
            "23 means error 0.06547953824398058\n",
            "31 means error 0.005514214653630928\n",
            "45 means error 0.01082999842194368\n",
            "spectural_cluster error 0.046549612086565946\n"
          ]
        }
      ],
      "source": [
        "\n",
        "error = calcError(kmean_cluseter[0])\n",
        "print(f\"7 means error {error}\")\n",
        "error = calcError(kmean_cluseter[1])\n",
        "print(f\"15 means error {error}\")\n",
        "error = calcError(kmean_cluseter[2])\n",
        "print(f\"23 means error {error}\")\n",
        "error = calcError(kmean_cluseter[3])\n",
        "print(f\"31 means error {error}\")\n",
        "error = calcError(kmean_cluseter[4])\n",
        "print(f\"45 means error {error}\")\n",
        "error = calcError(spectural_cluster)\n",
        "print(f\"spectural_cluster error {error}\")"
      ]
    },
    {
      "cell_type": "markdown",
      "metadata": {
        "id": "TwmmwfWhFi0L"
      },
      "source": [
        "Number of anomalies"
      ]
    },
    {
      "cell_type": "code",
      "execution_count": null,
      "metadata": {
        "id": "69B69nztFi0L",
        "outputId": "94de7a56-cac7-481e-baf5-5edd73082373"
      },
      "outputs": [
        {
          "data": {
            "text/plain": [
              "[[['normal.', 178, 1],\n",
              "  ['normal.', 593, 3],\n",
              "  ['warezmaster.', 32, 14],\n",
              "  ['normal.', 313, 63],\n",
              "  ['smurf.', 4893571, 970200],\n",
              "  ['back.', 3739, 1550],\n",
              "  ['portsweep.', 5, 0]],\n",
              " [['normal.', 494, 1],\n",
              "  ['normal.', 1243, 1],\n",
              "  ['normal.', 61928, 6],\n",
              "  ['normal.', 169735, 324],\n",
              "  ['neptune.', 1699814, 585760],\n",
              "  ['smurf.', 2904509, 96539],\n",
              "  ['normal.', 16931, 4],\n",
              "  ['normal.', 5556, 809],\n",
              "  ['normal.', 33877, 203],\n",
              "  ['warezmaster.', 32, 14],\n",
              "  ['normal.', 140, 0],\n",
              "  ['normal.', 121, 3],\n",
              "  ['back.', 3733, 1544],\n",
              "  ['portsweep.', 5, 0],\n",
              "  ['normal.', 313, 63]],\n",
              " [['normal.', 5559, 809],\n",
              "  ['normal.', 12535, 3],\n",
              "  ['normal.', 33864, 203],\n",
              "  ['normal.', 35057, 4],\n",
              "  ['normal.', 70445, 16],\n",
              "  ['normal.', 141128, 304],\n",
              "  ['normal.', 268576, 16],\n",
              "  ['neptune.', 1412688, 312118],\n",
              "  ['satan.', 13270, 10],\n",
              "  ['normal.', 983, 0],\n",
              "  ['warezmaster.', 32, 14],\n",
              "  ['normal.', 118, 3],\n",
              "  ['normal.', 138, 0],\n",
              "  ['normal.', 471, 1],\n",
              "  ['normal.', 72936, 269],\n",
              "  ['smurf.', 126908, 4178],\n",
              "  ['smurf.', 405009, 32],\n",
              "  ['back.', 3414, 1234],\n",
              "  ['normal.', 11266, 35],\n",
              "  ['smurf.', 2281577, 1414],\n",
              "  ['normal.', 313, 63],\n",
              "  ['portsweep.', 5, 0],\n",
              "  ['normal.', 2139, 21]],\n",
              " [['normal.', 222853, 12],\n",
              "  ['normal.', 2152, 685],\n",
              "  ['normal.', 272230, 15803],\n",
              "  ['normal.', 30782, 107],\n",
              "  ['neptune.', 522056, 5089],\n",
              "  ['neptune.', 569518, 1416],\n",
              "  ['satan.', 13013, 10],\n",
              "  ['normal.', 7447, 220],\n",
              "  ['normal.', 138, 0],\n",
              "  ['warezmaster.', 32, 14],\n",
              "  ['normal.', 59900, 9],\n",
              "  ['normal.', 25833, 4],\n",
              "  ['normal.', 449, 1],\n",
              "  ['normal.', 118, 3],\n",
              "  ['normal.', 9506, 3],\n",
              "  ['normal.', 163430, 300],\n",
              "  ['normal.', 81120, 19],\n",
              "  ['normal.', 735, 0],\n",
              "  ['normal.', 11407, 0],\n",
              "  ['normal.', 5675, 12],\n",
              "  ['normal.', 82253, 1822],\n",
              "  ['smurf.', 38555, 322],\n",
              "  ['smurf.', 82638, 20],\n",
              "  ['smurf.', 67185, 28],\n",
              "  ['smurf.', 339625, 7],\n",
              "  ['normal.', 313, 63],\n",
              "  ['normal.', 881, 20],\n",
              "  ['normal.', 6778, 32],\n",
              "  ['smurf.', 2278642, 0],\n",
              "  ['portsweep.', 5, 0],\n",
              "  ['back.', 3162, 990]],\n",
              " [['normal.', 57711, 8100],\n",
              "  ['normal.', 5119, 168],\n",
              "  ['normal.', 9071, 93],\n",
              "  ['normal.', 6816, 32],\n",
              "  ['normal.', 24919, 18],\n",
              "  ['normal.', 130479, 8],\n",
              "  ['normal.', 52097, 7230],\n",
              "  ['normal.', 78832, 2123],\n",
              "  ['normal.', 110833, 196],\n",
              "  ['normal.', 64555, 32727],\n",
              "  ['neptune.', 401066, 2],\n",
              "  ['neptune.', 68902, 13],\n",
              "  ['neptune.', 114328, 0],\n",
              "  ['neptune.', 113725, 0],\n",
              "  ['neptune.', 72483, 0],\n",
              "  ['neptune.', 68212, 0],\n",
              "  ['normal.', 176502, 10],\n",
              "  ['neptune.', 111155, 0],\n",
              "  ['neptune.', 102686, 0],\n",
              "  ['normal.', 12812, 151],\n",
              "  ['satan.', 12949, 10],\n",
              "  ['warezmaster.', 32, 14],\n",
              "  ['normal.', 116, 3],\n",
              "  ['normal.', 2564, 266],\n",
              "  ['normal.', 14572, 3],\n",
              "  ['normal.', 6923, 12],\n",
              "  ['normal.', 2784, 2],\n",
              "  ['normal.', 18055, 0],\n",
              "  ['normal.', 138, 0],\n",
              "  ['normal.', 377, 1],\n",
              "  ['normal.', 105892, 294],\n",
              "  ['normal.', 60472, 19],\n",
              "  ['normal.', 50126, 9],\n",
              "  ['normal.', 29405, 2],\n",
              "  ['normal.', 463, 0],\n",
              "  ['normal.', 885, 20],\n",
              "  ['smurf.', 42205, 308],\n",
              "  ['smurf.', 78959, 19],\n",
              "  ['smurf.', 67185, 28],\n",
              "  ['smurf.', 339625, 7],\n",
              "  ['back.', 3165, 993],\n",
              "  ['smurf.', 2278341, 0],\n",
              "  ['portsweep.', 5, 0],\n",
              "  ['normal.', 313, 63],\n",
              "  ['portsweep.', 577, 106]]]"
            ]
          },
          "execution_count": 84,
          "metadata": {},
          "output_type": "execute_result"
        }
      ],
      "source": [
        "kmean_cluseter"
      ]
    },
    {
      "cell_type": "code",
      "execution_count": null,
      "metadata": {
        "id": "4-Bpla-rFi0L"
      },
      "outputs": [],
      "source": [
        "def number_of_anomalies(cluster):\n",
        "    anomalies = 0\n",
        "    f_anomalies_predict = 0\n",
        "    t_anomalies_not_predict = 0\n",
        "    for index, row in enumerate(cluster):\n",
        "        if row[0] != 'normal.':\n",
        "            anomalies +=row[1]\n",
        "            f_anomalies_predict +=  row[2]\n",
        "        else:\n",
        "           t_anomalies_not_predict += row[2] \n",
        "    return anomalies,f_anomalies_predict,t_anomalies_not_predict"
      ]
    },
    {
      "cell_type": "code",
      "execution_count": null,
      "metadata": {
        "id": "zGfyCsfjFi0M",
        "outputId": "8af50739-6825-4cf2-9aa6-043cced4ce8e"
      },
      "outputs": [
        {
          "data": {
            "text/plain": [
              "[['smurf.', 542, 9],\n",
              " ['smurf.', 919, 3],\n",
              " ['normal.', 1301, 92],\n",
              " ['smurf.', 1431, 9],\n",
              " ['neptune.', 441, 59],\n",
              " ['neptune.', 306, 25],\n",
              " ['smurf.', 364, 13],\n",
              " ['neptune.', 421, 74],\n",
              " ['smurf.', 618, 19],\n",
              " ['smurf.', 670, 3],\n",
              " ['neptune.', 334, 36]]"
            ]
          },
          "execution_count": 96,
          "metadata": {},
          "output_type": "execute_result"
        }
      ],
      "source": [
        "spectural_cluster"
      ]
    },
    {
      "cell_type": "code",
      "execution_count": null,
      "metadata": {
        "id": "ppWrNZBGFi0M",
        "outputId": "16e5759a-31c4-4d86-f046-3845b04491b8"
      },
      "outputs": [
        {
          "name": "stdout",
          "output_type": "stream",
          "text": [
            "7 kmean number of predicted anomalies 4897347 predicted anomaly wrong 971764 not predicted anomaly wrong 67\n",
            "15 kmean number of predicted anomalies 4608093 predicted anomaly wrong 683857 not predicted anomaly wrong 1414\n",
            "23 kmean number of predicted anomalies 4242903 predicted anomaly wrong 319000 not predicted anomaly wrong 1747\n",
            "31 kmean number of predicted anomalies 3914431 predicted anomaly wrong 7896 not predicted anomaly wrong 19115\n",
            "45 kmean number of predicted anomalies 3875600 predicted anomaly wrong 1500 not predicted anomaly wrong 51550\n",
            "spectural cluster number of predicted anomalies 6046 predicted anomaly wrong 250 not predicted anomaly wrong 92\n"
          ]
        }
      ],
      "source": [
        "anomalies,not_anomalies_but_predicted_anomaly,anomalies_but_not_predicte = number_of_anomalies(kmean_cluseter[0])\n",
        "print(f\"7 kmean number of predicted anomalies {anomalies} predicted anomaly wrong {not_anomalies_but_predicted_anomaly} not predicted anomaly wrong {anomalies_but_not_predicte}\")\n",
        "anomalies,not_anomalies_but_predicted_anomaly,anomalies_but_not_predicte = number_of_anomalies(kmean_cluseter[1])\n",
        "print(f\"15 kmean number of predicted anomalies {anomalies} predicted anomaly wrong {not_anomalies_but_predicted_anomaly} not predicted anomaly wrong {anomalies_but_not_predicte}\")\n",
        "anomalies,not_anomalies_but_predicted_anomaly,anomalies_but_not_predicte = number_of_anomalies(kmean_cluseter[2])\n",
        "print(f\"23 kmean number of predicted anomalies {anomalies} predicted anomaly wrong {not_anomalies_but_predicted_anomaly} not predicted anomaly wrong {anomalies_but_not_predicte}\")\n",
        "anomalies,not_anomalies_but_predicted_anomaly,anomalies_but_not_predicte = number_of_anomalies(kmean_cluseter[3])\n",
        "print(f\"31 kmean number of predicted anomalies {anomalies} predicted anomaly wrong {not_anomalies_but_predicted_anomaly} not predicted anomaly wrong {anomalies_but_not_predicte}\")\n",
        "anomalies,not_anomalies_but_predicted_anomaly,anomalies_but_not_predicte = number_of_anomalies(kmean_cluseter[4])\n",
        "print(f\"45 kmean number of predicted anomalies {anomalies} predicted anomaly wrong {not_anomalies_but_predicted_anomaly} not predicted anomaly wrong {anomalies_but_not_predicte}\")\n",
        "anomalies,not_anomalies_but_predicted_anomaly,anomalies_but_not_predicte = number_of_anomalies(spectural_cluster)\n",
        "print(f\"spectural cluster number of predicted anomalies {anomalies} predicted anomaly wrong {not_anomalies_but_predicted_anomaly} not predicted anomaly wrong {anomalies_but_not_predicte}\")\n"
      ]
    }
  ],
  "metadata": {
    "colab": {
      "provenance": [],
      "toc_visible": true,
      "include_colab_link": true
    },
    "kernelspec": {
      "display_name": "Python 3",
      "name": "python3"
    },
    "language_info": {
      "codemirror_mode": {
        "name": "ipython",
        "version": 3
      },
      "file_extension": ".py",
      "mimetype": "text/x-python",
      "name": "python",
      "nbconvert_exporter": "python",
      "pygments_lexer": "ipython3",
      "version": "3.8.10"
    }
  },
  "nbformat": 4,
  "nbformat_minor": 0
}