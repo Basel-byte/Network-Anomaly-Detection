{
  "nbformat": 4,
  "nbformat_minor": 0,
  "metadata": {
    "colab": {
      "provenance": []
    },
    "kernelspec": {
      "name": "python3",
      "display_name": "Python 3"
    },
    "language_info": {
      "name": "python"
    }
  },
  "cells": [
    {
      "cell_type": "markdown",
      "metadata": {
        "id": "view-in-github"
      },
      "source": [
        "<a href=\"https://colab.research.google.com/github/Basel-byte/Network-Anomaly-Detection/blob/main/Pr_Assignment_2.ipynb\" target=\"_parent\"><img src=\"https://colab.research.google.com/assets/colab-badge.svg\" alt=\"Open In Colab\"/></a>"
      ]
    },
    {
      "cell_type": "markdown",
      "source": [
        "# Practice Lab: Clustering  \n",
        "\n",
        "In this exercise, we will know how K-Means and Normalized Cut algorithms can be used for network anomaly detection.\n",
        "\n",
        "# Outline\n",
        "- [ 1 - Extracting Dataset](#1)\n",
        "- [ 2 - Packages ](#2)\n",
        "- [ 3 - Reading data and Preprocessing](#3)\n",
        "  - [3.1 Reading Columns' Names](#3.1)\n",
        "  - [3.2 Reading dataset](#3.2)\n",
        "  - [3.3 Removing class column](#3.3)\n",
        "  - [3.4 Changing Categorical features to numericals](#3.4)\n",
        "  \n",
        "   \n",
        "- [ 4 - K-means](#4)\n",
        "- [ 5 - Spectral Clustering](#5)\n",
        "- [ 6 - New Clustering Algorithm](#6)\n",
        "- [ 7 - Clustering Evaluation](#7)\n",
        "\n",
        "  "
      ],
      "metadata": {
        "id": "rA6RmzKXUtpw"
      }
    },
    {
      "cell_type": "markdown",
      "source": [
        "<a name=\"1\"></a>\n",
        "## 1 - Extracting Dataset"
      ],
      "metadata": {
        "id": "bCvocyZI206f"
      }
    },
    {
      "cell_type": "code",
      "source": [
        "from google.colab import drive\n",
        "drive.mount('/content/drive')"
      ],
      "metadata": {
        "id": "5d5fTIlGDE6j",
        "outputId": "622a21b3-346d-4ce5-fa61-d86011753f37",
        "colab": {
          "base_uri": "https://localhost:8080/"
        }
      },
      "execution_count": 1,
      "outputs": [
        {
          "output_type": "stream",
          "name": "stdout",
          "text": [
            "Drive already mounted at /content/drive; to attempt to forcibly remount, call drive.mount(\"/content/drive\", force_remount=True).\n"
          ]
        }
      ]
    },
    {
      "cell_type": "code",
      "source": [
        "# do not run if you have unzipped the dataset\n",
        "!gzip -d /content/drive/MyDrive/kddcup.data.gz"
      ],
      "metadata": {
        "id": "FkFm0EkaZNP-",
        "colab": {
          "base_uri": "https://localhost:8080/"
        },
        "outputId": "5ba17cbe-47b1-4b36-cb23-b8ca197f52ec"
      },
      "execution_count": 16,
      "outputs": [
        {
          "output_type": "stream",
          "name": "stdout",
          "text": [
            "gzip: /content/drive/MyDrive/kddcup.data.gz: No such file or directory\n"
          ]
        }
      ]
    },
    {
      "cell_type": "markdown",
      "source": [
        "<a name=\"2\"></a>\n",
        "## 2 - Packages \n",
        "\n",
        "First, let's run the cell below to import all the packages that you will need during this assignment.\n",
        "- [numpy](https://numpy.org/) is the fundamental package for scientific computing with Python.\n",
        "<!-- - [matplotlib](http://matplotlib.org) is a popular library to plot graphs in Python. -->\n",
        "<!-- - [tensorflow](https://www.tensorflow.org/) a popular platform for machine learning. -->\n",
        "- [pandas](https://pandas.pydata.org/) is open source data analysis and manipulation tool."
      ],
      "metadata": {
        "id": "nDbrePFpVTBq"
      }
    },
    {
      "cell_type": "code",
      "execution_count": 3,
      "metadata": {
        "id": "2tTmV2lQUsuN"
      },
      "outputs": [],
      "source": [
        "import numpy as np\n",
        "import pandas as pd\n",
        "import os\n",
        "import requests\n",
        "from enum import Enum\n",
        "import re"
      ]
    },
    {
      "cell_type": "markdown",
      "source": [
        "<a name=\"3\"></a>\n",
        "## 3 - Reading data and Preprocessing"
      ],
      "metadata": {
        "id": "QMgrr6i6WguO"
      }
    },
    {
      "cell_type": "markdown",
      "source": [
        "<a name=\"3.1\"></a>\n",
        "#### Reading columns' names "
      ],
      "metadata": {
        "id": "ENPDaqPivF6N"
      }
    },
    {
      "cell_type": "code",
      "source": [
        "DATASET_COLUMNS_FILE = \"/content/drive/MyDrive/kddcup1999_columns.txt\"\n",
        "column_types =[]\n",
        "\n",
        "with open(DATASET_COLUMNS_FILE, 'r') as file:\n",
        "    column_labels: str = file.read()\n",
        "\n",
        "column_regex: re.Pattern = re.compile(r\"^(?P<column_name>\\w+): (?P<data_type>\\w+)\\.$\")\n",
        "for column_type in column_labels.splitlines()[:]:\n",
        "    match = column_regex.match(column_type)\n",
        "    column_types.append(match.group(\"column_name\"))\n"
      ],
      "metadata": {
        "id": "CL5Dg8HyctXU"
      },
      "execution_count": 4,
      "outputs": []
    },
    {
      "cell_type": "markdown",
      "source": [
        "<a name=\"3.2\"></a>\n",
        "#### reading the dataset"
      ],
      "metadata": {
        "id": "tFA3LIyQvOoR"
      }
    },
    {
      "cell_type": "code",
      "source": [
        "data = pd.read_csv(\"/content/drive/MyDrive/kddcup.data\", header=None)\n",
        "data.columns = column_types"
      ],
      "metadata": {
        "id": "VsdDQ3NzjWGx"
      },
      "execution_count": 5,
      "outputs": []
    },
    {
      "cell_type": "markdown",
      "source": [
        "<a name=\"3.3\"></a>\n",
        "#### Removing class column"
      ],
      "metadata": {
        "id": "Y3IBQQcqvW6a"
      }
    },
    {
      "cell_type": "code",
      "source": [
        "data_without_labels = data.drop(columns=[\"class\"])\n",
        "labels = data[\"class\"]\n",
        "del data\n",
        "del column_types\n",
        "data_without_labels"
      ],
      "metadata": {
        "colab": {
          "base_uri": "https://localhost:8080/",
          "height": 488
        },
        "id": "cfCpzpa7jsq8",
        "outputId": "933cdb65-b0d8-4301-94a5-f0c71bd8030c"
      },
      "execution_count": 6,
      "outputs": [
        {
          "output_type": "execute_result",
          "data": {
            "text/plain": [
              "         duration protocol_type service flag  src_bytes  dst_bytes  land  \\\n",
              "0               0           tcp    http   SF        215      45076     0   \n",
              "1               0           tcp    http   SF        162       4528     0   \n",
              "2               0           tcp    http   SF        236       1228     0   \n",
              "3               0           tcp    http   SF        233       2032     0   \n",
              "4               0           tcp    http   SF        239        486     0   \n",
              "...           ...           ...     ...  ...        ...        ...   ...   \n",
              "4898426         0           tcp    http   SF        212       2288     0   \n",
              "4898427         0           tcp    http   SF        219        236     0   \n",
              "4898428         0           tcp    http   SF        218       3610     0   \n",
              "4898429         0           tcp    http   SF        219       1234     0   \n",
              "4898430         0           tcp    http   SF        219       1098     0   \n",
              "\n",
              "         wrong_fragment  urgent  hot  ...  dst_host_count  dst_host_srv_count  \\\n",
              "0                     0       0    0  ...               0                   0   \n",
              "1                     0       0    0  ...               1                   1   \n",
              "2                     0       0    0  ...               2                   2   \n",
              "3                     0       0    0  ...               3                   3   \n",
              "4                     0       0    0  ...               4                   4   \n",
              "...                 ...     ...  ...  ...             ...                 ...   \n",
              "4898426               0       0    0  ...               3                 255   \n",
              "4898427               0       0    0  ...               4                 255   \n",
              "4898428               0       0    0  ...               5                 255   \n",
              "4898429               0       0    0  ...               6                 255   \n",
              "4898430               0       0    0  ...               7                 255   \n",
              "\n",
              "         dst_host_same_srv_rate  dst_host_diff_srv_rate  \\\n",
              "0                           0.0                     0.0   \n",
              "1                           1.0                     0.0   \n",
              "2                           1.0                     0.0   \n",
              "3                           1.0                     0.0   \n",
              "4                           1.0                     0.0   \n",
              "...                         ...                     ...   \n",
              "4898426                     1.0                     0.0   \n",
              "4898427                     1.0                     0.0   \n",
              "4898428                     1.0                     0.0   \n",
              "4898429                     1.0                     0.0   \n",
              "4898430                     1.0                     0.0   \n",
              "\n",
              "         dst_host_same_src_port_rate  dst_host_srv_diff_host_rate  \\\n",
              "0                               0.00                         0.00   \n",
              "1                               1.00                         0.00   \n",
              "2                               0.50                         0.00   \n",
              "3                               0.33                         0.00   \n",
              "4                               0.25                         0.00   \n",
              "...                              ...                          ...   \n",
              "4898426                         0.33                         0.05   \n",
              "4898427                         0.25                         0.05   \n",
              "4898428                         0.20                         0.05   \n",
              "4898429                         0.17                         0.05   \n",
              "4898430                         0.14                         0.05   \n",
              "\n",
              "         dst_host_serror_rate  dst_host_srv_serror_rate  dst_host_rerror_rate  \\\n",
              "0                         0.0                      0.00                   0.0   \n",
              "1                         0.0                      0.00                   0.0   \n",
              "2                         0.0                      0.00                   0.0   \n",
              "3                         0.0                      0.00                   0.0   \n",
              "4                         0.0                      0.00                   0.0   \n",
              "...                       ...                       ...                   ...   \n",
              "4898426                   0.0                      0.01                   0.0   \n",
              "4898427                   0.0                      0.01                   0.0   \n",
              "4898428                   0.0                      0.01                   0.0   \n",
              "4898429                   0.0                      0.01                   0.0   \n",
              "4898430                   0.0                      0.01                   0.0   \n",
              "\n",
              "         dst_host_srv_rerror_rate  \n",
              "0                             0.0  \n",
              "1                             0.0  \n",
              "2                             0.0  \n",
              "3                             0.0  \n",
              "4                             0.0  \n",
              "...                           ...  \n",
              "4898426                       0.0  \n",
              "4898427                       0.0  \n",
              "4898428                       0.0  \n",
              "4898429                       0.0  \n",
              "4898430                       0.0  \n",
              "\n",
              "[4898431 rows x 41 columns]"
            ],
            "text/html": [
              "\n",
              "  <div id=\"df-346fa6d9-9f47-4d2a-8456-eb3b4986e3ac\">\n",
              "    <div class=\"colab-df-container\">\n",
              "      <div>\n",
              "<style scoped>\n",
              "    .dataframe tbody tr th:only-of-type {\n",
              "        vertical-align: middle;\n",
              "    }\n",
              "\n",
              "    .dataframe tbody tr th {\n",
              "        vertical-align: top;\n",
              "    }\n",
              "\n",
              "    .dataframe thead th {\n",
              "        text-align: right;\n",
              "    }\n",
              "</style>\n",
              "<table border=\"1\" class=\"dataframe\">\n",
              "  <thead>\n",
              "    <tr style=\"text-align: right;\">\n",
              "      <th></th>\n",
              "      <th>duration</th>\n",
              "      <th>protocol_type</th>\n",
              "      <th>service</th>\n",
              "      <th>flag</th>\n",
              "      <th>src_bytes</th>\n",
              "      <th>dst_bytes</th>\n",
              "      <th>land</th>\n",
              "      <th>wrong_fragment</th>\n",
              "      <th>urgent</th>\n",
              "      <th>hot</th>\n",
              "      <th>...</th>\n",
              "      <th>dst_host_count</th>\n",
              "      <th>dst_host_srv_count</th>\n",
              "      <th>dst_host_same_srv_rate</th>\n",
              "      <th>dst_host_diff_srv_rate</th>\n",
              "      <th>dst_host_same_src_port_rate</th>\n",
              "      <th>dst_host_srv_diff_host_rate</th>\n",
              "      <th>dst_host_serror_rate</th>\n",
              "      <th>dst_host_srv_serror_rate</th>\n",
              "      <th>dst_host_rerror_rate</th>\n",
              "      <th>dst_host_srv_rerror_rate</th>\n",
              "    </tr>\n",
              "  </thead>\n",
              "  <tbody>\n",
              "    <tr>\n",
              "      <th>0</th>\n",
              "      <td>0</td>\n",
              "      <td>tcp</td>\n",
              "      <td>http</td>\n",
              "      <td>SF</td>\n",
              "      <td>215</td>\n",
              "      <td>45076</td>\n",
              "      <td>0</td>\n",
              "      <td>0</td>\n",
              "      <td>0</td>\n",
              "      <td>0</td>\n",
              "      <td>...</td>\n",
              "      <td>0</td>\n",
              "      <td>0</td>\n",
              "      <td>0.0</td>\n",
              "      <td>0.0</td>\n",
              "      <td>0.00</td>\n",
              "      <td>0.00</td>\n",
              "      <td>0.0</td>\n",
              "      <td>0.00</td>\n",
              "      <td>0.0</td>\n",
              "      <td>0.0</td>\n",
              "    </tr>\n",
              "    <tr>\n",
              "      <th>1</th>\n",
              "      <td>0</td>\n",
              "      <td>tcp</td>\n",
              "      <td>http</td>\n",
              "      <td>SF</td>\n",
              "      <td>162</td>\n",
              "      <td>4528</td>\n",
              "      <td>0</td>\n",
              "      <td>0</td>\n",
              "      <td>0</td>\n",
              "      <td>0</td>\n",
              "      <td>...</td>\n",
              "      <td>1</td>\n",
              "      <td>1</td>\n",
              "      <td>1.0</td>\n",
              "      <td>0.0</td>\n",
              "      <td>1.00</td>\n",
              "      <td>0.00</td>\n",
              "      <td>0.0</td>\n",
              "      <td>0.00</td>\n",
              "      <td>0.0</td>\n",
              "      <td>0.0</td>\n",
              "    </tr>\n",
              "    <tr>\n",
              "      <th>2</th>\n",
              "      <td>0</td>\n",
              "      <td>tcp</td>\n",
              "      <td>http</td>\n",
              "      <td>SF</td>\n",
              "      <td>236</td>\n",
              "      <td>1228</td>\n",
              "      <td>0</td>\n",
              "      <td>0</td>\n",
              "      <td>0</td>\n",
              "      <td>0</td>\n",
              "      <td>...</td>\n",
              "      <td>2</td>\n",
              "      <td>2</td>\n",
              "      <td>1.0</td>\n",
              "      <td>0.0</td>\n",
              "      <td>0.50</td>\n",
              "      <td>0.00</td>\n",
              "      <td>0.0</td>\n",
              "      <td>0.00</td>\n",
              "      <td>0.0</td>\n",
              "      <td>0.0</td>\n",
              "    </tr>\n",
              "    <tr>\n",
              "      <th>3</th>\n",
              "      <td>0</td>\n",
              "      <td>tcp</td>\n",
              "      <td>http</td>\n",
              "      <td>SF</td>\n",
              "      <td>233</td>\n",
              "      <td>2032</td>\n",
              "      <td>0</td>\n",
              "      <td>0</td>\n",
              "      <td>0</td>\n",
              "      <td>0</td>\n",
              "      <td>...</td>\n",
              "      <td>3</td>\n",
              "      <td>3</td>\n",
              "      <td>1.0</td>\n",
              "      <td>0.0</td>\n",
              "      <td>0.33</td>\n",
              "      <td>0.00</td>\n",
              "      <td>0.0</td>\n",
              "      <td>0.00</td>\n",
              "      <td>0.0</td>\n",
              "      <td>0.0</td>\n",
              "    </tr>\n",
              "    <tr>\n",
              "      <th>4</th>\n",
              "      <td>0</td>\n",
              "      <td>tcp</td>\n",
              "      <td>http</td>\n",
              "      <td>SF</td>\n",
              "      <td>239</td>\n",
              "      <td>486</td>\n",
              "      <td>0</td>\n",
              "      <td>0</td>\n",
              "      <td>0</td>\n",
              "      <td>0</td>\n",
              "      <td>...</td>\n",
              "      <td>4</td>\n",
              "      <td>4</td>\n",
              "      <td>1.0</td>\n",
              "      <td>0.0</td>\n",
              "      <td>0.25</td>\n",
              "      <td>0.00</td>\n",
              "      <td>0.0</td>\n",
              "      <td>0.00</td>\n",
              "      <td>0.0</td>\n",
              "      <td>0.0</td>\n",
              "    </tr>\n",
              "    <tr>\n",
              "      <th>...</th>\n",
              "      <td>...</td>\n",
              "      <td>...</td>\n",
              "      <td>...</td>\n",
              "      <td>...</td>\n",
              "      <td>...</td>\n",
              "      <td>...</td>\n",
              "      <td>...</td>\n",
              "      <td>...</td>\n",
              "      <td>...</td>\n",
              "      <td>...</td>\n",
              "      <td>...</td>\n",
              "      <td>...</td>\n",
              "      <td>...</td>\n",
              "      <td>...</td>\n",
              "      <td>...</td>\n",
              "      <td>...</td>\n",
              "      <td>...</td>\n",
              "      <td>...</td>\n",
              "      <td>...</td>\n",
              "      <td>...</td>\n",
              "      <td>...</td>\n",
              "    </tr>\n",
              "    <tr>\n",
              "      <th>4898426</th>\n",
              "      <td>0</td>\n",
              "      <td>tcp</td>\n",
              "      <td>http</td>\n",
              "      <td>SF</td>\n",
              "      <td>212</td>\n",
              "      <td>2288</td>\n",
              "      <td>0</td>\n",
              "      <td>0</td>\n",
              "      <td>0</td>\n",
              "      <td>0</td>\n",
              "      <td>...</td>\n",
              "      <td>3</td>\n",
              "      <td>255</td>\n",
              "      <td>1.0</td>\n",
              "      <td>0.0</td>\n",
              "      <td>0.33</td>\n",
              "      <td>0.05</td>\n",
              "      <td>0.0</td>\n",
              "      <td>0.01</td>\n",
              "      <td>0.0</td>\n",
              "      <td>0.0</td>\n",
              "    </tr>\n",
              "    <tr>\n",
              "      <th>4898427</th>\n",
              "      <td>0</td>\n",
              "      <td>tcp</td>\n",
              "      <td>http</td>\n",
              "      <td>SF</td>\n",
              "      <td>219</td>\n",
              "      <td>236</td>\n",
              "      <td>0</td>\n",
              "      <td>0</td>\n",
              "      <td>0</td>\n",
              "      <td>0</td>\n",
              "      <td>...</td>\n",
              "      <td>4</td>\n",
              "      <td>255</td>\n",
              "      <td>1.0</td>\n",
              "      <td>0.0</td>\n",
              "      <td>0.25</td>\n",
              "      <td>0.05</td>\n",
              "      <td>0.0</td>\n",
              "      <td>0.01</td>\n",
              "      <td>0.0</td>\n",
              "      <td>0.0</td>\n",
              "    </tr>\n",
              "    <tr>\n",
              "      <th>4898428</th>\n",
              "      <td>0</td>\n",
              "      <td>tcp</td>\n",
              "      <td>http</td>\n",
              "      <td>SF</td>\n",
              "      <td>218</td>\n",
              "      <td>3610</td>\n",
              "      <td>0</td>\n",
              "      <td>0</td>\n",
              "      <td>0</td>\n",
              "      <td>0</td>\n",
              "      <td>...</td>\n",
              "      <td>5</td>\n",
              "      <td>255</td>\n",
              "      <td>1.0</td>\n",
              "      <td>0.0</td>\n",
              "      <td>0.20</td>\n",
              "      <td>0.05</td>\n",
              "      <td>0.0</td>\n",
              "      <td>0.01</td>\n",
              "      <td>0.0</td>\n",
              "      <td>0.0</td>\n",
              "    </tr>\n",
              "    <tr>\n",
              "      <th>4898429</th>\n",
              "      <td>0</td>\n",
              "      <td>tcp</td>\n",
              "      <td>http</td>\n",
              "      <td>SF</td>\n",
              "      <td>219</td>\n",
              "      <td>1234</td>\n",
              "      <td>0</td>\n",
              "      <td>0</td>\n",
              "      <td>0</td>\n",
              "      <td>0</td>\n",
              "      <td>...</td>\n",
              "      <td>6</td>\n",
              "      <td>255</td>\n",
              "      <td>1.0</td>\n",
              "      <td>0.0</td>\n",
              "      <td>0.17</td>\n",
              "      <td>0.05</td>\n",
              "      <td>0.0</td>\n",
              "      <td>0.01</td>\n",
              "      <td>0.0</td>\n",
              "      <td>0.0</td>\n",
              "    </tr>\n",
              "    <tr>\n",
              "      <th>4898430</th>\n",
              "      <td>0</td>\n",
              "      <td>tcp</td>\n",
              "      <td>http</td>\n",
              "      <td>SF</td>\n",
              "      <td>219</td>\n",
              "      <td>1098</td>\n",
              "      <td>0</td>\n",
              "      <td>0</td>\n",
              "      <td>0</td>\n",
              "      <td>0</td>\n",
              "      <td>...</td>\n",
              "      <td>7</td>\n",
              "      <td>255</td>\n",
              "      <td>1.0</td>\n",
              "      <td>0.0</td>\n",
              "      <td>0.14</td>\n",
              "      <td>0.05</td>\n",
              "      <td>0.0</td>\n",
              "      <td>0.01</td>\n",
              "      <td>0.0</td>\n",
              "      <td>0.0</td>\n",
              "    </tr>\n",
              "  </tbody>\n",
              "</table>\n",
              "<p>4898431 rows × 41 columns</p>\n",
              "</div>\n",
              "      <button class=\"colab-df-convert\" onclick=\"convertToInteractive('df-346fa6d9-9f47-4d2a-8456-eb3b4986e3ac')\"\n",
              "              title=\"Convert this dataframe to an interactive table.\"\n",
              "              style=\"display:none;\">\n",
              "        \n",
              "  <svg xmlns=\"http://www.w3.org/2000/svg\" height=\"24px\"viewBox=\"0 0 24 24\"\n",
              "       width=\"24px\">\n",
              "    <path d=\"M0 0h24v24H0V0z\" fill=\"none\"/>\n",
              "    <path d=\"M18.56 5.44l.94 2.06.94-2.06 2.06-.94-2.06-.94-.94-2.06-.94 2.06-2.06.94zm-11 1L8.5 8.5l.94-2.06 2.06-.94-2.06-.94L8.5 2.5l-.94 2.06-2.06.94zm10 10l.94 2.06.94-2.06 2.06-.94-2.06-.94-.94-2.06-.94 2.06-2.06.94z\"/><path d=\"M17.41 7.96l-1.37-1.37c-.4-.4-.92-.59-1.43-.59-.52 0-1.04.2-1.43.59L10.3 9.45l-7.72 7.72c-.78.78-.78 2.05 0 2.83L4 21.41c.39.39.9.59 1.41.59.51 0 1.02-.2 1.41-.59l7.78-7.78 2.81-2.81c.8-.78.8-2.07 0-2.86zM5.41 20L4 18.59l7.72-7.72 1.47 1.35L5.41 20z\"/>\n",
              "  </svg>\n",
              "      </button>\n",
              "      \n",
              "  <style>\n",
              "    .colab-df-container {\n",
              "      display:flex;\n",
              "      flex-wrap:wrap;\n",
              "      gap: 12px;\n",
              "    }\n",
              "\n",
              "    .colab-df-convert {\n",
              "      background-color: #E8F0FE;\n",
              "      border: none;\n",
              "      border-radius: 50%;\n",
              "      cursor: pointer;\n",
              "      display: none;\n",
              "      fill: #1967D2;\n",
              "      height: 32px;\n",
              "      padding: 0 0 0 0;\n",
              "      width: 32px;\n",
              "    }\n",
              "\n",
              "    .colab-df-convert:hover {\n",
              "      background-color: #E2EBFA;\n",
              "      box-shadow: 0px 1px 2px rgba(60, 64, 67, 0.3), 0px 1px 3px 1px rgba(60, 64, 67, 0.15);\n",
              "      fill: #174EA6;\n",
              "    }\n",
              "\n",
              "    [theme=dark] .colab-df-convert {\n",
              "      background-color: #3B4455;\n",
              "      fill: #D2E3FC;\n",
              "    }\n",
              "\n",
              "    [theme=dark] .colab-df-convert:hover {\n",
              "      background-color: #434B5C;\n",
              "      box-shadow: 0px 1px 3px 1px rgba(0, 0, 0, 0.15);\n",
              "      filter: drop-shadow(0px 1px 2px rgba(0, 0, 0, 0.3));\n",
              "      fill: #FFFFFF;\n",
              "    }\n",
              "  </style>\n",
              "\n",
              "      <script>\n",
              "        const buttonEl =\n",
              "          document.querySelector('#df-346fa6d9-9f47-4d2a-8456-eb3b4986e3ac button.colab-df-convert');\n",
              "        buttonEl.style.display =\n",
              "          google.colab.kernel.accessAllowed ? 'block' : 'none';\n",
              "\n",
              "        async function convertToInteractive(key) {\n",
              "          const element = document.querySelector('#df-346fa6d9-9f47-4d2a-8456-eb3b4986e3ac');\n",
              "          const dataTable =\n",
              "            await google.colab.kernel.invokeFunction('convertToInteractive',\n",
              "                                                     [key], {});\n",
              "          if (!dataTable) return;\n",
              "\n",
              "          const docLinkHtml = 'Like what you see? Visit the ' +\n",
              "            '<a target=\"_blank\" href=https://colab.research.google.com/notebooks/data_table.ipynb>data table notebook</a>'\n",
              "            + ' to learn more about interactive tables.';\n",
              "          element.innerHTML = '';\n",
              "          dataTable['output_type'] = 'display_data';\n",
              "          await google.colab.output.renderOutput(dataTable, element);\n",
              "          const docLink = document.createElement('div');\n",
              "          docLink.innerHTML = docLinkHtml;\n",
              "          element.appendChild(docLink);\n",
              "        }\n",
              "      </script>\n",
              "    </div>\n",
              "  </div>\n",
              "  "
            ]
          },
          "metadata": {},
          "execution_count": 6
        }
      ]
    },
    {
      "cell_type": "markdown",
      "source": [
        "<a name=\"3.4\"></a>\n",
        "### Change the categorical features to numericals"
      ],
      "metadata": {
        "id": "gefly5ZsvhUx"
      }
    },
    {
      "cell_type": "code",
      "source": [
        "def convert_string_to_numeric(data_frame):\n",
        "  # df_copy = data_frame.copy()\n",
        "  for col in data_frame:\n",
        "    if data_frame[col].dtypes == object:\n",
        "      my_dict = {elem: index for index, elem in enumerate(data_frame[col].unique())}\n",
        "      data_frame[col].replace(my_dict, inplace=True)\n",
        "  return data_frame"
      ],
      "metadata": {
        "id": "U-ctoA6ApH4a"
      },
      "execution_count": 7,
      "outputs": []
    },
    {
      "cell_type": "code",
      "source": [
        "def convert_string_to_binary_numeric(data_frame):\n",
        "  # df_copy = data_frame.copy()\n",
        "  for col in data_frame:\n",
        "    if data_frame[col].dtypes == object:\n",
        "      df1 = pd.get_dummies(data_frame[col])\n",
        "      data_frame = pd.concat([data_frame, df1], axis=1).reindex(data_frame.index)\n",
        "      data_frame.drop(col, axis=1, inplace=True)\n",
        "  return data_frame"
      ],
      "metadata": {
        "id": "J1ozKFVvCMZ0"
      },
      "execution_count": 8,
      "outputs": []
    },
    {
      "cell_type": "code",
      "source": [
        "# use either of them but not both\n",
        "# convert_string_to_numeric(data_without_labels.copy())\n",
        "\n",
        "data_without_labels = convert_string_to_binary_numeric(data_without_labels)"
      ],
      "metadata": {
        "id": "GWiaHM6REUUs"
      },
      "execution_count": 9,
      "outputs": []
    },
    {
      "cell_type": "markdown",
      "source": [
        "<a name=\"3\"></a>\n",
        "## 3 - K-means\n",
        "\n"
      ],
      "metadata": {
        "id": "dVHv5bCOwMmR"
      }
    },
    {
      "cell_type": "code",
      "source": [
        "def Kmeans(data_frame_no_label, k = 3):\n",
        "  "
      ],
      "metadata": {
        "id": "N7ITN6miwTYZ"
      },
      "execution_count": null,
      "outputs": []
    },
    {
      "cell_type": "markdown",
      "source": [
        "<a name=\"4\"></a>\n",
        "## 4 - Spectral clustering\n"
      ],
      "metadata": {
        "id": "LNl38qw_387c"
      }
    },
    {
      "cell_type": "code",
      "source": [
        "def spectral_clustering(data_frame_no_label, k = 3):\n"
      ],
      "metadata": {
        "id": "KzXTLxZQDRwR"
      },
      "execution_count": null,
      "outputs": []
    },
    {
      "cell_type": "markdown",
      "source": [
        "<a name=\"5\"></a> \n",
        "## 5-  New Clustering Algorithm"
      ],
      "metadata": {
        "id": "yY2uwUxKCJEb"
      }
    },
    {
      "cell_type": "code",
      "source": [
        "def new_clustering_algorithm(data_frame_no_label, k = 3):\n",
        "  "
      ],
      "metadata": {
        "id": "PxogUrTMCY_T"
      },
      "execution_count": null,
      "outputs": []
    },
    {
      "cell_type": "markdown",
      "source": [
        "<a name=\"6\"></a>\n",
        "## 6- Clustering Evaluation"
      ],
      "metadata": {
        "id": "105ONBP6CZbx"
      }
    },
    {
      "cell_type": "code",
      "source": [],
      "metadata": {
        "id": "GuKFNtuTCjmp"
      },
      "execution_count": null,
      "outputs": []
    }
  ]
}