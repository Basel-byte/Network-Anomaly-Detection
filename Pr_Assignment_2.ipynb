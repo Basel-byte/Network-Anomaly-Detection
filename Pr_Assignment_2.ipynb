{
  "cells": [
    {
      "cell_type": "markdown",
      "metadata": {
        "id": "view-in-github",
        "colab_type": "text"
      },
      "source": [
        "<a href=\"https://colab.research.google.com/github/Basel-byte/Network-Anomaly-Detection/blob/new-clustering-algorithm/Pr_Assignment_2.ipynb\" target=\"_parent\"><img src=\"https://colab.research.google.com/assets/colab-badge.svg\" alt=\"Open In Colab\"/></a>"
      ]
    },
    {
      "cell_type": "markdown",
      "metadata": {
        "id": "rA6RmzKXUtpw"
      },
      "source": [
        "# Practice Lab: Clustering  \n",
        "\n",
        "In this exercise, we will know how K-Means and Normalized Cut algorithms can be used for network anomaly detection.\n",
        "\n",
        "# Outline\n",
        "- [ 1 - Extracting Dataset](#1)\n",
        "- [ 2 - Packages ](#2)\n",
        "- [ 3 - Reading data and Preprocessing](#3)\n",
        "  - [3.1 Reading Columns' Names](#3.1)\n",
        "  - [3.2 Reading dataset](#3.2)\n",
        "  - [3.3 Removing class column](#3.3)\n",
        "  - [3.4 Changing Categorical features to numericals](#3.4)\n",
        "  \n",
        "   \n",
        "- [ 4 - K-means](#4)\n",
        "- [ 5 - Spectral Clustering](#5)\n",
        "- [ 6 - New Clustering Algorithm](#6)\n",
        "- [ 7 - Clustering Evaluation](#7)\n",
        "\n",
        "  "
      ]
    },
    {
      "cell_type": "markdown",
      "metadata": {
        "id": "bCvocyZI206f"
      },
      "source": [
        "<a name=\"1\"></a>\n",
        "## 1 - Extracting Dataset"
      ]
    },
    {
      "cell_type": "code",
      "execution_count": 2,
      "metadata": {
        "colab": {
          "base_uri": "https://localhost:8080/"
        },
        "id": "5d5fTIlGDE6j",
        "outputId": "16fa3b19-5369-4ec6-ab0c-a40b95300636"
      },
      "outputs": [
        {
          "output_type": "stream",
          "name": "stdout",
          "text": [
            "Mounted at /content/drive\n"
          ]
        }
      ],
      "source": [
        "from google.colab import drive\n",
        "drive.mount('/content/drive')"
      ]
    },
    {
      "cell_type": "code",
      "execution_count": 3,
      "metadata": {
        "colab": {
          "base_uri": "https://localhost:8080/"
        },
        "id": "FkFm0EkaZNP-",
        "outputId": "c88f7807-92ce-4778-e066-fa69ab50ef32"
      },
      "outputs": [
        {
          "output_type": "stream",
          "name": "stdout",
          "text": [
            "gzip: /content/drive/MyDrive/kddcup.data.gz: No such file or directory\n"
          ]
        }
      ],
      "source": [
        "# do not run if you have unzipped the dataset\n",
        "!gzip -d /content/drive/MyDrive/kddcup.data.gz"
      ]
    },
    {
      "cell_type": "markdown",
      "metadata": {
        "id": "nDbrePFpVTBq"
      },
      "source": [
        "<a name=\"2\"></a>\n",
        "## 2 - Packages \n",
        "\n",
        "First, let's run the cell below to import all the packages that you will need during this assignment.\n",
        "- [numpy](https://numpy.org/) is the fundamental package for scientific computing with Python.\n",
        "<!-- - [matplotlib](http://matplotlib.org) is a popular library to plot graphs in Python. -->\n",
        "<!-- - [tensorflow](https://www.tensorflow.org/) a popular platform for machine learning. -->\n",
        "- [pandas](https://pandas.pydata.org/) is open source data analysis and manipulation tool."
      ]
    },
    {
      "cell_type": "code",
      "execution_count": 54,
      "metadata": {
        "id": "2tTmV2lQUsuN"
      },
      "outputs": [],
      "source": [
        "import numpy as np\n",
        "import pandas as pd\n",
        "import os\n",
        "import requests\n",
        "from enum import Enum\n",
        "import re\n",
        "from scipy.spatial import KDTree\n",
        "from sklearn.metrics.pairwise import pairwise_distances\n",
        "import matplotlib.pyplot as plt"
      ]
    },
    {
      "cell_type": "markdown",
      "metadata": {
        "id": "QMgrr6i6WguO"
      },
      "source": [
        "<a name=\"3\"></a>\n",
        "## 3 - Reading data and Preprocessing"
      ]
    },
    {
      "cell_type": "markdown",
      "metadata": {
        "id": "ENPDaqPivF6N"
      },
      "source": [
        "<a name=\"3.1\"></a>\n",
        "#### Reading columns' names "
      ]
    },
    {
      "cell_type": "code",
      "execution_count": 5,
      "metadata": {
        "id": "CL5Dg8HyctXU"
      },
      "outputs": [],
      "source": [
        "DATASET_COLUMNS_FILE = \"/content/drive/MyDrive/kddcup1999_columns.txt\"\n",
        "column_types =[]\n",
        "\n",
        "with open(DATASET_COLUMNS_FILE, 'r') as file:\n",
        "    column_labels: str = file.read()\n",
        "\n",
        "column_regex: re.Pattern = re.compile(r\"^(?P<column_name>\\w+): (?P<data_type>\\w+)\\.$\")\n",
        "for column_type in column_labels.splitlines()[:]:\n",
        "    match = column_regex.match(column_type)\n",
        "    column_types.append(match.group(\"column_name\"))\n"
      ]
    },
    {
      "cell_type": "markdown",
      "metadata": {
        "id": "tFA3LIyQvOoR"
      },
      "source": [
        "<a name=\"3.2\"></a>\n",
        "#### reading the dataset"
      ]
    },
    {
      "cell_type": "code",
      "execution_count": 6,
      "metadata": {
        "id": "VsdDQ3NzjWGx"
      },
      "outputs": [],
      "source": [
        "data = pd.read_csv(\"/content/drive/MyDrive/kddcup.data\", header=None)\n",
        "data.columns = column_types"
      ]
    },
    {
      "cell_type": "markdown",
      "metadata": {
        "id": "Y3IBQQcqvW6a"
      },
      "source": [
        "<a name=\"3.3\"></a>\n",
        "#### Removing class column"
      ]
    },
    {
      "cell_type": "code",
      "execution_count": 7,
      "metadata": {
        "colab": {
          "base_uri": "https://localhost:8080/",
          "height": 487
        },
        "id": "cfCpzpa7jsq8",
        "outputId": "91dcaebf-55be-4158-ccb5-7455cb7d8a31"
      },
      "outputs": [
        {
          "output_type": "execute_result",
          "data": {
            "text/plain": [
              "         duration protocol_type service flag  src_bytes  dst_bytes  land  \\\n",
              "0               0           tcp    http   SF        215      45076     0   \n",
              "1               0           tcp    http   SF        162       4528     0   \n",
              "2               0           tcp    http   SF        236       1228     0   \n",
              "3               0           tcp    http   SF        233       2032     0   \n",
              "4               0           tcp    http   SF        239        486     0   \n",
              "...           ...           ...     ...  ...        ...        ...   ...   \n",
              "4898426         0           tcp    http   SF        212       2288     0   \n",
              "4898427         0           tcp    http   SF        219        236     0   \n",
              "4898428         0           tcp    http   SF        218       3610     0   \n",
              "4898429         0           tcp    http   SF        219       1234     0   \n",
              "4898430         0           tcp    http   SF        219       1098     0   \n",
              "\n",
              "         wrong_fragment  urgent  hot  ...  dst_host_count  dst_host_srv_count  \\\n",
              "0                     0       0    0  ...               0                   0   \n",
              "1                     0       0    0  ...               1                   1   \n",
              "2                     0       0    0  ...               2                   2   \n",
              "3                     0       0    0  ...               3                   3   \n",
              "4                     0       0    0  ...               4                   4   \n",
              "...                 ...     ...  ...  ...             ...                 ...   \n",
              "4898426               0       0    0  ...               3                 255   \n",
              "4898427               0       0    0  ...               4                 255   \n",
              "4898428               0       0    0  ...               5                 255   \n",
              "4898429               0       0    0  ...               6                 255   \n",
              "4898430               0       0    0  ...               7                 255   \n",
              "\n",
              "         dst_host_same_srv_rate  dst_host_diff_srv_rate  \\\n",
              "0                           0.0                     0.0   \n",
              "1                           1.0                     0.0   \n",
              "2                           1.0                     0.0   \n",
              "3                           1.0                     0.0   \n",
              "4                           1.0                     0.0   \n",
              "...                         ...                     ...   \n",
              "4898426                     1.0                     0.0   \n",
              "4898427                     1.0                     0.0   \n",
              "4898428                     1.0                     0.0   \n",
              "4898429                     1.0                     0.0   \n",
              "4898430                     1.0                     0.0   \n",
              "\n",
              "         dst_host_same_src_port_rate  dst_host_srv_diff_host_rate  \\\n",
              "0                               0.00                         0.00   \n",
              "1                               1.00                         0.00   \n",
              "2                               0.50                         0.00   \n",
              "3                               0.33                         0.00   \n",
              "4                               0.25                         0.00   \n",
              "...                              ...                          ...   \n",
              "4898426                         0.33                         0.05   \n",
              "4898427                         0.25                         0.05   \n",
              "4898428                         0.20                         0.05   \n",
              "4898429                         0.17                         0.05   \n",
              "4898430                         0.14                         0.05   \n",
              "\n",
              "         dst_host_serror_rate  dst_host_srv_serror_rate  dst_host_rerror_rate  \\\n",
              "0                         0.0                      0.00                   0.0   \n",
              "1                         0.0                      0.00                   0.0   \n",
              "2                         0.0                      0.00                   0.0   \n",
              "3                         0.0                      0.00                   0.0   \n",
              "4                         0.0                      0.00                   0.0   \n",
              "...                       ...                       ...                   ...   \n",
              "4898426                   0.0                      0.01                   0.0   \n",
              "4898427                   0.0                      0.01                   0.0   \n",
              "4898428                   0.0                      0.01                   0.0   \n",
              "4898429                   0.0                      0.01                   0.0   \n",
              "4898430                   0.0                      0.01                   0.0   \n",
              "\n",
              "         dst_host_srv_rerror_rate  \n",
              "0                             0.0  \n",
              "1                             0.0  \n",
              "2                             0.0  \n",
              "3                             0.0  \n",
              "4                             0.0  \n",
              "...                           ...  \n",
              "4898426                       0.0  \n",
              "4898427                       0.0  \n",
              "4898428                       0.0  \n",
              "4898429                       0.0  \n",
              "4898430                       0.0  \n",
              "\n",
              "[4898431 rows x 41 columns]"
            ],
            "text/html": [
              "\n",
              "  <div id=\"df-5eb89b32-f3b2-4889-8353-8e74d486b7c2\">\n",
              "    <div class=\"colab-df-container\">\n",
              "      <div>\n",
              "<style scoped>\n",
              "    .dataframe tbody tr th:only-of-type {\n",
              "        vertical-align: middle;\n",
              "    }\n",
              "\n",
              "    .dataframe tbody tr th {\n",
              "        vertical-align: top;\n",
              "    }\n",
              "\n",
              "    .dataframe thead th {\n",
              "        text-align: right;\n",
              "    }\n",
              "</style>\n",
              "<table border=\"1\" class=\"dataframe\">\n",
              "  <thead>\n",
              "    <tr style=\"text-align: right;\">\n",
              "      <th></th>\n",
              "      <th>duration</th>\n",
              "      <th>protocol_type</th>\n",
              "      <th>service</th>\n",
              "      <th>flag</th>\n",
              "      <th>src_bytes</th>\n",
              "      <th>dst_bytes</th>\n",
              "      <th>land</th>\n",
              "      <th>wrong_fragment</th>\n",
              "      <th>urgent</th>\n",
              "      <th>hot</th>\n",
              "      <th>...</th>\n",
              "      <th>dst_host_count</th>\n",
              "      <th>dst_host_srv_count</th>\n",
              "      <th>dst_host_same_srv_rate</th>\n",
              "      <th>dst_host_diff_srv_rate</th>\n",
              "      <th>dst_host_same_src_port_rate</th>\n",
              "      <th>dst_host_srv_diff_host_rate</th>\n",
              "      <th>dst_host_serror_rate</th>\n",
              "      <th>dst_host_srv_serror_rate</th>\n",
              "      <th>dst_host_rerror_rate</th>\n",
              "      <th>dst_host_srv_rerror_rate</th>\n",
              "    </tr>\n",
              "  </thead>\n",
              "  <tbody>\n",
              "    <tr>\n",
              "      <th>0</th>\n",
              "      <td>0</td>\n",
              "      <td>tcp</td>\n",
              "      <td>http</td>\n",
              "      <td>SF</td>\n",
              "      <td>215</td>\n",
              "      <td>45076</td>\n",
              "      <td>0</td>\n",
              "      <td>0</td>\n",
              "      <td>0</td>\n",
              "      <td>0</td>\n",
              "      <td>...</td>\n",
              "      <td>0</td>\n",
              "      <td>0</td>\n",
              "      <td>0.0</td>\n",
              "      <td>0.0</td>\n",
              "      <td>0.00</td>\n",
              "      <td>0.00</td>\n",
              "      <td>0.0</td>\n",
              "      <td>0.00</td>\n",
              "      <td>0.0</td>\n",
              "      <td>0.0</td>\n",
              "    </tr>\n",
              "    <tr>\n",
              "      <th>1</th>\n",
              "      <td>0</td>\n",
              "      <td>tcp</td>\n",
              "      <td>http</td>\n",
              "      <td>SF</td>\n",
              "      <td>162</td>\n",
              "      <td>4528</td>\n",
              "      <td>0</td>\n",
              "      <td>0</td>\n",
              "      <td>0</td>\n",
              "      <td>0</td>\n",
              "      <td>...</td>\n",
              "      <td>1</td>\n",
              "      <td>1</td>\n",
              "      <td>1.0</td>\n",
              "      <td>0.0</td>\n",
              "      <td>1.00</td>\n",
              "      <td>0.00</td>\n",
              "      <td>0.0</td>\n",
              "      <td>0.00</td>\n",
              "      <td>0.0</td>\n",
              "      <td>0.0</td>\n",
              "    </tr>\n",
              "    <tr>\n",
              "      <th>2</th>\n",
              "      <td>0</td>\n",
              "      <td>tcp</td>\n",
              "      <td>http</td>\n",
              "      <td>SF</td>\n",
              "      <td>236</td>\n",
              "      <td>1228</td>\n",
              "      <td>0</td>\n",
              "      <td>0</td>\n",
              "      <td>0</td>\n",
              "      <td>0</td>\n",
              "      <td>...</td>\n",
              "      <td>2</td>\n",
              "      <td>2</td>\n",
              "      <td>1.0</td>\n",
              "      <td>0.0</td>\n",
              "      <td>0.50</td>\n",
              "      <td>0.00</td>\n",
              "      <td>0.0</td>\n",
              "      <td>0.00</td>\n",
              "      <td>0.0</td>\n",
              "      <td>0.0</td>\n",
              "    </tr>\n",
              "    <tr>\n",
              "      <th>3</th>\n",
              "      <td>0</td>\n",
              "      <td>tcp</td>\n",
              "      <td>http</td>\n",
              "      <td>SF</td>\n",
              "      <td>233</td>\n",
              "      <td>2032</td>\n",
              "      <td>0</td>\n",
              "      <td>0</td>\n",
              "      <td>0</td>\n",
              "      <td>0</td>\n",
              "      <td>...</td>\n",
              "      <td>3</td>\n",
              "      <td>3</td>\n",
              "      <td>1.0</td>\n",
              "      <td>0.0</td>\n",
              "      <td>0.33</td>\n",
              "      <td>0.00</td>\n",
              "      <td>0.0</td>\n",
              "      <td>0.00</td>\n",
              "      <td>0.0</td>\n",
              "      <td>0.0</td>\n",
              "    </tr>\n",
              "    <tr>\n",
              "      <th>4</th>\n",
              "      <td>0</td>\n",
              "      <td>tcp</td>\n",
              "      <td>http</td>\n",
              "      <td>SF</td>\n",
              "      <td>239</td>\n",
              "      <td>486</td>\n",
              "      <td>0</td>\n",
              "      <td>0</td>\n",
              "      <td>0</td>\n",
              "      <td>0</td>\n",
              "      <td>...</td>\n",
              "      <td>4</td>\n",
              "      <td>4</td>\n",
              "      <td>1.0</td>\n",
              "      <td>0.0</td>\n",
              "      <td>0.25</td>\n",
              "      <td>0.00</td>\n",
              "      <td>0.0</td>\n",
              "      <td>0.00</td>\n",
              "      <td>0.0</td>\n",
              "      <td>0.0</td>\n",
              "    </tr>\n",
              "    <tr>\n",
              "      <th>...</th>\n",
              "      <td>...</td>\n",
              "      <td>...</td>\n",
              "      <td>...</td>\n",
              "      <td>...</td>\n",
              "      <td>...</td>\n",
              "      <td>...</td>\n",
              "      <td>...</td>\n",
              "      <td>...</td>\n",
              "      <td>...</td>\n",
              "      <td>...</td>\n",
              "      <td>...</td>\n",
              "      <td>...</td>\n",
              "      <td>...</td>\n",
              "      <td>...</td>\n",
              "      <td>...</td>\n",
              "      <td>...</td>\n",
              "      <td>...</td>\n",
              "      <td>...</td>\n",
              "      <td>...</td>\n",
              "      <td>...</td>\n",
              "      <td>...</td>\n",
              "    </tr>\n",
              "    <tr>\n",
              "      <th>4898426</th>\n",
              "      <td>0</td>\n",
              "      <td>tcp</td>\n",
              "      <td>http</td>\n",
              "      <td>SF</td>\n",
              "      <td>212</td>\n",
              "      <td>2288</td>\n",
              "      <td>0</td>\n",
              "      <td>0</td>\n",
              "      <td>0</td>\n",
              "      <td>0</td>\n",
              "      <td>...</td>\n",
              "      <td>3</td>\n",
              "      <td>255</td>\n",
              "      <td>1.0</td>\n",
              "      <td>0.0</td>\n",
              "      <td>0.33</td>\n",
              "      <td>0.05</td>\n",
              "      <td>0.0</td>\n",
              "      <td>0.01</td>\n",
              "      <td>0.0</td>\n",
              "      <td>0.0</td>\n",
              "    </tr>\n",
              "    <tr>\n",
              "      <th>4898427</th>\n",
              "      <td>0</td>\n",
              "      <td>tcp</td>\n",
              "      <td>http</td>\n",
              "      <td>SF</td>\n",
              "      <td>219</td>\n",
              "      <td>236</td>\n",
              "      <td>0</td>\n",
              "      <td>0</td>\n",
              "      <td>0</td>\n",
              "      <td>0</td>\n",
              "      <td>...</td>\n",
              "      <td>4</td>\n",
              "      <td>255</td>\n",
              "      <td>1.0</td>\n",
              "      <td>0.0</td>\n",
              "      <td>0.25</td>\n",
              "      <td>0.05</td>\n",
              "      <td>0.0</td>\n",
              "      <td>0.01</td>\n",
              "      <td>0.0</td>\n",
              "      <td>0.0</td>\n",
              "    </tr>\n",
              "    <tr>\n",
              "      <th>4898428</th>\n",
              "      <td>0</td>\n",
              "      <td>tcp</td>\n",
              "      <td>http</td>\n",
              "      <td>SF</td>\n",
              "      <td>218</td>\n",
              "      <td>3610</td>\n",
              "      <td>0</td>\n",
              "      <td>0</td>\n",
              "      <td>0</td>\n",
              "      <td>0</td>\n",
              "      <td>...</td>\n",
              "      <td>5</td>\n",
              "      <td>255</td>\n",
              "      <td>1.0</td>\n",
              "      <td>0.0</td>\n",
              "      <td>0.20</td>\n",
              "      <td>0.05</td>\n",
              "      <td>0.0</td>\n",
              "      <td>0.01</td>\n",
              "      <td>0.0</td>\n",
              "      <td>0.0</td>\n",
              "    </tr>\n",
              "    <tr>\n",
              "      <th>4898429</th>\n",
              "      <td>0</td>\n",
              "      <td>tcp</td>\n",
              "      <td>http</td>\n",
              "      <td>SF</td>\n",
              "      <td>219</td>\n",
              "      <td>1234</td>\n",
              "      <td>0</td>\n",
              "      <td>0</td>\n",
              "      <td>0</td>\n",
              "      <td>0</td>\n",
              "      <td>...</td>\n",
              "      <td>6</td>\n",
              "      <td>255</td>\n",
              "      <td>1.0</td>\n",
              "      <td>0.0</td>\n",
              "      <td>0.17</td>\n",
              "      <td>0.05</td>\n",
              "      <td>0.0</td>\n",
              "      <td>0.01</td>\n",
              "      <td>0.0</td>\n",
              "      <td>0.0</td>\n",
              "    </tr>\n",
              "    <tr>\n",
              "      <th>4898430</th>\n",
              "      <td>0</td>\n",
              "      <td>tcp</td>\n",
              "      <td>http</td>\n",
              "      <td>SF</td>\n",
              "      <td>219</td>\n",
              "      <td>1098</td>\n",
              "      <td>0</td>\n",
              "      <td>0</td>\n",
              "      <td>0</td>\n",
              "      <td>0</td>\n",
              "      <td>...</td>\n",
              "      <td>7</td>\n",
              "      <td>255</td>\n",
              "      <td>1.0</td>\n",
              "      <td>0.0</td>\n",
              "      <td>0.14</td>\n",
              "      <td>0.05</td>\n",
              "      <td>0.0</td>\n",
              "      <td>0.01</td>\n",
              "      <td>0.0</td>\n",
              "      <td>0.0</td>\n",
              "    </tr>\n",
              "  </tbody>\n",
              "</table>\n",
              "<p>4898431 rows × 41 columns</p>\n",
              "</div>\n",
              "      <button class=\"colab-df-convert\" onclick=\"convertToInteractive('df-5eb89b32-f3b2-4889-8353-8e74d486b7c2')\"\n",
              "              title=\"Convert this dataframe to an interactive table.\"\n",
              "              style=\"display:none;\">\n",
              "        \n",
              "  <svg xmlns=\"http://www.w3.org/2000/svg\" height=\"24px\"viewBox=\"0 0 24 24\"\n",
              "       width=\"24px\">\n",
              "    <path d=\"M0 0h24v24H0V0z\" fill=\"none\"/>\n",
              "    <path d=\"M18.56 5.44l.94 2.06.94-2.06 2.06-.94-2.06-.94-.94-2.06-.94 2.06-2.06.94zm-11 1L8.5 8.5l.94-2.06 2.06-.94-2.06-.94L8.5 2.5l-.94 2.06-2.06.94zm10 10l.94 2.06.94-2.06 2.06-.94-2.06-.94-.94-2.06-.94 2.06-2.06.94z\"/><path d=\"M17.41 7.96l-1.37-1.37c-.4-.4-.92-.59-1.43-.59-.52 0-1.04.2-1.43.59L10.3 9.45l-7.72 7.72c-.78.78-.78 2.05 0 2.83L4 21.41c.39.39.9.59 1.41.59.51 0 1.02-.2 1.41-.59l7.78-7.78 2.81-2.81c.8-.78.8-2.07 0-2.86zM5.41 20L4 18.59l7.72-7.72 1.47 1.35L5.41 20z\"/>\n",
              "  </svg>\n",
              "      </button>\n",
              "      \n",
              "  <style>\n",
              "    .colab-df-container {\n",
              "      display:flex;\n",
              "      flex-wrap:wrap;\n",
              "      gap: 12px;\n",
              "    }\n",
              "\n",
              "    .colab-df-convert {\n",
              "      background-color: #E8F0FE;\n",
              "      border: none;\n",
              "      border-radius: 50%;\n",
              "      cursor: pointer;\n",
              "      display: none;\n",
              "      fill: #1967D2;\n",
              "      height: 32px;\n",
              "      padding: 0 0 0 0;\n",
              "      width: 32px;\n",
              "    }\n",
              "\n",
              "    .colab-df-convert:hover {\n",
              "      background-color: #E2EBFA;\n",
              "      box-shadow: 0px 1px 2px rgba(60, 64, 67, 0.3), 0px 1px 3px 1px rgba(60, 64, 67, 0.15);\n",
              "      fill: #174EA6;\n",
              "    }\n",
              "\n",
              "    [theme=dark] .colab-df-convert {\n",
              "      background-color: #3B4455;\n",
              "      fill: #D2E3FC;\n",
              "    }\n",
              "\n",
              "    [theme=dark] .colab-df-convert:hover {\n",
              "      background-color: #434B5C;\n",
              "      box-shadow: 0px 1px 3px 1px rgba(0, 0, 0, 0.15);\n",
              "      filter: drop-shadow(0px 1px 2px rgba(0, 0, 0, 0.3));\n",
              "      fill: #FFFFFF;\n",
              "    }\n",
              "  </style>\n",
              "\n",
              "      <script>\n",
              "        const buttonEl =\n",
              "          document.querySelector('#df-5eb89b32-f3b2-4889-8353-8e74d486b7c2 button.colab-df-convert');\n",
              "        buttonEl.style.display =\n",
              "          google.colab.kernel.accessAllowed ? 'block' : 'none';\n",
              "\n",
              "        async function convertToInteractive(key) {\n",
              "          const element = document.querySelector('#df-5eb89b32-f3b2-4889-8353-8e74d486b7c2');\n",
              "          const dataTable =\n",
              "            await google.colab.kernel.invokeFunction('convertToInteractive',\n",
              "                                                     [key], {});\n",
              "          if (!dataTable) return;\n",
              "\n",
              "          const docLinkHtml = 'Like what you see? Visit the ' +\n",
              "            '<a target=\"_blank\" href=https://colab.research.google.com/notebooks/data_table.ipynb>data table notebook</a>'\n",
              "            + ' to learn more about interactive tables.';\n",
              "          element.innerHTML = '';\n",
              "          dataTable['output_type'] = 'display_data';\n",
              "          await google.colab.output.renderOutput(dataTable, element);\n",
              "          const docLink = document.createElement('div');\n",
              "          docLink.innerHTML = docLinkHtml;\n",
              "          element.appendChild(docLink);\n",
              "        }\n",
              "      </script>\n",
              "    </div>\n",
              "  </div>\n",
              "  "
            ]
          },
          "metadata": {},
          "execution_count": 7
        }
      ],
      "source": [
        "data_without_labels = data.drop(columns=[\"class\"])\n",
        "labels = data[\"class\"]\n",
        "del data\n",
        "del column_types\n",
        "data_without_labels"
      ]
    },
    {
      "cell_type": "markdown",
      "metadata": {
        "id": "gefly5ZsvhUx"
      },
      "source": [
        "<a name=\"3.4\"></a>\n",
        "### Change the categorical features to numericals"
      ]
    },
    {
      "cell_type": "code",
      "execution_count": 8,
      "metadata": {
        "id": "U-ctoA6ApH4a"
      },
      "outputs": [],
      "source": [
        "def convert_string_to_numeric(data_frame):\n",
        "  # df_copy = data_frame.copy()\n",
        "  for col in data_frame:\n",
        "    if data_frame[col].dtypes == object:\n",
        "      my_dict = {elem: index for index, elem in enumerate(data_frame[col].unique())}\n",
        "      data_frame[col].replace(my_dict, inplace=True)\n",
        "  return data_frame"
      ]
    },
    {
      "cell_type": "code",
      "execution_count": 9,
      "metadata": {
        "id": "J1ozKFVvCMZ0"
      },
      "outputs": [],
      "source": [
        "def convert_string_to_binary_numeric(data_frame):\n",
        "  # df_copy = data_frame.copy()\n",
        "  for col in data_frame:\n",
        "    if data_frame[col].dtypes == object:\n",
        "      df1 = pd.get_dummies(data_frame[col])\n",
        "      data_frame = pd.concat([data_frame, df1], axis=1).reindex(data_frame.index)\n",
        "      data_frame.drop(col, axis=1, inplace=True)\n",
        "  return data_frame"
      ]
    },
    {
      "cell_type": "code",
      "execution_count": 10,
      "metadata": {
        "id": "GWiaHM6REUUs"
      },
      "outputs": [],
      "source": [
        "# use either of them but not both\n",
        "# convert_string_to_numeric(data_without_labels.copy())\n",
        "\n",
        "data_without_labels = convert_string_to_binary_numeric(data_without_labels)"
      ]
    },
    {
      "cell_type": "markdown",
      "metadata": {
        "id": "dVHv5bCOwMmR"
      },
      "source": [
        "<a name=\"3\"></a>\n",
        "## 3 - K-means\n",
        "\n"
      ]
    },
    {
      "cell_type": "code",
      "execution_count": 11,
      "metadata": {
        "id": "N7ITN6miwTYZ"
      },
      "outputs": [],
      "source": [
        "def Kmeans(data_frame_no_label, k = 3):\n",
        "  return 0"
      ]
    },
    {
      "cell_type": "markdown",
      "metadata": {
        "id": "LNl38qw_387c"
      },
      "source": [
        "<a name=\"4\"></a>\n",
        "## 4 - Spectral clustering\n"
      ]
    },
    {
      "cell_type": "code",
      "execution_count": 12,
      "metadata": {
        "id": "KzXTLxZQDRwR"
      },
      "outputs": [],
      "source": [
        "def spectral_clustering(data_frame_no_label, k = 3):\n",
        "  return 0"
      ]
    },
    {
      "cell_type": "markdown",
      "metadata": {
        "id": "yY2uwUxKCJEb"
      },
      "source": [
        "<a name=\"5\"></a> \n",
        "## 5-  New Clustering Algorithm (Density-Based Spatial Clustering for Applications with Noise (DBSCAN))"
      ]
    },
    {
      "cell_type": "code",
      "execution_count": 13,
      "metadata": {
        "id": "EV-XC1XsOUQf"
      },
      "outputs": [],
      "source": [
        "def nearby_points_indices(D, point, epsilon, tree):\n",
        "  nearby_points_indices = tree.query_ball_point(point, epsilon)\n",
        "  return nearby_points_indices\n"
      ]
    },
    {
      "cell_type": "code",
      "execution_count": 14,
      "metadata": {
        "id": "PxogUrTMCY_T"
      },
      "outputs": [],
      "source": [
        "def DBSCAN(D, epsilon, min_points=4):\n",
        "  tree = KDTree(D)\n",
        "  clusters = 0\n",
        "  assignments = np.zeros(D.shape[0], dtype=np.int32)\n",
        "  visited = [False] * D.shape[0]\n",
        "  for i in range(D.shape[0]):\n",
        "    if not visited[i]:\n",
        "      visited[i] = True\n",
        "      neighbor_indices = nearby_points_indices(D, D[i], epsilon, tree)\n",
        "      if len(neighbor_indices) > min_points:\n",
        "        clusters += 1\n",
        "        D[i] = clusters\n",
        "        expand_cluster(D, D[i], neighbor_indices, clusters, visited, assignments, tree, epsilon, min_points)\n",
        "  return assignments"
      ]
    },
    {
      "cell_type": "code",
      "execution_count": 15,
      "metadata": {
        "id": "VWuO_SWP3yNy"
      },
      "outputs": [],
      "source": [
        "def expand_cluster(D, point, neighbor_indices, clusters, visited, assignments, tree, epsilon, min_points):\n",
        "  for neighbor_index in neighbor_indices:\n",
        "    if not visited[neighbor_index]:\n",
        "      visited[neighbor_index] = True\n",
        "      neighbors_of_neighbor = nearby_points_indices(D, D[neighbor_index], epsilon, tree) \n",
        "      if len(neighbors_of_neighbor) > min_points:\n",
        "        neighbor_indices.extend(neighbors_of_neighbor)\n",
        "    if assignments[neighbor_index] == 0:\n",
        "      assignments[neighbor_index] = clusters\n",
        "\n"
      ]
    },
    {
      "cell_type": "markdown",
      "source": [
        "### Plotting K-nearest distance graph to compute the best value for epsilon "
      ],
      "metadata": {
        "id": "cn3XiEsDOAk0"
      }
    },
    {
      "cell_type": "code",
      "source": [
        "slice = 10000\n",
        "data = np.array(data_without_labels[:slice])\n",
        "distances = pairwise_distances(data)\n",
        "k_nearest_distances = distances[:, 4]\n",
        "k_nearest_distances = np.sort(k_nearest_distances)\n",
        "x = np.arange(0, slice);\n",
        "plt.plot(x, k_nearest_distances)\n",
        "plt.xlabel(\"points sorted according to 5th kneighbor distance\")\n",
        "plt.ylabel(\"5th kneighbor distance\")\n",
        "plt.show()\n",
        "np.average(k_nearest_distances[:9000])"
      ],
      "metadata": {
        "colab": {
          "base_uri": "https://localhost:8080/",
          "height": 296
        },
        "id": "ph1JgJ-hJ5sO",
        "outputId": "97191c36-8139-4e27-bf68-9ad0e79a2d47"
      },
      "execution_count": 69,
      "outputs": [
        {
          "output_type": "display_data",
          "data": {
            "text/plain": [
              "<Figure size 432x288 with 1 Axes>"
            ],
            "image/png": "[encoded data removed]"
          },
          "metadata": {
            "needs_background": "light"
          }
        },
        {
          "output_type": "execute_result",
          "data": {
            "text/plain": [
              "1827.276545457999"
            ]
          },
          "metadata": {},
          "execution_count": 69
        }
      ]
    },
    {
      "cell_type": "code",
      "execution_count": 70,
      "metadata": {
        "colab": {
          "base_uri": "https://localhost:8080/"
        },
        "id": "dg5lXQgIRqir",
        "outputId": "36cf8434-58ab-437b-c2e2-7c007ce635f5"
      },
      "outputs": [
        {
          "output_type": "stream",
          "name": "stdout",
          "text": [
            "\n"
          ]
        },
        {
          "output_type": "execute_result",
          "data": {
            "text/plain": [
              "array([0, 1, 1, ..., 1, 1, 1], dtype=int32)"
            ]
          },
          "metadata": {},
          "execution_count": 70
        }
      ],
      "source": [
        "# points = [[0, 0], [0, 1], [0, 2], [0, 3]]\n",
        "# tree = KDTree(points)\n",
        "# neighbor_indices = nearby_points_indices(np.array(points), points[0], 0, tree)\n",
        "# neighbor_indices\n",
        "# print(DBSCAN(np.array(points), 1, 2))\n",
        "print()\n",
        "pred_labels = DBSCAN(data, epsilon=1820, min_points=42)\n",
        "pred_labels"
      ]
    },
    {
      "cell_type": "code",
      "source": [],
      "metadata": {
        "colab": {
          "base_uri": "https://localhost:8080/"
        },
        "id": "RmHtkq7zQZMM",
        "outputId": "eaec7ba8-44bf-4a15-97dc-f43516bb2846"
      },
      "execution_count": 68,
      "outputs": [
        {
          "output_type": "execute_result",
          "data": {
            "text/plain": [
              "1"
            ]
          },
          "metadata": {},
          "execution_count": 68
        }
      ]
    },
    {
      "cell_type": "markdown",
      "metadata": {
        "id": "105ONBP6CZbx"
      },
      "source": [
        "<a name=\"6\"></a>\n",
        "## 6- Clustering Evaluation"
      ]
    },
    {
      "cell_type": "code",
      "execution_count": 16,
      "metadata": {
        "id": "GuKFNtuTCjmp"
      },
      "outputs": [],
      "source": []
    }
  ],
  "metadata": {
    "colab": {
      "provenance": [],
      "include_colab_link": true
    },
    "kernelspec": {
      "display_name": "Python 3",
      "name": "python3"
    },
    "language_info": {
      "name": "python"
    }
  },
  "nbformat": 4,
  "nbformat_minor": 0
}