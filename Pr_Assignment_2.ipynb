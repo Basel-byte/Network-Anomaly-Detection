{
  "nbformat": 4,
  "nbformat_minor": 0,
  "metadata": {
    "colab": {
      "provenance": []
    },
    "kernelspec": {
      "name": "python3",
      "display_name": "Python 3"
    },
    "language_info": {
      "name": "python"
    }
  },
  "cells": [
    {
      "cell_type": "markdown",
      "metadata": {
        "id": "view-in-github"
      },
      "source": [
        "<a href=\"https://colab.research.google.com/github/Basel-byte/Network-Anomaly-Detection/blob/main/Pr_Assignment_2.ipynb\" target=\"_parent\"><img src=\"https://colab.research.google.com/assets/colab-badge.svg\" alt=\"Open In Colab\"/></a>"
      ]
    },
    {
      "cell_type": "markdown",
      "source": [
        "# Practice Lab: Clustering  \n",
        "\n",
        "In this exercise, we will know how K-Means and Normalized Cut algorithms can be used for network anomaly detection.\n",
        "\n",
        "# Outline\n",
        "- [ 1 - Extracting Dataset](#1)\n",
        "- [ 2 - Packages ](#2)\n",
        "- [ 3 - Reading data and Preprocessing](#3)\n",
        "  - [3.1 Reading Columns' Names](#3.1)\n",
        "  - [3.2 Reading dataset](#3.2)\n",
        "  - [3.3 Removing class column](#3.3)\n",
        "  - [3.4 Changing Categorical features to numericals](#3.4)\n",
        "  \n",
        "   \n",
        "- [ 4 - K-means](#4)\n",
        "- [ 5 - Spectral Clustering](#5)\n",
        "  - [5.1 Getting Laplacian and Degree Matrices](#5.1)\n",
        "  - [5.2 Spectral Clustering Algorithm](#5.2)\n",
        "- [ 6 - New Clustering Algorithm](#6)\n",
        "- [ 7 - Clustering Evaluation](#7)\n",
        "  - [ 7.1 - Getting Predicted labels](#7.1)\n",
        "  - [ 7.2 - Precision Measure](#7.2)\n",
        "  - [ 7.3 - Recall Measure7.3)\n",
        "  - [ 7.4 - F1 Measure](#7.4)\n",
        "  - [ 7.5 - Entropy Measure](#7.5)\n",
        "  \n",
        "\n",
        "  "
      ],
      "metadata": {
        "id": "rA6RmzKXUtpw"
      }
    },
    {
      "cell_type": "markdown",
      "source": [
        "<a name=\"1\"></a>\n",
        "## 1 - Extracting Dataset"
      ],
      "metadata": {
        "id": "bCvocyZI206f"
      }
    },
    {
      "cell_type": "code",
      "source": [
        "from google.colab import drive\n",
        "drive.mount('/content/drive')"
      ],
      "metadata": {
        "id": "5d5fTIlGDE6j",
        "outputId": "cb2f878a-513e-4283-98e6-cf0b6739fc8e",
        "colab": {
          "base_uri": "https://localhost:8080/"
        },
        "pycharm": {
          "is_executing": true
        }
      },
      "execution_count": 37,
      "outputs": [
        {
          "output_type": "stream",
          "name": "stdout",
          "text": [
            "Drive already mounted at /content/drive; to attempt to forcibly remount, call drive.mount(\"/content/drive\", force_remount=True).\n"
          ]
        }
      ]
    },
    {
      "cell_type": "code",
      "source": [
        "# do not run if you have unzipped the dataset\n",
        "!gzip -d /content/drive/MyDrive/kddcup.data.gz\n",
        "!gzip -d /content/drive/MyDrive/corrected.gz"
      ],
      "metadata": {
        "id": "FkFm0EkaZNP-",
        "colab": {
          "base_uri": "https://localhost:8080/"
        },
        "outputId": "2c94b85b-9fae-4d7d-800d-40b43d578973"
      },
      "execution_count": 2,
      "outputs": [
        {
          "output_type": "stream",
          "name": "stdout",
          "text": [
            "gzip: /content/drive/MyDrive/kddcup.data.gz: No such file or directory\n",
            "gzip: /content/drive/MyDrive/corrected.gz: No such file or directory\n"
          ]
        }
      ]
    },
    {
      "cell_type": "markdown",
      "source": [
        "<a name=\"2\"></a>\n",
        "## 2 - Packages \n",
        "\n",
        "First, let's run the cell below to import all the packages that you will need during this assignment.\n",
        "- [numpy](https://numpy.org/) is the fundamental package for scientific computing with Python.\n",
        "<!-- - [matplotlib](http://matplotlib.org) is a popular library to plot graphs in Python. -->\n",
        "<!-- - [tensorflow](https://www.tensorflow.org/) a popular platform for machine learning. -->\n",
        "- [pandas](https://pandas.pydata.org/) is open source data analysis and manipulation tool."
      ],
      "metadata": {
        "id": "nDbrePFpVTBq"
      }
    },
    {
      "cell_type": "code",
      "execution_count": 38,
      "metadata": {
        "id": "2tTmV2lQUsuN"
      },
      "outputs": [],
      "source": [
        "import numpy as np\n",
        "import pandas as pd\n",
        "import os\n",
        "import requests\n",
        "from enum import Enum\n",
        "import re\n",
        "from sklearn.model_selection import train_test_split\n",
        "from sklearn.metrics.pairwise import rbf_kernel\n",
        "from scipy.linalg import eigh\n",
        "from sklearn.metrics import precision_score\n",
        "from sklearn.metrics import recall_score\n",
        "from sklearn.metrics import f1_score\n",
        "from sklearn.metrics import mutual_info_score\n",
        "from scipy.stats import entropy\n",
        "from scipy.stats import mode"
      ]
    },
    {
      "cell_type": "markdown",
      "source": [
        "<a name=\"3\"></a>\n",
        "## 3 - Reading data and Preprocessing"
      ],
      "metadata": {
        "id": "QMgrr6i6WguO"
      }
    },
    {
      "cell_type": "markdown",
      "source": [
        "<a name=\"3.1\"></a>\n",
        "#### Reading columns' names "
      ],
      "metadata": {
        "id": "ENPDaqPivF6N"
      }
    },
    {
      "cell_type": "code",
      "source": [
        "DATASET_COLUMNS_FILE = \"/content/drive/MyDrive/kddcup1999_columns.txt\"\n",
        "column_types =[]\n",
        "\n",
        "with open(DATASET_COLUMNS_FILE, 'r') as file:\n",
        "    column_labels: str = file.read()\n",
        "\n",
        "column_regex: re.Pattern = re.compile(r\"^(?P<column_name>\\w+): (?P<data_type>\\w+)\\.$\")\n",
        "for column_type in column_labels.splitlines()[:]:\n",
        "    match = column_regex.match(column_type)\n",
        "    column_types.append(match.group(\"column_name\"))\n",
        "del column_labels"
      ],
      "metadata": {
        "id": "CL5Dg8HyctXU"
      },
      "execution_count": 39,
      "outputs": []
    },
    {
      "cell_type": "markdown",
      "source": [
        "<a name=\"3.2\"></a>\n",
        "#### Reading the training dataset"
      ],
      "metadata": {
        "id": "tFA3LIyQvOoR"
      }
    },
    {
      "cell_type": "code",
      "source": [
        "data = pd.read_csv(\"/content/drive/MyDrive/kddcup.data\", header=None)\n",
        "data.columns = column_types"
      ],
      "metadata": {
        "id": "VsdDQ3NzjWGx"
      },
      "execution_count": 40,
      "outputs": []
    },
    {
      "cell_type": "markdown",
      "source": [
        "<a name=\"3.3\"></a>\n",
        "#### Removing class column"
      ],
      "metadata": {
        "id": "Y3IBQQcqvW6a"
      }
    },
    {
      "cell_type": "code",
      "source": [
        "data_without_labels = data.drop(columns=[\"class\"])\n",
        "labels = data[\"class\"]\n",
        "del data\n",
        "del column_types"
      ],
      "metadata": {
        "id": "cfCpzpa7jsq8"
      },
      "execution_count": 41,
      "outputs": []
    },
    {
      "cell_type": "markdown",
      "source": [
        "<a name=\"3.4\"></a>\n",
        "### Change the categorical features to numericals"
      ],
      "metadata": {
        "id": "gefly5ZsvhUx"
      }
    },
    {
      "cell_type": "code",
      "source": [
        "def convert_string_to_numeric(data_frame):\n",
        "  # df_copy = data_frame.copy()\n",
        "  for col in data_frame:\n",
        "    if data_frame[col].dtypes == object:\n",
        "      my_dict = {elem: index for index, elem in enumerate(data_frame[col].unique())}\n",
        "      data_frame[col].replace(my_dict, inplace=True)\n",
        "  return data_frame"
      ],
      "metadata": {
        "id": "U-ctoA6ApH4a"
      },
      "execution_count": 42,
      "outputs": []
    },
    {
      "cell_type": "code",
      "source": [
        "def convert_string_to_binary_numeric(data_frame):\n",
        "  # df_copy = data_frame.copy()\n",
        "  for col in data_frame:\n",
        "    if data_frame[col].dtypes == object:\n",
        "      df1 = pd.get_dummies(data_frame[col])\n",
        "      data_frame = pd.concat([data_frame, df1], axis=1).reindex(data_frame.index)\n",
        "      data_frame.drop(col, axis=1, inplace=True)\n",
        "  return data_frame"
      ],
      "metadata": {
        "id": "J1ozKFVvCMZ0"
      },
      "execution_count": 43,
      "outputs": []
    },
    {
      "cell_type": "code",
      "source": [
        "# use either of them but not both\n",
        "# convert_string_to_numeric(data_without_labels.copy())\n",
        "\n",
        "data_without_labels = convert_string_to_binary_numeric(data_without_labels).values.astype(np.float32)"
      ],
      "metadata": {
        "id": "GWiaHM6REUUs"
      },
      "execution_count": 44,
      "outputs": []
    },
    {
      "cell_type": "markdown",
      "source": [
        "<a name=\"4\"></a>\n",
        "## 4 - K-means\n",
        "\n"
      ],
      "metadata": {
        "id": "dVHv5bCOwMmR"
      }
    },
    {
      "cell_type": "code",
      "source": [
        "def Kmeans(data_frame_no_label, k = 3):\n",
        "  return labels"
      ],
      "metadata": {
        "id": "N7ITN6miwTYZ"
      },
      "execution_count": 45,
      "outputs": []
    },
    {
      "cell_type": "markdown",
      "source": [
        "<a name=\"5\"></a>\n",
        "## 5 - Spectral clustering\n"
      ],
      "metadata": {
        "id": "LNl38qw_387c"
      }
    },
    {
      "cell_type": "markdown",
      "source": [
        "<a name=\"5.1\"> </a>\n",
        "### 5.1 Getting Laplacian and Similarity Matrices"
      ],
      "metadata": {
        "id": "0VDGOtaqqRRj"
      }
    },
    {
      "cell_type": "code",
      "source": [
        "def get_laplacian_degree(data_no_label, gamma=0.000000000005):\n",
        "  sim_matrix = rbf_kernel(data_no_label, gamma=gamma)\n",
        "  del data_no_label\n",
        "  np.fill_diagonal(sim_matrix, 0)\n",
        "  deg_matrix = np.sum(sim_matrix, axis=1)\n",
        "  np.fill_diagonal(sim_matrix, deg_matrix)\n",
        "  print(deg_matrix[deg_matrix == 0].shape, np.mean(deg_matrix))\n",
        "  return sim_matrix, np.diag(deg_matrix)"
      ],
      "metadata": {
        "id": "CvAxaiZzqbdU"
      },
      "execution_count": 46,
      "outputs": []
    },
    {
      "cell_type": "markdown",
      "source": [
        "<a name=\"5.2\"></a>\n",
        "### 5.2 Spectral Clustering Algorithm"
      ],
      "metadata": {
        "id": "orAwg9iFGhZU"
      }
    },
    {
      "cell_type": "code",
      "source": [
        "def spectral_clustering(data_no_label, k = 3):\n",
        "  data_no_label, dummy = train_test_split(data_no_label, train_size=0.0025, random_state=42, stratify=labels)\n",
        "  del dummy\n",
        "  laplacian_mat, degree_mat = get_laplacian_degree(data_no_label) # deg_mat is a vector\n",
        "  eigenvalues, eigenvectors = eigh(laplacian_mat, degree_mat)\n",
        "  del eigenvalues\n",
        "  eigenvectors = eigenvectors[:, :k] / np.linalg.norm(eigenvectors[:, :k], ord=2, axis=1, keepdims=True)\n",
        "  return Kmeans(eigenvectors, k)"
      ],
      "metadata": {
        "id": "KzXTLxZQDRwR"
      },
      "execution_count": 47,
      "outputs": []
    },
    {
      "cell_type": "markdown",
      "source": [
        "<a name=\"6\"></a> \n",
        "## 6-  New Clustering Algorithm"
      ],
      "metadata": {
        "id": "yY2uwUxKCJEb"
      }
    },
    {
      "cell_type": "code",
      "source": [
        "# def new_clustering_algorithm(data_frame_no_label, k = 3):\n",
        "  "
      ],
      "metadata": {
        "id": "PxogUrTMCY_T"
      },
      "execution_count": null,
      "outputs": []
    },
    {
      "cell_type": "markdown",
      "source": [
        "<a name=\"7\"></a>\n",
        "## 7- Clustering Evaluation"
      ],
      "metadata": {
        "id": "105ONBP6CZbx"
      }
    },
    {
      "cell_type": "markdown",
      "source": [
        "<a name=\"7.1\"></a>\n",
        "### 7.1 - getting predicted labels"
      ],
      "metadata": {
        "id": "PFYw4NR0mV8r"
      }
    },
    {
      "cell_type": "code",
      "source": [
        "c_labels = spectral_clustering(data_without_labels)"
      ],
      "metadata": {
        "colab": {
          "base_uri": "https://localhost:8080/"
        },
        "id": "FK1tBbVuom1y",
        "outputId": "549ee9c0-847d-4784-d829-d21f58dade73"
      },
      "execution_count": 49,
      "outputs": [
        {
          "output_type": "stream",
          "name": "stdout",
          "text": [
            "(0,) 12233.534\n"
          ]
        }
      ]
    },
    {
      "cell_type": "code",
      "source": [
        "# run this line in spectral clustering \n",
        "labels = train_test_split(labels, train_size=0.0025, random_state=42, stratify=labels)\n",
        "\n",
        "counts = np.unique(labels, return_counts=True)[1]"
      ],
      "metadata": {
        "id": "GuKFNtuTCjmp"
      },
      "execution_count": null,
      "outputs": []
    },
    {
      "cell_type": "code",
      "source": [
        "# the following is dummy data\n",
        "v = np.array([1, 2, 1, 0, 2, 1, 0, 1, 2, 2, 1, 0])\n",
        "c = np.array([0, 1, 1, 0, 2, 0, 0, 1, 2, 2, 1, 0])\n",
        "counts = np.unique(v, return_counts=True)[1]"
      ],
      "metadata": {
        "id": "NZI4Sq5XoYsW"
      },
      "execution_count": 50,
      "outputs": []
    },
    {
      "cell_type": "markdown",
      "source": [
        "<a name=\"7.2\"></a>\n",
        "### 7.2 - Precision Measure\n"
      ],
      "metadata": {
        "id": "dnyEgXUXpFcs"
      }
    },
    {
      "cell_type": "code",
      "source": [
        "def measure_recall(real_labels, predicted_labels):\n",
        "  sum = 0;\n",
        "  unique_predic = np.unique(predicted_labels)\n",
        "  for c_label in unique_predic:\n",
        "    cluster = real_labels[np.array(np.where(predicted_labels == c_label)[0].tolist())]\n",
        "    major_class = mode(cluster, axis=None, keepdims=True)\n",
        "    print(major_class.count[0] / counts[major_class.mode[0]])\n",
        "    sum += major_class.count[0] / counts[major_class.mode[0]]\n",
        "  return sum / unique_predic.size\n",
        "\n",
        "print(measure_recall(v, c), recall_score(v, c, average='macro'))"
      ],
      "metadata": {
        "id": "w9UIahaWw2kx",
        "colab": {
          "base_uri": "https://localhost:8080/"
        },
        "outputId": "547264a9-b377-4536-c84c-d7927e972ecb"
      },
      "execution_count": 51,
      "outputs": [
        {
          "output_type": "stream",
          "name": "stdout",
          "text": [
            "1.0\n",
            "0.6\n",
            "0.75\n",
            "0.7833333333333333 0.7833333333333333\n"
          ]
        }
      ]
    },
    {
      "cell_type": "markdown",
      "source": [
        "<a name=\"7.3\"></a>\n",
        "### 7.3 - Recall Measure"
      ],
      "metadata": {
        "id": "xJ7Pvo0aEhfx"
      }
    },
    {
      "cell_type": "code",
      "source": [
        "def measure_precision(real_labels, predicted_labels):\n",
        "  sum = 0;\n",
        "  unique_predic = np.unique(predicted_labels)\n",
        "  for c_label in unique_predic:\n",
        "    cluster = real_labels[np.array(np.where(predicted_labels == c_label)[0].tolist())]\n",
        "    major_class = mode(cluster, axis=None, keepdims=True)\n",
        "    print(major_class.count[0] / cluster.size)\n",
        "    sum += major_class.count[0] / cluster.size\n",
        "  return sum / unique_predic.size\n",
        "print(measure_precision(v, c), precision_score(v, c, average='macro'))"
      ],
      "metadata": {
        "colab": {
          "base_uri": "https://localhost:8080/"
        },
        "id": "0Av28cCbFH8l",
        "outputId": "7ae5c248-0552-422f-bccc-aa2c2f9b7296"
      },
      "execution_count": 52,
      "outputs": [
        {
          "output_type": "stream",
          "name": "stdout",
          "text": [
            "0.6\n",
            "0.75\n",
            "1.0\n",
            "0.7833333333333333 0.7833333333333333\n"
          ]
        }
      ]
    },
    {
      "cell_type": "markdown",
      "source": [
        "<a name=\"7.4\"></a>\n",
        "### 7.4 F1 Score"
      ],
      "metadata": {
        "id": "vdt7WpjtGxFb"
      }
    },
    {
      "cell_type": "code",
      "source": [
        "def measure_f1(real_labels, predicted_labels):\n",
        "  sum = 0;\n",
        "  unique_predic = np.unique(predicted_labels)\n",
        "  for c_label in unique_predic:\n",
        "    cluster = real_labels[np.array(np.where(predicted_labels == c_label)[0].tolist())]\n",
        "    major_class = mode(cluster, axis=None, keepdims=True)\n",
        "    print(major_class.count[0] / cluster.size, \", \", major_class.count[0] / counts[major_class.mode[0]])\n",
        "    recall = major_class.count[0] / counts[major_class.mode[0]]\n",
        "    precis = major_class.count[0] / cluster.size\n",
        "    sum += (2 * recall * precis) / (recall + precis)\n",
        "  return sum / unique_predic.size\n",
        "print(measure_f1(v, c), f1_score(v, c, average='macro'))"
      ],
      "metadata": {
        "colab": {
          "base_uri": "https://localhost:8080/"
        },
        "id": "L2XNGyWyG0e-",
        "outputId": "89bc237e-0d2c-43d6-dac4-a69730705499"
      },
      "execution_count": 84,
      "outputs": [
        {
          "output_type": "stream",
          "name": "stdout",
          "text": [
            "0.6 ,  1.0\n",
            "0.75 ,  0.6\n",
            "1.0 ,  0.75\n",
            "0.7579365079365079 0.7579365079365079\n"
          ]
        }
      ]
    },
    {
      "cell_type": "markdown",
      "source": [
        "<a name=\"7.5\"></a>\n",
        "### 7.5 Conditional Entropy"
      ],
      "metadata": {
        "id": "SPIX-NOVJVXb"
      }
    },
    {
      "cell_type": "code",
      "source": [
        "def measure_entropy(real_labels, predicted_labels):\n",
        "  class_entropy = entropy(real_labels, base=2)\n",
        "  return class_entropy - mutual_info_score(real_labels, predicted_labels)\n",
        "measure_entropy(v, c)"
      ],
      "metadata": {
        "colab": {
          "base_uri": "https://localhost:8080/"
        },
        "id": "ueV4MvSzJcty",
        "outputId": "3c3d9b43-965f-48f3-a032-ca19c41a6281"
      },
      "execution_count": 53,
      "outputs": [
        {
          "output_type": "execute_result",
          "data": {
            "text/plain": [
              "2.4753653518164693"
            ]
          },
          "metadata": {},
          "execution_count": 53
        }
      ]
    }
  ]
}